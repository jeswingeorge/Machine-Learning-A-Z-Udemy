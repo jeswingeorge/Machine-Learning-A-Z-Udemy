{
 "cells": [
  {
   "cell_type": "markdown",
   "metadata": {},
   "source": [
    "# Hierarchical clustering\n",
    "\n",
    "![](images\\15.PNG)"
   ]
  },
  {
   "cell_type": "markdown",
   "metadata": {},
   "source": [
    "There are two types of hierarchical clustering:\n",
    "1. __Agglomerative__ - Bottom up approach  \n",
    "2. __Divisive__ - Start at top and divide into cluster\n",
    "\n",
    "![](images\\16.PNG)"
   ]
  },
  {
   "cell_type": "markdown",
   "metadata": {},
   "source": [
    "### Euclidean distance\n",
    "![](images\\17.PNG)"
   ]
  },
  {
   "cell_type": "markdown",
   "metadata": {},
   "source": [
    "### Distance between 2 clusters\n",
    "It is very important to determine the distance between two clusters as it can significantally decide the output of the hierarchical clustering.\n",
    "\n",
    "![](images\\18.PNG)"
   ]
  },
  {
   "cell_type": "markdown",
   "metadata": {},
   "source": [
    "![](images\\20.PNG)"
   ]
  },
  {
   "cell_type": "markdown",
   "metadata": {},
   "source": [
    "The way hierarchical clustering algorithm works is that it maintains in memory how we went through this process and that memory is stored in __Dendograms__.\n",
    "\n",
    "Also remember, the distance between two points also measures the dissimilarity between two points.\n",
    "\n",
    "## How do Dendograms works?\n",
    "\n",
    "We will use chart in the LHS to create a Dendogram in the RHS using the Hierarchical clustering algorithm.\n",
    "\n",
    "![](images\\21.PNG)"
   ]
  },
  {
   "cell_type": "markdown",
   "metadata": {},
   "source": [
    "Use Dendogram to get best value for HC - we can set distance threshold or dissimilarity threshold. So within a cluster we dont want to have points having distance more than the distance threshold.\n",
    "\n",
    "In the example used aboe lets take a distance threshold of 1.75.\n",
    "\n",
    "![](images\\22.png)\n",
    "\n",
    "From figure, we can tell how many clusters we will have on a certain threshold based on how many vertical lines this threshold line crosses.\n",
    "\n",
    "Now lets lower the threshold level such that the horizontal line passes through multiple vertical lines such that we get 4 clusters.\n",
    "\n",
    "![](images\\23.PNG)"
   ]
  },
  {
   "cell_type": "markdown",
   "metadata": {},
   "source": [
    "Now lets say if we reduce the threshold even further and we get 6 clusters\n",
    "\n",
    "![](images\\24.PNG)"
   ]
  },
  {
   "cell_type": "markdown",
   "metadata": {},
   "source": [
    "Threshold level or number of clusters decided based on business requirements."
   ]
  },
  {
   "cell_type": "code",
   "execution_count": null,
   "metadata": {},
   "outputs": [],
   "source": []
  },
  {
   "cell_type": "code",
   "execution_count": null,
   "metadata": {},
   "outputs": [],
   "source": []
  }
 ],
 "metadata": {
  "kernelspec": {
   "display_name": "Python 3",
   "language": "python",
   "name": "python3"
  },
  "language_info": {
   "codemirror_mode": {
    "name": "ipython",
    "version": 3
   },
   "file_extension": ".py",
   "mimetype": "text/x-python",
   "name": "python",
   "nbconvert_exporter": "python",
   "pygments_lexer": "ipython3",
   "version": "3.7.6"
  }
 },
 "nbformat": 4,
 "nbformat_minor": 4
}
