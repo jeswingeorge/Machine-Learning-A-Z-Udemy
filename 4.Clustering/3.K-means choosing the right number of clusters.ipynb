{
 "cells": [
  {
   "cell_type": "markdown",
   "metadata": {},
   "source": [
    "# Choosing the right number of clusters\n",
    "\n",
    "Learn to choose the right number of clusters to be inputted to K-means cluster algo.\n",
    "\n",
    "A metric to check how a certain number of clusters perform in comparsion to another number of clusters. This metric is qunatifiable and the metric used on the clustering algorithms to know about our final results performance. This metric is known as __WCSS(Within clusters sum of squares)__.\n",
    "![](images\\11.PNG)"
   ]
  },
  {
   "cell_type": "markdown",
   "metadata": {},
   "source": [
    "![](images\\12.png)"
   ]
  },
  {
   "cell_type": "markdown",
   "metadata": {},
   "source": [
    "We can have the same number of clusters as the data points. \n",
    "\n",
    "But if we have the same number of clusters as the datapoints then WCSS will be zero as every point will have its owner cluster. \n",
    "\n",
    "So how to find the optimum value of WCSS or in turn we have to find the optimum value of number of centroids.\n",
    "\n",
    "![](images\\13.PNG)"
   ]
  },
  {
   "cell_type": "markdown",
   "metadata": {},
   "source": [
    "As you can see the 1st 2 improvements/changes from 1 to 2 to 3 clusters drops to give a huge drop in WCSS. After that the change with change in the number of clusters the change in WCSS is not substantial. So this is our hint to search for the optimum number of clusters here, in this region i.e, after the 3 clusters.\n",
    "\n",
    "The method used is __the Elbow method__ and its quite visual. Take the point which can be observed like an elbow in the graph.\n",
    "\n",
    "![](images\\14.PNG)"
   ]
  },
  {
   "cell_type": "markdown",
   "metadata": {},
   "source": [
    "But this is quite aribitrary and the number of clusters vs WCSS will vary from problem to problem so the correct number of clusters we have to take up based on our experience as Data scientist. As we will be inputting the value of K based on experience and take a judgement."
   ]
  }
 ],
 "metadata": {
  "kernelspec": {
   "display_name": "Python 3",
   "language": "python",
   "name": "python3"
  },
  "language_info": {
   "codemirror_mode": {
    "name": "ipython",
    "version": 3
   },
   "file_extension": ".py",
   "mimetype": "text/x-python",
   "name": "python",
   "nbconvert_exporter": "python",
   "pygments_lexer": "ipython3",
   "version": "3.7.6"
  }
 },
 "nbformat": 4,
 "nbformat_minor": 4
}
