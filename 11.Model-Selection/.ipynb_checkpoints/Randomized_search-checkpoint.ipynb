{
 "cells": [
  {
   "cell_type": "markdown",
   "metadata": {},
   "source": [
    "# Randomized Search\n",
    "\n",
    "- Why is it better?\n",
    "- How does it find the maxima for a metric?\n",
    "\n",
    "\n",
    "No complex mathematics behind how Ranomized search find the global maxima for accuracies score. So how does it find out the global maxima values can be found out using simple probability calculations.\n",
    "\n",
    "Calculation is based on the approximation that any distribution which has a finite maxima: __the maximum of 60 random observations lie within the top 5% of the true maxima with 95% probability__. \n",
    "\n",
    "Lets say we have 100 values of accuracy scores: lets assume we know for sure that the maximum score we have is 96% or 0.96 and so there will be other accuracy score closer to this values say 0.95, 0.94, 0.942, 0.93, 0.938, etc.  We will define something called the __5% interval around the maximum__. \n",
    "\n",
    "Now lets sample some points from the 100 points and we have to check whether the sample points lie in the 5% interval around the maximum.\n",
    "\n",
    "__If I take one random accuracy then the probability of that random point lying in the 5% interval is 0.05.__ \n",
    "\n",
    "$$ P = \\frac{5}{100}  = 0.05$$ \n",
    "\n",
    "\n",
    "So we want our samplr to lie in top 5% value then the probability that the random accuracy point will liwe there is 0.05. Similarly if we draw n points randomly and independently then the probability of the n points missing the 5% interval is:\n",
    "\n",
    "$$(1 - 0.05)^n$$"
   ]
  },
  {
   "cell_type": "markdown",
   "metadata": {},
   "source": [
    "If we want our global maxima to be part of this sampling that is done then \n",
    "\n",
    "$$ 1 - (1 - 0.05)^n $$\n",
    "\n",
    "is probability of selecting 1 out of the draw of  samples.\n",
    "\n",
    "So Probability of getting the global maxima must be:\n",
    "\n",
    "$$ (1 - (1 -  0.05)^n) > 0.95 $$\n",
    "\n",
    "$$  (0.95)^n > 0.05 $$\n",
    "\n",
    "$$ n*log(0.95) > log10(0.05) $$\n",
    "\n",
    "$$ n > \\frac{log(0.05)}{log(0.95)} $$\n",
    "\n",
    "$$ n > 59 $$\n",
    "\n",
    "So this implies if we select 60 accuracies from a accuracy distribution of 100 samples randomly then there is 95% chance that we will end up at the top 5% interval of maximas which are present.\n",
    "\n"
   ]
  },
  {
   "cell_type": "markdown",
   "metadata": {},
   "source": [
    "So if we have hyperparameter combinations given to us that are greater than 60 then we can use RandomSearch to converge at the top 5% interval of accuracy score maxima."
   ]
  },
  {
   "cell_type": "code",
   "execution_count": 1,
   "metadata": {},
   "outputs": [],
   "source": [
    "import pandas as pd \n",
    "import numpy as np \n",
    "import matplotlib.pyplot as plt \n",
    "%matplotlib inline \n",
    "import warnings\n",
    "warnings.filterwarnings(\"ignore\") \n",
    "\n",
    "from sklearn import metrics, preprocessing, tree \n",
    "from sklearn.metrics import f1_score, make_scorer \n",
    "from sklearn.model_selection import cross_val_score \n",
    "from sklearn.model_selection import GridSearchCV, RandomizedSearchCV \n",
    "from sklearn.model_selection import train_test_split \n",
    "import time"
   ]
  },
  {
   "cell_type": "code",
   "execution_count": 2,
   "metadata": {},
   "outputs": [],
   "source": [
    "# Used to measure the time between 2 function calls\n",
    "# will be used to determine difference in time taken between gridsearchCV and randomsearchCV\n",
    "def timeit(method):\n",
    "    def timed(*args, **kw):\n",
    "        ts = time.time()\n",
    "        result = method(*args, **kw)\n",
    "        te = time.time()\n",
    "        if 'log_time' in kw:\n",
    "            name = kw.get('log_name', method.__name__.upper())\n",
    "            kw['log_time'][name] = int((te - ts) * 1000)\n",
    "        else:\n",
    "            print('%r  %2.2f ms' % \\\n",
    "                  (method.__name__, (te - ts) * 1000))\n",
    "        return result\n",
    "    return timed"
   ]
  },
  {
   "cell_type": "markdown",
   "metadata": {},
   "source": [
    "### Classification problem"
   ]
  },
  {
   "cell_type": "code",
   "execution_count": 3,
   "metadata": {},
   "outputs": [
    {
     "data": {
      "text/html": [
       "<div>\n",
       "<style scoped>\n",
       "    .dataframe tbody tr th:only-of-type {\n",
       "        vertical-align: middle;\n",
       "    }\n",
       "\n",
       "    .dataframe tbody tr th {\n",
       "        vertical-align: top;\n",
       "    }\n",
       "\n",
       "    .dataframe thead th {\n",
       "        text-align: right;\n",
       "    }\n",
       "</style>\n",
       "<table border=\"1\" class=\"dataframe\">\n",
       "  <thead>\n",
       "    <tr style=\"text-align: right;\">\n",
       "      <th></th>\n",
       "      <th>ApplicantIncome</th>\n",
       "      <th>CoapplicantIncome</th>\n",
       "      <th>LoanAmount</th>\n",
       "      <th>Loan_Amount_Term</th>\n",
       "      <th>Credit_History</th>\n",
       "      <th>Loan_Status</th>\n",
       "    </tr>\n",
       "  </thead>\n",
       "  <tbody>\n",
       "    <tr>\n",
       "      <th>0</th>\n",
       "      <td>5849</td>\n",
       "      <td>0.0</td>\n",
       "      <td>0.0</td>\n",
       "      <td>360.0</td>\n",
       "      <td>1.0</td>\n",
       "      <td>1</td>\n",
       "    </tr>\n",
       "    <tr>\n",
       "      <th>1</th>\n",
       "      <td>4583</td>\n",
       "      <td>1508.0</td>\n",
       "      <td>128.0</td>\n",
       "      <td>360.0</td>\n",
       "      <td>1.0</td>\n",
       "      <td>0</td>\n",
       "    </tr>\n",
       "    <tr>\n",
       "      <th>2</th>\n",
       "      <td>3000</td>\n",
       "      <td>0.0</td>\n",
       "      <td>66.0</td>\n",
       "      <td>360.0</td>\n",
       "      <td>1.0</td>\n",
       "      <td>1</td>\n",
       "    </tr>\n",
       "    <tr>\n",
       "      <th>3</th>\n",
       "      <td>2583</td>\n",
       "      <td>2358.0</td>\n",
       "      <td>120.0</td>\n",
       "      <td>360.0</td>\n",
       "      <td>1.0</td>\n",
       "      <td>1</td>\n",
       "    </tr>\n",
       "    <tr>\n",
       "      <th>4</th>\n",
       "      <td>6000</td>\n",
       "      <td>0.0</td>\n",
       "      <td>141.0</td>\n",
       "      <td>360.0</td>\n",
       "      <td>1.0</td>\n",
       "      <td>1</td>\n",
       "    </tr>\n",
       "  </tbody>\n",
       "</table>\n",
       "</div>"
      ],
      "text/plain": [
       "   ApplicantIncome  CoapplicantIncome  LoanAmount  Loan_Amount_Term  \\\n",
       "0             5849                0.0         0.0             360.0   \n",
       "1             4583             1508.0       128.0             360.0   \n",
       "2             3000                0.0        66.0             360.0   \n",
       "3             2583             2358.0       120.0             360.0   \n",
       "4             6000                0.0       141.0             360.0   \n",
       "\n",
       "   Credit_History  Loan_Status  \n",
       "0             1.0            1  \n",
       "1             1.0            0  \n",
       "2             1.0            1  \n",
       "3             1.0            1  \n",
       "4             1.0            1  "
      ]
     },
     "execution_count": 3,
     "metadata": {},
     "output_type": "execute_result"
    }
   ],
   "source": [
    "file_loc = 'loan_prediction.csv'\n",
    "df = pd.read_csv(file_loc)\n",
    "df.head()"
   ]
  },
  {
   "cell_type": "code",
   "execution_count": 4,
   "metadata": {},
   "outputs": [
    {
     "data": {
      "text/plain": [
       "(614, 6)"
      ]
     },
     "execution_count": 4,
     "metadata": {},
     "output_type": "execute_result"
    }
   ],
   "source": [
    "df.shape"
   ]
  },
  {
   "cell_type": "code",
   "execution_count": 5,
   "metadata": {},
   "outputs": [],
   "source": [
    "from sklearn.tree import DecisionTreeClassifier as dt\n",
    "clf = dt()"
   ]
  },
  {
   "cell_type": "code",
   "execution_count": 6,
   "metadata": {},
   "outputs": [
    {
     "data": {
      "text/plain": [
       "(614, 5)"
      ]
     },
     "execution_count": 6,
     "metadata": {},
     "output_type": "execute_result"
    }
   ],
   "source": [
    "clf # default parameters\n",
    "X = df.iloc[:,0:len(df.columns)-1].values\n",
    "Y = df.iloc[:,-1].values\n",
    "X.shape"
   ]
  },
  {
   "cell_type": "code",
   "execution_count": 7,
   "metadata": {},
   "outputs": [
    {
     "data": {
      "text/plain": [
       "(614,)"
      ]
     },
     "execution_count": 7,
     "metadata": {},
     "output_type": "execute_result"
    }
   ],
   "source": [
    "Y.shape"
   ]
  },
  {
   "cell_type": "code",
   "execution_count": 8,
   "metadata": {},
   "outputs": [
    {
     "data": {
      "text/plain": [
       "(460, 5)"
      ]
     },
     "execution_count": 8,
     "metadata": {},
     "output_type": "execute_result"
    }
   ],
   "source": [
    "X_train,X_test,Y_train,Y_test = train_test_split(X, Y, test_size=0.25, random_state=0)\n",
    "X_train.shape"
   ]
  },
  {
   "cell_type": "code",
   "execution_count": 9,
   "metadata": {},
   "outputs": [
    {
     "data": {
      "text/plain": [
       "(154, 5)"
      ]
     },
     "execution_count": 9,
     "metadata": {},
     "output_type": "execute_result"
    }
   ],
   "source": [
    "X_test.shape"
   ]
  },
  {
   "cell_type": "markdown",
   "metadata": {},
   "source": [
    "Applying k-fold cross-validation"
   ]
  },
  {
   "cell_type": "code",
   "execution_count": 10,
   "metadata": {},
   "outputs": [
    {
     "data": {
      "text/plain": [
       "0.6220550898283571"
      ]
     },
     "execution_count": 10,
     "metadata": {},
     "output_type": "execute_result"
    }
   ],
   "source": [
    "scores = cross_val_score(clf, X_train, Y_train, cv=5, scoring='f1_macro') # 5 folds\n",
    "scores.mean() # score is less"
   ]
  },
  {
   "cell_type": "code",
   "execution_count": 11,
   "metadata": {},
   "outputs": [
    {
     "data": {
      "text/plain": [
       "DecisionTreeClassifier(ccp_alpha=0.0, class_weight=None, criterion='gini',\n",
       "                       max_depth=None, max_features=None, max_leaf_nodes=None,\n",
       "                       min_impurity_decrease=0.0, min_impurity_split=None,\n",
       "                       min_samples_leaf=1, min_samples_split=2,\n",
       "                       min_weight_fraction_leaf=0.0, presort='deprecated',\n",
       "                       random_state=None, splitter='best')"
      ]
     },
     "execution_count": 11,
     "metadata": {},
     "output_type": "execute_result"
    }
   ],
   "source": [
    "# Fit the model\n",
    "clf.fit(X_train, Y_train)"
   ]
  },
  {
   "cell_type": "code",
   "execution_count": 12,
   "metadata": {},
   "outputs": [
    {
     "data": {
      "text/plain": [
       "DecisionTreeClassifier(ccp_alpha=0.0, class_weight=None, criterion='gini',\n",
       "                       max_depth=None, max_features=None, max_leaf_nodes=None,\n",
       "                       min_impurity_decrease=0.0, min_impurity_split=None,\n",
       "                       min_samples_leaf=1, min_samples_split=2,\n",
       "                       min_weight_fraction_leaf=0.0, presort='deprecated',\n",
       "                       random_state=None, splitter='best')"
      ]
     },
     "execution_count": 12,
     "metadata": {},
     "output_type": "execute_result"
    }
   ],
   "source": [
    "# Make predictions\n",
    "train_predictions = clf.predict(X_train)\n",
    "test_predictions = clf.predict(X_test)\n",
    "clf"
   ]
  },
  {
   "cell_type": "code",
   "execution_count": 13,
   "metadata": {},
   "outputs": [
    {
     "name": "stdout",
     "output_type": "stream",
     "text": [
      "The Training F1 Score is 1.0\n",
      "The Testing F1 Score is 0.7557603686635945\n"
     ]
    }
   ],
   "source": [
    "train_cols = df.columns[0:len(df.columns)-1]\n",
    "target_cols = df.columns[-1]\n",
    "print('The Training F1 Score is', f1_score(train_predictions, Y_train))\n",
    "print('The Testing F1 Score is', f1_score(test_predictions, Y_test))"
   ]
  },
  {
   "cell_type": "code",
   "execution_count": 14,
   "metadata": {},
   "outputs": [],
   "source": [
    "parameters = {'max_depth':[1,2,3,4,5], 'min_samples_leaf':[1,2,3,4,5], 'min_samples_split':[2,3,4,5],\n",
    "              'criterion' : ['gini','entropy']}\n",
    "scorer = make_scorer(f1_score)"
   ]
  },
  {
   "cell_type": "code",
   "execution_count": 16,
   "metadata": {},
   "outputs": [],
   "source": [
    "@timeit   # decorator to find the time that the function will take to execute\n",
    "def generate_clf_from_search(grid_or_random, clf, parameters, scorer, X, y):\n",
    "    if grid_or_random == \"Grid\":\n",
    "        search_obj = GridSearchCV(clf, parameters, scoring=scorer)\n",
    "    elif grid_or_random == \"Random\":\n",
    "        search_obj = RandomizedSearchCV(clf, parameters, scoring=scorer)\n",
    "    fit_obj = search_obj.fit(X, y)\n",
    "    best_clf = fit_obj.best_estimator_\n",
    "    return best_clf, search_obj, fit_obj"
   ]
  },
  {
   "cell_type": "code",
   "execution_count": 17,
   "metadata": {},
   "outputs": [
    {
     "name": "stdout",
     "output_type": "stream",
     "text": [
      "'generate_clf_from_search'  2753.54 ms\n"
     ]
    }
   ],
   "source": [
    "best_clf_grid, search, fit = generate_clf_from_search(\"Grid\", clf, parameters, scorer, X_train, Y_train)"
   ]
  },
  {
   "cell_type": "code",
   "execution_count": 18,
   "metadata": {},
   "outputs": [
    {
     "data": {
      "text/plain": [
       "{'criterion': 'gini',\n",
       " 'max_depth': 1,\n",
       " 'min_samples_leaf': 1,\n",
       " 'min_samples_split': 2}"
      ]
     },
     "execution_count": 18,
     "metadata": {},
     "output_type": "execute_result"
    }
   ],
   "source": [
    "fit.cv_results_['params'][0]"
   ]
  },
  {
   "cell_type": "code",
   "execution_count": 19,
   "metadata": {},
   "outputs": [
    {
     "data": {
      "text/plain": [
       "0.8352478344185247"
      ]
     },
     "execution_count": 19,
     "metadata": {},
     "output_type": "execute_result"
    }
   ],
   "source": [
    "fit.cv_results_['mean_test_score'][0]"
   ]
  },
  {
   "cell_type": "markdown",
   "metadata": {},
   "source": [
    "Now lets look at what values are there for different levels of hyperparameters.  We had a total of 200 decision trees and all corresponding decision trees have these corresponding accuracy_score."
   ]
  },
  {
   "cell_type": "code",
   "execution_count": 20,
   "metadata": {},
   "outputs": [
    {
     "data": {
      "text/plain": [
       "array([0.83524783, 0.83524783, 0.83524783, 0.83524783, 0.83524783,\n",
       "       0.83524783, 0.83524783, 0.83524783, 0.83524783, 0.83524783,\n",
       "       0.83524783, 0.83524783, 0.83524783, 0.83524783, 0.83524783,\n",
       "       0.83524783, 0.83524783, 0.83524783, 0.83524783, 0.83524783,\n",
       "       0.82968609, 0.82968609, 0.82968609, 0.82968609, 0.82968609,\n",
       "       0.82968609, 0.82968609, 0.82968609, 0.82842572, 0.82842572,\n",
       "       0.82968609, 0.82968609, 0.82842572, 0.82968609, 0.82842572,\n",
       "       0.82968609, 0.83355059, 0.83355059, 0.83355059, 0.83355059,\n",
       "       0.83020689, 0.83020689, 0.83020689, 0.83020689, 0.82842572,\n",
       "       0.82842572, 0.82842572, 0.82842572, 0.82716536, 0.82842572,\n",
       "       0.82716536, 0.82716536, 0.82842572, 0.82842572, 0.82842572,\n",
       "       0.82842572, 0.83387705, 0.83387705, 0.83387705, 0.83387705,\n",
       "       0.81104158, 0.81104158, 0.81104158, 0.81104158, 0.81163333,\n",
       "       0.81163333, 0.81289021, 0.81163333, 0.80859512, 0.80859512,\n",
       "       0.80732677, 0.80732677, 0.80732677, 0.80732677, 0.80732677,\n",
       "       0.80732677, 0.80973712, 0.80973712, 0.80973712, 0.80973712,\n",
       "       0.79630878, 0.79630878, 0.79630878, 0.79630878, 0.79770552,\n",
       "       0.79644583, 0.79644583, 0.79717639, 0.80004968, 0.80004968,\n",
       "       0.80137842, 0.80084528, 0.79801213, 0.79743699, 0.796708  ,\n",
       "       0.796708  , 0.80091755, 0.80091755, 0.7996587 , 0.7996587 ,\n",
       "       0.83524783, 0.83524783, 0.83524783, 0.83524783, 0.83524783,\n",
       "       0.83524783, 0.83524783, 0.83524783, 0.83524783, 0.83524783,\n",
       "       0.83524783, 0.83524783, 0.83524783, 0.83524783, 0.83524783,\n",
       "       0.83524783, 0.83524783, 0.83524783, 0.83524783, 0.83524783,\n",
       "       0.8289797 , 0.8289797 , 0.8289797 , 0.8289797 , 0.8289797 ,\n",
       "       0.8289797 , 0.8289797 , 0.8289797 , 0.8289797 , 0.8289797 ,\n",
       "       0.8289797 , 0.8289797 , 0.8289797 , 0.8289797 , 0.8289797 ,\n",
       "       0.8289797 , 0.83273952, 0.83273952, 0.83273952, 0.83273952,\n",
       "       0.82357922, 0.82357922, 0.82357922, 0.82357922, 0.82357922,\n",
       "       0.82357922, 0.82357922, 0.82357922, 0.82357922, 0.82357922,\n",
       "       0.82357922, 0.82357922, 0.82357922, 0.82357922, 0.82357922,\n",
       "       0.82357922, 0.82730059, 0.82730059, 0.82730059, 0.82730059,\n",
       "       0.81413729, 0.81285797, 0.81413729, 0.81285797, 0.81063226,\n",
       "       0.81063226, 0.81063226, 0.81063226, 0.80813234, 0.80813234,\n",
       "       0.80813234, 0.80813234, 0.80813234, 0.80813234, 0.80813234,\n",
       "       0.80813234, 0.81347816, 0.81347816, 0.81347816, 0.81347816,\n",
       "       0.80090649, 0.80206298, 0.80206298, 0.80206298, 0.80552452,\n",
       "       0.80552452, 0.80552452, 0.80552452, 0.8053591 , 0.80490575,\n",
       "       0.8053591 , 0.80490575, 0.8092575 , 0.80971085, 0.8092575 ,\n",
       "       0.80971085, 0.81274908, 0.81274908, 0.81147424, 0.81274908])"
      ]
     },
     "execution_count": 20,
     "metadata": {},
     "output_type": "execute_result"
    }
   ],
   "source": [
    "fit.cv_results_['mean_test_score']"
   ]
  },
  {
   "cell_type": "code",
   "execution_count": 21,
   "metadata": {},
   "outputs": [
    {
     "data": {
      "text/plain": [
       "200"
      ]
     },
     "execution_count": 21,
     "metadata": {},
     "output_type": "execute_result"
    }
   ],
   "source": [
    "len(fit.cv_results_['mean_test_score'])"
   ]
  },
  {
   "cell_type": "markdown",
   "metadata": {},
   "source": [
    "So observe there are 200 such decision trees obtained using the hyperparameters. Saving all these 200 accuracy values to a numpy array."
   ]
  },
  {
   "cell_type": "code",
   "execution_count": 22,
   "metadata": {},
   "outputs": [],
   "source": [
    "out_f1_values = fit.cv_results_['mean_test_score']"
   ]
  },
  {
   "cell_type": "code",
   "execution_count": 23,
   "metadata": {},
   "outputs": [],
   "source": [
    "out_f1_values.sort()"
   ]
  },
  {
   "cell_type": "code",
   "execution_count": 24,
   "metadata": {},
   "outputs": [
    {
     "data": {
      "text/plain": [
       "array([0.79630878, 0.79630878, 0.79630878, 0.79630878, 0.79644583,\n",
       "       0.79644583, 0.796708  , 0.796708  , 0.79717639, 0.79743699,\n",
       "       0.79770552, 0.79801213, 0.7996587 , 0.7996587 , 0.80004968,\n",
       "       0.80004968, 0.80084528, 0.80090649, 0.80091755, 0.80091755,\n",
       "       0.80137842, 0.80206298, 0.80206298, 0.80206298, 0.80490575,\n",
       "       0.80490575, 0.8053591 , 0.8053591 , 0.80552452, 0.80552452,\n",
       "       0.80552452, 0.80552452, 0.80732677, 0.80732677, 0.80732677,\n",
       "       0.80732677, 0.80732677, 0.80732677, 0.80813234, 0.80813234,\n",
       "       0.80813234, 0.80813234, 0.80813234, 0.80813234, 0.80813234,\n",
       "       0.80813234, 0.80859512, 0.80859512, 0.8092575 , 0.8092575 ,\n",
       "       0.80971085, 0.80971085, 0.80973712, 0.80973712, 0.80973712,\n",
       "       0.80973712, 0.81063226, 0.81063226, 0.81063226, 0.81063226,\n",
       "       0.81104158, 0.81104158, 0.81104158, 0.81104158, 0.81147424,\n",
       "       0.81163333, 0.81163333, 0.81163333, 0.81274908, 0.81274908,\n",
       "       0.81274908, 0.81285797, 0.81285797, 0.81289021, 0.81347816,\n",
       "       0.81347816, 0.81347816, 0.81347816, 0.81413729, 0.81413729,\n",
       "       0.82357922, 0.82357922, 0.82357922, 0.82357922, 0.82357922,\n",
       "       0.82357922, 0.82357922, 0.82357922, 0.82357922, 0.82357922,\n",
       "       0.82357922, 0.82357922, 0.82357922, 0.82357922, 0.82357922,\n",
       "       0.82357922, 0.82716536, 0.82716536, 0.82716536, 0.82730059,\n",
       "       0.82730059, 0.82730059, 0.82730059, 0.82842572, 0.82842572,\n",
       "       0.82842572, 0.82842572, 0.82842572, 0.82842572, 0.82842572,\n",
       "       0.82842572, 0.82842572, 0.82842572, 0.82842572, 0.82842572,\n",
       "       0.82842572, 0.8289797 , 0.8289797 , 0.8289797 , 0.8289797 ,\n",
       "       0.8289797 , 0.8289797 , 0.8289797 , 0.8289797 , 0.8289797 ,\n",
       "       0.8289797 , 0.8289797 , 0.8289797 , 0.8289797 , 0.8289797 ,\n",
       "       0.8289797 , 0.8289797 , 0.82968609, 0.82968609, 0.82968609,\n",
       "       0.82968609, 0.82968609, 0.82968609, 0.82968609, 0.82968609,\n",
       "       0.82968609, 0.82968609, 0.82968609, 0.82968609, 0.83020689,\n",
       "       0.83020689, 0.83020689, 0.83020689, 0.83273952, 0.83273952,\n",
       "       0.83273952, 0.83273952, 0.83355059, 0.83355059, 0.83355059,\n",
       "       0.83355059, 0.83387705, 0.83387705, 0.83387705, 0.83387705,\n",
       "       0.83524783, 0.83524783, 0.83524783, 0.83524783, 0.83524783,\n",
       "       0.83524783, 0.83524783, 0.83524783, 0.83524783, 0.83524783,\n",
       "       0.83524783, 0.83524783, 0.83524783, 0.83524783, 0.83524783,\n",
       "       0.83524783, 0.83524783, 0.83524783, 0.83524783, 0.83524783,\n",
       "       0.83524783, 0.83524783, 0.83524783, 0.83524783, 0.83524783,\n",
       "       0.83524783, 0.83524783, 0.83524783, 0.83524783, 0.83524783,\n",
       "       0.83524783, 0.83524783, 0.83524783, 0.83524783, 0.83524783,\n",
       "       0.83524783, 0.83524783, 0.83524783, 0.83524783, 0.83524783])"
      ]
     },
     "execution_count": 24,
     "metadata": {},
     "output_type": "execute_result"
    }
   ],
   "source": [
    "out_f1_values"
   ]
  },
  {
   "cell_type": "code",
   "execution_count": 25,
   "metadata": {},
   "outputs": [
    {
     "data": {
      "text/plain": [
       "[<matplotlib.lines.Line2D at 0x224dca2a408>]"
      ]
     },
     "execution_count": 25,
     "metadata": {},
     "output_type": "execute_result"
    },
    {
     "data": {
      "image/png": "[encoded data removed]",
      "text/plain": [
       "<Figure size 432x288 with 1 Axes>"
      ]
     },
     "metadata": {
      "needs_background": "light"
     },
     "output_type": "display_data"
    }
   ],
   "source": [
    "plt.plot(out_f1_values)"
   ]
  },
  {
   "cell_type": "markdown",
   "metadata": {},
   "source": [
    "Plotted the values using matplotlib. So as discuused we want our samples to lie in the 5% intervals of the maximas.\n",
    "\n",
    "To simulate the same behaviour we use a function called [np.random.choice()](https://het.as.utexas.edu/HET/Software/Numpy/reference/generated/numpy.random.choice.html). We want only 61 values as from above we want only 60 independant trials or samples generated from our data."
   ]
  },
  {
   "cell_type": "code",
   "execution_count": 27,
   "metadata": {},
   "outputs": [],
   "source": [
    "r_values = np.random.choice(out_f1_values, 61, replace = False)"
   ]
  },
  {
   "cell_type": "code",
   "execution_count": 28,
   "metadata": {},
   "outputs": [
    {
     "data": {
      "text/plain": [
       "array([0.83020689, 0.83524783, 0.796708  , 0.82357922, 0.82842572,\n",
       "       0.83524783, 0.81413729, 0.80206298, 0.83524783, 0.82842572,\n",
       "       0.7996587 , 0.82968609, 0.83355059, 0.82968609, 0.83524783,\n",
       "       0.80973712, 0.80859512, 0.80813234, 0.83273952, 0.80490575,\n",
       "       0.82842572, 0.82357922, 0.82842572, 0.8289797 , 0.81104158,\n",
       "       0.82357922, 0.82842572, 0.80732677, 0.83524783, 0.82730059,\n",
       "       0.80091755, 0.80971085, 0.81063226, 0.79801213, 0.80973712,\n",
       "       0.8289797 , 0.82968609, 0.80552452, 0.83020689, 0.83524783,\n",
       "       0.80004968, 0.80206298, 0.79630878, 0.82842572, 0.83524783,\n",
       "       0.83524783, 0.8053591 , 0.83524783, 0.80813234, 0.83524783,\n",
       "       0.83355059, 0.80552452, 0.82842572, 0.83387705, 0.81163333,\n",
       "       0.82357922, 0.83524783, 0.80090649, 0.83273952, 0.83524783,\n",
       "       0.82842572])"
      ]
     },
     "execution_count": 28,
     "metadata": {},
     "output_type": "execute_result"
    }
   ],
   "source": [
    "r_values  # the list of 61 values we have"
   ]
  },
  {
   "cell_type": "code",
   "execution_count": 29,
   "metadata": {},
   "outputs": [
    {
     "data": {
      "text/plain": [
       "0.8352478344185247"
      ]
     },
     "execution_count": 29,
     "metadata": {},
     "output_type": "execute_result"
    }
   ],
   "source": [
    "r_values.max()"
   ]
  },
  {
   "cell_type": "markdown",
   "metadata": {},
   "source": [
    "Now we want to ensure that we have the global maxima or the 5% maxima that lie in this interval. So here I am just taking a values slightly lesser than the maximum value."
   ]
  },
  {
   "cell_type": "code",
   "execution_count": 30,
   "metadata": {},
   "outputs": [
    {
     "data": {
      "text/plain": [
       "array([0.83524783, 0.83524783, 0.83524783, 0.83524783, 0.83524783,\n",
       "       0.83524783, 0.83524783, 0.83524783, 0.83524783, 0.83524783,\n",
       "       0.83524783, 0.83524783])"
      ]
     },
     "execution_count": 30,
     "metadata": {},
     "output_type": "execute_result"
    }
   ],
   "source": [
    "r_values[r_values > 0.83390239]"
   ]
  },
  {
   "cell_type": "markdown",
   "metadata": {},
   "source": [
    "So we still have a good number of samples that are beyond the 5% interval that was there. This helps to infer if we have n number of combinations for your grid search to validate on then random search can come in handy by randomly sapling points or sampling combinations and it gives u an assurance that 61 or 65 combinations we can keep a limit based on the computaional power we have in hand so with set number of combinations we can reach the 5% interval of maxima with 95% probability."
   ]
  }
 ],
 "metadata": {
  "kernelspec": {
   "display_name": "Python 3",
   "language": "python",
   "name": "python3"
  },
  "language_info": {
   "codemirror_mode": {
    "name": "ipython",
    "version": 3
   },
   "file_extension": ".py",
   "mimetype": "text/x-python",
   "name": "python",
   "nbconvert_exporter": "python",
   "pygments_lexer": "ipython3",
   "version": "3.7.6"
  }
 },
 "nbformat": 4,
 "nbformat_minor": 4
}
