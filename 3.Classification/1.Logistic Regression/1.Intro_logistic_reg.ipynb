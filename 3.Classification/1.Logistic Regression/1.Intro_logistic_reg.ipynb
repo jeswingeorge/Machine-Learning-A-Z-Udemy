{
 "cells": [
  {
   "cell_type": "markdown",
   "metadata": {},
   "source": [
    "# Logistic Regression"
   ]
  },
  {
   "cell_type": "code",
   "execution_count": 1,
   "metadata": {
    "ExecuteTime": {
     "end_time": "2020-04-15T03:32:33.473079Z",
     "start_time": "2020-04-15T03:32:04.162707Z"
    }
   },
   "outputs": [],
   "source": [
    "import pandas as pd\n",
    "import numpy as np\n",
    "import matplotlib.pyplot as plt\n",
    "import seaborn as sns\n",
    "%matplotlib inline\n",
    "sns.set()"
   ]
  },
  {
   "cell_type": "markdown",
   "metadata": {},
   "source": [
    "Recall that in linear regression models, the dependent (target) variable is continuous quantitative in nature. In situations where the nature of dependent (target) variable is categorical, the logistic regression can be used to model the relationship. Recall that the logistic regression model is given as:\n",
    "\n",
    "$$ f(x) = \\frac{1}{1+e^{-(\\beta_0 + \\beta_1x_1 + \\beta_2x_2 + . . . + \\beta_nx_n)}} $$\n",
    "\n",
    "The nature of logistic regression can be binomial, ordinal or multinomial. In order to predict dependent (target) variable which can take only two values (yes/no , 0/1) __Binomial (or binary) logistic regression__ model is used. \n",
    "\n",
    "__Multinomial logistic regression__ is used when the dependent variable can take three of more categorical values which are not ordered. \n",
    "\n",
    "Whereas the __ordinal logistic regression__ is used when the dependent variable can take categorical values that are ordered.\n",
    "\n",
    "The figure below illustrates the prediction range of [0,1] for the logistic regression model as compared to the prediction range of [$-\\infty, \\infty$] for the linear regression model.\n",
    "\n",
    "![](images/1.PNG)\n",
    "\n",
    "This suggests that the use of the logistic regression model with a logit link function (as mentioned in generalized linear models) would confine the prediction values within the [0, 1] bounds."
   ]
  },
  {
   "cell_type": "markdown",
   "metadata": {},
   "source": [
    "***\n",
    "Having understood the basic concept behind logistic regression, we shall now use logistic regression to classify the data instances into binary class labels based on the probability of success for an event of interest.\n",
    "\n",
    "Consider the 'default' dataset which contains details of credit card payments by the customers. Details about the income of the customer, the average balance amount to be repaid, occupational status (Student/Non-student) and the repayment status (Defaulter/Non-Defaulter) are provided.\n",
    "\n",
    "The default dataset contains 10000 observations for 4 variables, as shown below."
   ]
  },
  {
   "cell_type": "code",
   "execution_count": 2,
   "metadata": {
    "ExecuteTime": {
     "end_time": "2020-04-15T03:50:32.422118Z",
     "start_time": "2020-04-15T03:50:32.046428Z"
    }
   },
   "outputs": [
    {
     "data": {
      "text/html": [
       "<div>\n",
       "<style scoped>\n",
       "    .dataframe tbody tr th:only-of-type {\n",
       "        vertical-align: middle;\n",
       "    }\n",
       "\n",
       "    .dataframe tbody tr th {\n",
       "        vertical-align: top;\n",
       "    }\n",
       "\n",
       "    .dataframe thead th {\n",
       "        text-align: right;\n",
       "    }\n",
       "</style>\n",
       "<table border=\"1\" class=\"dataframe\">\n",
       "  <thead>\n",
       "    <tr style=\"text-align: right;\">\n",
       "      <th></th>\n",
       "      <th>default</th>\n",
       "      <th>student</th>\n",
       "      <th>balance</th>\n",
       "      <th>income</th>\n",
       "    </tr>\n",
       "  </thead>\n",
       "  <tbody>\n",
       "    <tr>\n",
       "      <th>0</th>\n",
       "      <td>No</td>\n",
       "      <td>No</td>\n",
       "      <td>729.526495</td>\n",
       "      <td>44361.62507</td>\n",
       "    </tr>\n",
       "    <tr>\n",
       "      <th>1</th>\n",
       "      <td>No</td>\n",
       "      <td>Yes</td>\n",
       "      <td>817.180407</td>\n",
       "      <td>12106.13470</td>\n",
       "    </tr>\n",
       "    <tr>\n",
       "      <th>2</th>\n",
       "      <td>No</td>\n",
       "      <td>No</td>\n",
       "      <td>1073.549164</td>\n",
       "      <td>31767.13895</td>\n",
       "    </tr>\n",
       "    <tr>\n",
       "      <th>3</th>\n",
       "      <td>No</td>\n",
       "      <td>No</td>\n",
       "      <td>529.250605</td>\n",
       "      <td>35704.49394</td>\n",
       "    </tr>\n",
       "    <tr>\n",
       "      <th>4</th>\n",
       "      <td>No</td>\n",
       "      <td>No</td>\n",
       "      <td>785.655883</td>\n",
       "      <td>38463.49588</td>\n",
       "    </tr>\n",
       "  </tbody>\n",
       "</table>\n",
       "</div>"
      ],
      "text/plain": [
       "  default student      balance       income\n",
       "0      No      No   729.526495  44361.62507\n",
       "1      No     Yes   817.180407  12106.13470\n",
       "2      No      No  1073.549164  31767.13895\n",
       "3      No      No   529.250605  35704.49394\n",
       "4      No      No   785.655883  38463.49588"
      ]
     },
     "execution_count": 2,
     "metadata": {},
     "output_type": "execute_result"
    }
   ],
   "source": [
    "default = pd.read_csv(\"default.csv\")\n",
    "default.head()"
   ]
  },
  {
   "cell_type": "code",
   "execution_count": 3,
   "metadata": {
    "ExecuteTime": {
     "end_time": "2020-04-15T03:51:07.033178Z",
     "start_time": "2020-04-15T03:51:06.861520Z"
    }
   },
   "outputs": [
    {
     "name": "stdout",
     "output_type": "stream",
     "text": [
      "<class 'pandas.core.frame.DataFrame'>\n",
      "RangeIndex: 10000 entries, 0 to 9999\n",
      "Data columns (total 4 columns):\n",
      " #   Column   Non-Null Count  Dtype  \n",
      "---  ------   --------------  -----  \n",
      " 0   default  10000 non-null  object \n",
      " 1   student  10000 non-null  object \n",
      " 2   balance  10000 non-null  float64\n",
      " 3   income   10000 non-null  float64\n",
      "dtypes: float64(2), object(2)\n",
      "memory usage: 312.6+ KB\n"
     ]
    }
   ],
   "source": [
    "default.info()"
   ]
  },
  {
   "cell_type": "markdown",
   "metadata": {},
   "source": [
    "We can observe that the variables “balance” and “income” are continuous numeric variables, whereas the variables \"default\" and \"student\" are a factor with two levels.\n",
    "\n",
    "Using logistic regression as a classifier we shall try to classify the customer as a defaulter or a non-defaulter based on the balance amount to be repaid.\n",
    "\n",
    "Scatter plot of default data set"
   ]
  },
  {
   "cell_type": "code",
   "execution_count": 5,
   "metadata": {
    "ExecuteTime": {
     "end_time": "2020-04-15T03:52:50.177791Z",
     "start_time": "2020-04-15T03:52:49.313589Z"
    }
   },
   "outputs": [
    {
     "data": {
      "text/plain": [
       "Text(0, 0.5, 'default')"
      ]
     },
     "execution_count": 5,
     "metadata": {},
     "output_type": "execute_result"
    },
    {
     "data": {
      "image/png": "[encoded data removed]",
      "text/plain": [
       "<Figure size 504x504 with 1 Axes>"
      ]
     },
     "metadata": {},
     "output_type": "display_data"
    }
   ],
   "source": [
    "plt.figure(figsize = (7,7))\n",
    "plt.scatter(\"balance\", 'default', data = default)\n",
    "plt.title('Scatterplot of balance vs default')\n",
    "plt.xlabel('balance')\n",
    "plt.ylabel('default')"
   ]
  },
  {
   "cell_type": "markdown",
   "metadata": {},
   "source": [
    "In order to classify the customer as a defaulter or a non-defaulter, let us build a logistic regression model having default as dependent variable and balance as a predictor variable."
   ]
  },
  {
   "cell_type": "markdown",
   "metadata": {},
   "source": [
    "##### Training and testing data\n",
    "\n",
    "We shall divide the data into train and test splits in the ratio of 75:25 as shown below\n",
    "\n",
    "Since we are fitting a logistic regression model using 'balance' as a predictor variable. Therefore, the features variable contains only 'balance' column data.\n",
    "\n",
    "__Reference documentation:__ [Sklearn Logistic regression](https://scikit-learn.org/stable/modules/generated/sklearn.linear_model.LogisticRegression.html)"
   ]
  },
  {
   "cell_type": "code",
   "execution_count": 6,
   "metadata": {
    "ExecuteTime": {
     "end_time": "2020-04-15T03:59:36.407470Z",
     "start_time": "2020-04-15T03:59:36.192765Z"
    }
   },
   "outputs": [],
   "source": [
    "np.random.seed(113)\n",
    "features = default[[\"balance\"]]\n",
    "target = default[\"default\"]"
   ]
  },
  {
   "cell_type": "code",
   "execution_count": 7,
   "metadata": {
    "ExecuteTime": {
     "end_time": "2020-04-15T03:59:49.948213Z",
     "start_time": "2020-04-15T03:59:46.224535Z"
    }
   },
   "outputs": [],
   "source": [
    "from sklearn.model_selection import train_test_split\n",
    "# Splitting into training and testing data\n",
    "features_train, features_test, target_train,target_test = train_test_split(features,target, test_size = 0.25)"
   ]
  },
  {
   "cell_type": "code",
   "execution_count": 8,
   "metadata": {
    "ExecuteTime": {
     "end_time": "2020-04-15T03:59:58.091781Z",
     "start_time": "2020-04-15T03:59:58.075874Z"
    }
   },
   "outputs": [
    {
     "data": {
      "text/plain": [
       "((7500, 1), (2500, 1))"
      ]
     },
     "execution_count": 8,
     "metadata": {},
     "output_type": "execute_result"
    }
   ],
   "source": [
    "features_train.shape, features_test.shape"
   ]
  },
  {
   "cell_type": "markdown",
   "metadata": {},
   "source": [
    "Here, 75% of the data is used as training data and the remaining 25% of the data is used as testing data."
   ]
  },
  {
   "cell_type": "code",
   "execution_count": 9,
   "metadata": {
    "ExecuteTime": {
     "end_time": "2020-04-15T04:00:34.264979Z",
     "start_time": "2020-04-15T04:00:32.398962Z"
    }
   },
   "outputs": [
    {
     "data": {
      "text/plain": [
       "LogisticRegression(C=1.0, class_weight=None, dual=False, fit_intercept=True,\n",
       "                   intercept_scaling=1, l1_ratio=None, max_iter=100,\n",
       "                   multi_class='auto', n_jobs=None, penalty='l2',\n",
       "                   random_state=None, solver='lbfgs', tol=0.0001, verbose=0,\n",
       "                   warm_start=False)"
      ]
     },
     "execution_count": 9,
     "metadata": {},
     "output_type": "execute_result"
    }
   ],
   "source": [
    "from sklearn.linear_model import LogisticRegression\n",
    "model = LogisticRegression()\n",
    "model.fit(features_train, target_train)"
   ]
  },
  {
   "cell_type": "code",
   "execution_count": 10,
   "metadata": {
    "ExecuteTime": {
     "end_time": "2020-04-15T04:01:12.281057Z",
     "start_time": "2020-04-15T04:01:12.265549Z"
    }
   },
   "outputs": [
    {
     "name": "stdout",
     "output_type": "stream",
     "text": [
      "Intercept: [-10.50340662] \n",
      "Coefficients [[0.00541381]]\n"
     ]
    }
   ],
   "source": [
    "print(\"Intercept:\", model.intercept_,\"\\nCoefficients\", model.coef_)"
   ]
  },
  {
   "cell_type": "markdown",
   "metadata": {},
   "source": [
    "The obtained regression model can be represented as:\n",
    "\n",
    "$$ ln(\\frac{p}{1-p}) = -10.50340662 + 0.00541381*balance$$\n",
    "\n",
    "The above equation is the formula for logistic regression.\n",
    "\n",
    "We can infer from the obtained logistic regression model that for a unit change in balance, the log(odds ratio) changes by 0.541 %.\n",
    "\n",
    "In other words, the probability of the customer being classified as a defaulter, based on a unit change in balance is given as:\n",
    "\n",
    "Sigmoid function\n",
    "\n",
    "$$ p = \\frac{1}{1+e^{-y}} $$\n",
    "\n",
    "i.e,\n",
    "\n",
    "$$ p = \\frac{1}{1+e^{-10.5034 - 0.00541*balance}}$$\n",
    "\n",
    "So our linear equation will be converted to a sigmoid function in logistic regression.\n",
    "\n",
    "![](images\\2.PNG)\n",
    "\n",
    "\n",
    "So here we calculate the probaility of occurence of an event based on the predictor variables:\n",
    "\n",
    "![](images\\3.png)\n",
    "\n",
    "![](images\\4.png)\n",
    "\n",
    "Let us now evaluate the model's performance (accuracy) on the train and test data."
   ]
  },
  {
   "cell_type": "code",
   "execution_count": 11,
   "metadata": {
    "ExecuteTime": {
     "end_time": "2020-04-15T04:06:05.308284Z",
     "start_time": "2020-04-15T04:06:05.228236Z"
    }
   },
   "outputs": [
    {
     "name": "stdout",
     "output_type": "stream",
     "text": [
      "0.9716 0.9756\n"
     ]
    }
   ],
   "source": [
    "train_accuracy = model.score(features_train, target_train)\n",
    "test_accuracy = model.score(features_test, target_test)\n",
    "print(train_accuracy, test_accuracy)"
   ]
  },
  {
   "cell_type": "code",
   "execution_count": 13,
   "metadata": {
    "ExecuteTime": {
     "end_time": "2020-04-15T04:08:50.574792Z",
     "start_time": "2020-04-15T04:08:50.564793Z"
    }
   },
   "outputs": [
    {
     "data": {
      "text/plain": [
       "(2469,)"
      ]
     },
     "execution_count": 13,
     "metadata": {},
     "output_type": "execute_result"
    }
   ],
   "source": [
    "target_pred = model.predict(features_test)\n",
    "target_pred[target_pred==\"No\"].shape"
   ]
  },
  {
   "cell_type": "markdown",
   "metadata": {},
   "source": [
    "#### Confusion Matrix\n",
    "\n",
    "We can use the confusion matrix to further understand the predictions made by the model."
   ]
  },
  {
   "cell_type": "code",
   "execution_count": 14,
   "metadata": {
    "ExecuteTime": {
     "end_time": "2020-04-15T04:08:53.191071Z",
     "start_time": "2020-04-15T04:08:52.919949Z"
    }
   },
   "outputs": [
    {
     "data": {
      "text/html": [
       "<div>\n",
       "<style scoped>\n",
       "    .dataframe tbody tr th:only-of-type {\n",
       "        vertical-align: middle;\n",
       "    }\n",
       "\n",
       "    .dataframe tbody tr th {\n",
       "        vertical-align: top;\n",
       "    }\n",
       "\n",
       "    .dataframe thead th {\n",
       "        text-align: right;\n",
       "    }\n",
       "</style>\n",
       "<table border=\"1\" class=\"dataframe\">\n",
       "  <thead>\n",
       "    <tr style=\"text-align: right;\">\n",
       "      <th></th>\n",
       "      <th>No</th>\n",
       "      <th>Yes</th>\n",
       "    </tr>\n",
       "  </thead>\n",
       "  <tbody>\n",
       "    <tr>\n",
       "      <th>No</th>\n",
       "      <td>2415</td>\n",
       "      <td>7</td>\n",
       "    </tr>\n",
       "    <tr>\n",
       "      <th>Yes</th>\n",
       "      <td>54</td>\n",
       "      <td>24</td>\n",
       "    </tr>\n",
       "  </tbody>\n",
       "</table>\n",
       "</div>"
      ],
      "text/plain": [
       "       No  Yes\n",
       "No   2415    7\n",
       "Yes    54   24"
      ]
     },
     "execution_count": 14,
     "metadata": {},
     "output_type": "execute_result"
    }
   ],
   "source": [
    "from sklearn.metrics import confusion_matrix\n",
    "test_conf_matrix = confusion_matrix(target_test,target_pred)\n",
    "pd.DataFrame(test_conf_matrix ,columns = model.classes_,index = model.classes_)"
   ]
  },
  {
   "cell_type": "markdown",
   "metadata": {},
   "source": [
    "In the above matrix, we can observe that the model predicted:\n",
    "- 2421 non-defaulters as non-defaulters\n",
    "- 16 defaulters as defaulters\n",
    "- 1 non-defaulter as a defaulter\n",
    "- 62 defaulters as non-defaulters\n",
    "\n",
    "The above information from the confusion matrix can be used to compute the prediction accuracy as follows:\n",
    "\n",
    "$$ Accuracy = \\frac{CorrectPredictionsCount}{TotalPredictionsCount} = \\frac{2415+24}{2500} = 0.9756$$"
   ]
  },
  {
   "cell_type": "code",
   "execution_count": 17,
   "metadata": {
    "ExecuteTime": {
     "end_time": "2020-04-15T04:12:02.226378Z",
     "start_time": "2020-04-15T04:12:02.219369Z"
    }
   },
   "outputs": [
    {
     "name": "stdout",
     "output_type": "stream",
     "text": [
      "0.9756\n"
     ]
    }
   ],
   "source": [
    "test_correct_predictions = test_conf_matrix[0][0] + test_conf_matrix[1][1]\n",
    "test_total_predictions  = test_conf_matrix.sum()\n",
    "test_accuracy = test_correct_predictions / test_total_predictions\n",
    "print(test_accuracy)"
   ]
  },
  {
   "cell_type": "markdown",
   "metadata": {},
   "source": [
    "Hence, the obtained logistic regression model has a classification accuracy of - 97.56%."
   ]
  }
 ],
 "metadata": {
  "kernelspec": {
   "display_name": "Python 3",
   "language": "python",
   "name": "python3"
  },
  "language_info": {
   "codemirror_mode": {
    "name": "ipython",
    "version": 3
   },
   "file_extension": ".py",
   "mimetype": "text/x-python",
   "name": "python",
   "nbconvert_exporter": "python",
   "pygments_lexer": "ipython3",
   "version": "3.7.6"
  }
 },
 "nbformat": 4,
 "nbformat_minor": 4
}
