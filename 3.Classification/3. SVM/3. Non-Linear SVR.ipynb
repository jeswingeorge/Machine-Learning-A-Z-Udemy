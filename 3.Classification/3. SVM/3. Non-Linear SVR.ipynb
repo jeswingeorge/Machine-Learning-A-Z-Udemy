{
 "cells": [
  {
   "cell_type": "markdown",
   "metadata": {},
   "source": [
    "# Non-linear SVR\n",
    "\n",
    "![](svr1.PNG)\n",
    "\n",
    "How to build a support vector regression that will fit the data in the pic above?"
   ]
  },
  {
   "cell_type": "markdown",
   "metadata": {},
   "source": [
    "![](svr2.PNG)"
   ]
  },
  {
   "cell_type": "markdown",
   "metadata": {},
   "source": [
    "Steps taken in the above pic:\n",
    "1. Create a sq/rect that encloses those points.\n",
    "2. Draw diagonals and take their intersection points as the landmark.\n",
    "3. Then rotate the resultant fig to look at in different perspective and also create a copy if it side by side.\n",
    "4. On RHS, add a RBF kernel and just imagine that they are being projected onto the 3rd dimension. We cannot see a set of points from LHS on the RHS fig as the cone will block it.\n",
    "5. Now if run a linear model in the 3rd dim we get a hyperplane.\n",
    "6. Projecting our hyperplane to the 2-DIM"
   ]
  },
  {
   "cell_type": "markdown",
   "metadata": {},
   "source": [
    "7. Rotate and Compare it with the actual figure. \n",
    "\n",
    "![](svr67.PNG)"
   ]
  },
  {
   "cell_type": "markdown",
   "metadata": {},
   "source": [
    "Based on the different epsilon values we use we get different hyperplanes.\n",
    "\n",
    "![](ksvmr1.PNG)"
   ]
  },
  {
   "cell_type": "markdown",
   "metadata": {},
   "source": [
    "We will be going with the Kernel trick as the above methods will be computationally intensive."
   ]
  }
 ],
 "metadata": {
  "kernelspec": {
   "display_name": "Python 3",
   "language": "python",
   "name": "python3"
  },
  "language_info": {
   "codemirror_mode": {
    "name": "ipython",
    "version": 3
   },
   "file_extension": ".py",
   "mimetype": "text/x-python",
   "name": "python",
   "nbconvert_exporter": "python",
   "pygments_lexer": "ipython3",
   "version": "3.7.6"
  }
 },
 "nbformat": 4,
 "nbformat_minor": 4
}
