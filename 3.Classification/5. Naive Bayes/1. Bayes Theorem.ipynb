{
 "cells": [
  {
   "cell_type": "markdown",
   "metadata": {},
   "source": [
    "# Bayes Theorem\n",
    "\n",
    "![](images/nb1.PNG)\n",
    "\n",
    "Consider 2 different machines 1 and 2 in a factory producing different types of spanners. At the end of the day they produce same number of spanners i.e., 50.\n",
    "\n",
    "![](images/1.PNG)\n",
    "\n",
    "At the end of the day workers go through them and their goal is to identify the defective scanners.\n"
   ]
  },
  {
   "cell_type": "markdown",
   "metadata": {},
   "source": [
    "\n",
    "### What is the probability of machine 2 producing a defective spanner?\n",
    "\n",
    "![](images/nb2.PNG)"
   ]
  },
  {
   "cell_type": "markdown",
   "metadata": {},
   "source": [
    "![](images/nb3.PNG)"
   ]
  },
  {
   "cell_type": "markdown",
   "metadata": {},
   "source": [
    "Sub values:\n",
    "![](images/nb4.PNG)"
   ]
  },
  {
   "cell_type": "markdown",
   "metadata": {},
   "source": [
    "P(Mach1) = 30/50 = 0.6  \n",
    "P(Defect) = 0.01  \n",
    "P(Mach1 | Defect) = 0.5  \n",
    "\n",
    "$$ P(Defect | Mach1) = \\frac{P(Mach1 | Defect) * P(Defect)}{P(Mach1)}  = \\frac{0.5 * 0.01}{0.6} = 0.0083$$\n"
   ]
  },
  {
   "cell_type": "markdown",
   "metadata": {},
   "source": [
    "***\n",
    "![](images/nb5.PNG)"
   ]
  },
  {
   "cell_type": "markdown",
   "metadata": {},
   "source": [
    "![](images/nb6.PNG)\n",
    "\n",
    "Because sometimes we dont have access to all the number information so we go with the probability."
   ]
  },
  {
   "cell_type": "code",
   "execution_count": null,
   "metadata": {},
   "outputs": [],
   "source": []
  },
  {
   "cell_type": "code",
   "execution_count": null,
   "metadata": {},
   "outputs": [],
   "source": []
  },
  {
   "cell_type": "code",
   "execution_count": null,
   "metadata": {},
   "outputs": [],
   "source": []
  }
 ],
 "metadata": {
  "kernelspec": {
   "display_name": "Python 3",
   "language": "python",
   "name": "python3"
  },
  "language_info": {
   "codemirror_mode": {
    "name": "ipython",
    "version": 3
   },
   "file_extension": ".py",
   "mimetype": "text/x-python",
   "name": "python",
   "nbconvert_exporter": "python",
   "pygments_lexer": "ipython3",
   "version": "3.7.6"
  }
 },
 "nbformat": 4,
 "nbformat_minor": 4
}
