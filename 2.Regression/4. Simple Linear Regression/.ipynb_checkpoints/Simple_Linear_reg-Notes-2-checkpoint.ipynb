{
 "cells": [
  {
   "cell_type": "code",
   "execution_count": 1,
   "metadata": {},
   "outputs": [],
   "source": [
    "import pandas as pd\n",
    "import numpy as np\n",
    "import matplotlib.pyplot as plt\n",
    "import seaborn as sns\n",
    "%matplotlib inline\n",
    "sns.set()\n",
    "sns.set(rc={'figure.figsize':(10,8)})"
   ]
  },
  {
   "cell_type": "code",
   "execution_count": 2,
   "metadata": {},
   "outputs": [
    {
     "data": {
      "text/html": [
       "<div>\n",
       "<style scoped>\n",
       "    .dataframe tbody tr th:only-of-type {\n",
       "        vertical-align: middle;\n",
       "    }\n",
       "\n",
       "    .dataframe tbody tr th {\n",
       "        vertical-align: top;\n",
       "    }\n",
       "\n",
       "    .dataframe thead th {\n",
       "        text-align: right;\n",
       "    }\n",
       "</style>\n",
       "<table border=\"1\" class=\"dataframe\">\n",
       "  <thead>\n",
       "    <tr style=\"text-align: right;\">\n",
       "      <th></th>\n",
       "      <th>Units</th>\n",
       "      <th>Minutes</th>\n",
       "    </tr>\n",
       "  </thead>\n",
       "  <tbody>\n",
       "    <tr>\n",
       "      <th>0</th>\n",
       "      <td>1</td>\n",
       "      <td>23</td>\n",
       "    </tr>\n",
       "    <tr>\n",
       "      <th>1</th>\n",
       "      <td>2</td>\n",
       "      <td>29</td>\n",
       "    </tr>\n",
       "    <tr>\n",
       "      <th>2</th>\n",
       "      <td>3</td>\n",
       "      <td>49</td>\n",
       "    </tr>\n",
       "    <tr>\n",
       "      <th>3</th>\n",
       "      <td>4</td>\n",
       "      <td>64</td>\n",
       "    </tr>\n",
       "    <tr>\n",
       "      <th>4</th>\n",
       "      <td>4</td>\n",
       "      <td>74</td>\n",
       "    </tr>\n",
       "  </tbody>\n",
       "</table>\n",
       "</div>"
      ],
      "text/plain": [
       "   Units  Minutes\n",
       "0      1       23\n",
       "1      2       29\n",
       "2      3       49\n",
       "3      4       64\n",
       "4      4       74"
      ]
     },
     "execution_count": 2,
     "metadata": {},
     "output_type": "execute_result"
    }
   ],
   "source": [
    "df = pd.read_csv('computers.csv')\n",
    "df.head()"
   ]
  },
  {
   "cell_type": "markdown",
   "metadata": {},
   "source": [
    "## Assumptions of Linear Regression\n",
    "\n",
    "### 1. Assumptions about the form of the model\n",
    "Linearity - The linear regression model Y = ß0 + ß1x1 + ß2x2 + ... + ßnxn + ∈\n",
    "that relates the response Y to the predictors x1, x2...xn,  is assumed to be linear in the regression coefficients \n",
    "ß0, ß1....ßn , provided that if the relationship between the dependent and predictor variable(s) of the model is linear.\n",
    "\n",
    "### 2. Assumptions about the errors\n",
    "\n",
    "The errors are assumed to be normally distributed with mean zero and a common variance. (Errors are necessary to be normally distributed, not the indepenednt variables.) \n",
    "\n",
    "- Multivariate normality - The errors (also called as residues/residuals) of the model are normally distributed.\n",
    "\n",
    "- The errors of the model have a mean of zero.\n",
    "\n",
    "- Homoscedasticity principle - The errors of the model have same variance.  \n",
    "\n",
    "-  Independance of errors - The errors of the model should be statistically independent of each other.\n",
    "\n",
    "### 3.  Assumptions about the predictors\n",
    "\n",
    "-  Lack of multicolinearity - The predictor variables x1, x2....xn are assumed to be linearly independent of each other. If this assumption is violated then the problem is referred to as the collinearity problem. Test of independence to determine collinearity is discussed in the multiple linear regression section.\n",
    "\n",
    "And before building a linear regression model you need to check that these assumptions are true.\n",
    "\n",
    "And then only you can proceed and be sure that you're building a good linear regression model.\n",
    "\n",
    "\n",
    "## Validating the assumptions required for linear regression\n",
    "\n",
    "### 1. Validating the Linearity Assumption Using Scatter Plot\n",
    "\n",
    "The linearity of the relationship between the dependent and predictor variable(s) of the model can be studied using scatter plots."
   ]
  },
  {
   "cell_type": "code",
   "execution_count": 3,
   "metadata": {},
   "outputs": [
    {
     "data": {
      "image/png": "[encoded data removed]",
      "text/plain": [
       "<Figure size 432x288 with 1 Axes>"
      ]
     },
     "metadata": {
      "needs_background": "light"
     },
     "output_type": "display_data"
    }
   ],
   "source": [
    "sns.scatterplot(data = df, x = 'Units', y = 'Minutes');"
   ]
  },
  {
   "cell_type": "markdown",
   "metadata": {},
   "source": [
    "It can be observed that the time taken to repair a computer (in minutes) exhibits a linear relationship with the number of units being replaced.\n",
    "\n",
    "If the relationship is not found to be linear in nature, then a non-linear regression analysis or a polynomial regression or data-transformation may be adopted for prediction.\n",
    "\n",
    "### 2. Validating the Linearity Assumption Using Residuals vs. Fitted Plot\n",
    "\n",
    "The assumption of linearity can also be validated using the residuals (errors) plotted against the fitted values. The fitted values are the predicted values of the dependent variable. The plot of errors vs. fitted values for linear regression model given as:\n",
    "> The estimated time taken to repair a computer = 4.161654 + (15.50877 x Units being replaced)"
   ]
  },
  {
   "cell_type": "markdown",
   "metadata": {},
   "source": [
    "#### Reference:\n",
    "- [reshape(-1)](https://stackoverflow.com/a/42510505)\n",
    "- [Seaborn residplot](https://seaborn.pydata.org/generated/seaborn.residplot.html)\n",
    "- [Lowess smoothing](https://www.statisticshowto.datasciencecentral.com/lowess-smoothing/)\n",
    "- [Seaborn residplot youtube](https://www.youtube.com/watch?v=vrTNUGehZNY)"
   ]
  },
  {
   "cell_type": "code",
   "execution_count": 4,
   "metadata": {},
   "outputs": [
    {
     "data": {
      "text/plain": [
       "0      1\n",
       "1      2\n",
       "2      3\n",
       "3      4\n",
       "4      4\n",
       "5      5\n",
       "6      6\n",
       "7      6\n",
       "8      7\n",
       "9      8\n",
       "10     9\n",
       "11     9\n",
       "12    10\n",
       "13    10\n",
       "Name: Units, dtype: int64"
      ]
     },
     "execution_count": 4,
     "metadata": {},
     "output_type": "execute_result"
    }
   ],
   "source": [
    "df['Units']"
   ]
  },
  {
   "cell_type": "code",
   "execution_count": 5,
   "metadata": {},
   "outputs": [
    {
     "data": {
      "text/plain": [
       "pandas.core.frame.DataFrame"
      ]
     },
     "execution_count": 5,
     "metadata": {},
     "output_type": "execute_result"
    }
   ],
   "source": [
    "type(df.loc[:,[\"Units\"]])"
   ]
  },
  {
   "cell_type": "code",
   "execution_count": 6,
   "metadata": {},
   "outputs": [
    {
     "data": {
      "image/png": "[encoded data removed]",
      "text/plain": [
       "<Figure size 432x288 with 1 Axes>"
      ]
     },
     "metadata": {
      "needs_background": "light"
     },
     "output_type": "display_data"
    }
   ],
   "source": [
    "# lowess to residual plot help in determining if there is structure to residuals.\n",
    "fig = plt.figure()\n",
    "ax = sns.residplot(x = 'Units', y = 'Minutes',data = df, lowess=True, # lowess draws the line \n",
    "             line_kws = {'color':'red', 'lw':1}); \n",
    "ax = plt.xlabel('Units')\n",
    "ax = plt.title('Residual Plot')"
   ]
  },
  {
   "cell_type": "markdown",
   "metadata": {},
   "source": [
    "It can be observed that the above plot does not follow any specific pattern. This is an indicator that the relationship between the dependent and predictor variables is linear in nature. If the residual vs. fitted values plot exhibits any pattern then the relationship may be non-linear.\n",
    "\n",
    "### Observation\n",
    "\n",
    "In general, it can also be observed from the residuals vs fitted values plot that, observations that lie close to the horizontal line (residuals = 0 ) are predicted with higher accuracy whilst that below the horizontal line are overpredicted. That is the predicted value is higher than the observed value. On the other hand, the observations that lie above the horizontal line are underpredicted i.e. the predicted value is lower than the observed value.\n",
    "\n",
    "![](images/residplot.PNG)\n",
    "***\n",
    "***\n",
    "\n",
    "### [Sklearn Linear regression](https://scikit-learn.org/stable/modules/generated/sklearn.linear_model.LinearRegression.html)"
   ]
  },
  {
   "cell_type": "code",
   "execution_count": 7,
   "metadata": {},
   "outputs": [],
   "source": [
    "from sklearn.linear_model import LinearRegression"
   ]
  },
  {
   "cell_type": "code",
   "execution_count": 8,
   "metadata": {},
   "outputs": [
    {
     "data": {
      "text/plain": [
       "LinearRegression(copy_X=True, fit_intercept=True, n_jobs=None, normalize=False)"
      ]
     },
     "execution_count": 8,
     "metadata": {},
     "output_type": "execute_result"
    }
   ],
   "source": [
    "model = LinearRegression()\n",
    "model.fit(X = df.loc[:,[\"Units\"]], y= df.loc[:,[\"Minutes\"]])  # pass x and y as dataframe"
   ]
  },
  {
   "cell_type": "code",
   "execution_count": 9,
   "metadata": {},
   "outputs": [
    {
     "data": {
      "text/plain": [
       "array([[ 19.67042607],\n",
       "       [ 35.17919799],\n",
       "       [ 50.68796992],\n",
       "       [ 66.19674185],\n",
       "       [ 66.19674185],\n",
       "       [ 81.70551378],\n",
       "       [ 97.21428571],\n",
       "       [ 97.21428571],\n",
       "       [112.72305764],\n",
       "       [128.23182957],\n",
       "       [143.7406015 ],\n",
       "       [143.7406015 ],\n",
       "       [159.24937343],\n",
       "       [159.24937343]])"
      ]
     },
     "execution_count": 9,
     "metadata": {},
     "output_type": "execute_result"
    }
   ],
   "source": [
    "predictions = model.predict(df.loc[:,[\"Units\"]])\n",
    "predictions"
   ]
  },
  {
   "cell_type": "markdown",
   "metadata": {},
   "source": [
    "## Validating the Assumption That Errors are Normally Distributed\n",
    "\n",
    "A linear regression model is said to be valid if its errors (residuals) are normally distributed. __A Normal Q-Q plot can be used to validate this assumption.__\n",
    "\n",
    "__OR__ Using The Shapiro-Wilk test - it tests the null hypothesis that the data was drawn from a normal distribution. ( For N > 5000 the W test statistic is accurate but the p-value may not be.)\n",
    "\n",
    "#### Reference:\n",
    "\n",
    "- [Q-Q plot statisticshowto](https://www.statisticshowto.datasciencecentral.com/q-q-plots/)\n",
    "- [understanding-Q-Q-plots](https://data.library.virginia.edu/understanding-q-q-plots/)\n",
    "- [QQ plot statsmodel library](http://www.statsmodels.org/dev/generated/statsmodels.graphics.gofplots.qqplot.html)\n",
    "- [scipy stats probplot qq plot](https://docs.scipy.org/doc/scipy/reference/generated/scipy.stats.probplot.html#scipy.stats.probplot)\n",
    "- [Shapiro-wilk test](https://docs.scipy.org/doc/scipy/reference/generated/scipy.stats.shapiro.html)\n",
    "\n",
    "![](images/qq-plot.jpg)"
   ]
  },
  {
   "cell_type": "code",
   "execution_count": 10,
   "metadata": {},
   "outputs": [],
   "source": [
    "residuals = df[\"Minutes\"] - predictions.reshape(-1)"
   ]
  },
  {
   "cell_type": "code",
   "execution_count": 11,
   "metadata": {},
   "outputs": [],
   "source": [
    "import statsmodels.api as sm   # for plotting qq plot"
   ]
  },
  {
   "cell_type": "code",
   "execution_count": 12,
   "metadata": {},
   "outputs": [],
   "source": [
    "import scipy.stats as stats"
   ]
  },
  {
   "cell_type": "code",
   "execution_count": 13,
   "metadata": {},
   "outputs": [
    {
     "data": {
      "text/plain": [
       "Text(0.5, 1.0, 'Normal Q-Q Plot')"
      ]
     },
     "execution_count": 13,
     "metadata": {},
     "output_type": "execute_result"
    },
    {
     "data": {
      "image/png": "[encoded data removed]",
      "text/plain": [
       "<Figure size 432x288 with 1 Axes>"
      ]
     },
     "metadata": {
      "needs_background": "light"
     },
     "output_type": "display_data"
    }
   ],
   "source": [
    "stats.probplot(residuals, dist=\"norm\", plot=plt)\n",
    "plt.title(\"Normal Q-Q Plot\")"
   ]
  },
  {
   "cell_type": "markdown",
   "metadata": {},
   "source": [
    "#### Alternate, using shapiro-wilk test"
   ]
  },
  {
   "cell_type": "code",
   "execution_count": 14,
   "metadata": {},
   "outputs": [
    {
     "data": {
      "text/plain": [
       "(0.9674058556556702, 0.8401687741279602)"
      ]
     },
     "execution_count": 14,
     "metadata": {},
     "output_type": "execute_result"
    }
   ],
   "source": [
    "stats.shapiro(residuals)  # (test_statistic, p-value)"
   ]
  },
  {
   "cell_type": "markdown",
   "metadata": {},
   "source": [
    "p-value: 0.05\n",
    "\n",
    "For a significance level of 0.05, the p-value obtained from the Shapiro-Wilk test suggests that the model abides by the assumption of normality since the p-value is greater than the chosen significance level."
   ]
  },
  {
   "cell_type": "markdown",
   "metadata": {},
   "source": [
    "## Validating the Assumption of Homoscedasticity\n",
    "For a linear regression model to be valid for any statistical inference/prediction it is essential that the errors (residuals) of the model be homoscedastic in nature.\n",
    "\n",
    "In statistics, a sequence or a vector of random variables is homoscedastic if all random variables in the sequence or vector have the same finite variance. This is also known as homogeneity of variance.\n",
    "\n",
    "The homoscedasticity of the residuals obtained for our best fit model can be examined using the __scale-location plot__. __The scale-location plot depicts the square rooted standardized residual vs. predicted value obtained using the best fit model. Standardized residuals are residuals scaled such that they have a mean of 0 and variance of 1.__\n",
    "\n",
    "The linear regression model is said to abide by the homoscedasticity assumption if there is no specific pattern observed in the scale-location plot. The scale-location plot of the best fit model for the computer repairs data set is as shown below.\n",
    "\n",
    "[Seaborn regplot](https://seaborn.pydata.org/generated/seaborn.regplot.html)"
   ]
  },
  {
   "cell_type": "code",
   "execution_count": 15,
   "metadata": {},
   "outputs": [],
   "source": [
    "# square rooted standardized residual\n",
    "model_norm_residuals_abs_sqrt=np.sqrt(np.abs(residuals))"
   ]
  },
  {
   "cell_type": "code",
   "execution_count": 16,
   "metadata": {},
   "outputs": [
    {
     "data": {
      "text/plain": [
       "Text(0.5, 0, 'Fitted value')"
      ]
     },
     "execution_count": 16,
     "metadata": {},
     "output_type": "execute_result"
    },
    {
     "data": {
      "image/png": "[encoded data removed]",
      "text/plain": [
       "<Figure size 504x504 with 1 Axes>"
      ]
     },
     "metadata": {
      "needs_background": "light"
     },
     "output_type": "display_data"
    }
   ],
   "source": [
    "plt.figure(figsize=(7,7))\n",
    "sns.regplot(predictions.reshape(-1), model_norm_residuals_abs_sqrt,\n",
    "              scatter=True,\n",
    "              lowess=True,\n",
    "              line_kws={'color': 'red', 'lw': 1, 'alpha': 0.8})\n",
    "plt.ylabel(\"Standarized residuals\")\n",
    "plt.xlabel(\"Fitted value\")"
   ]
  },
  {
   "cell_type": "markdown",
   "metadata": {},
   "source": [
    "It can be observed in the above plot that there is no specific pattern. In general, the homoscedasticity is said to be violated if:\n",
    "\n",
    "- The residuals seem to increase or decrease in average magnitude with the fitted values, it is an indication that the variance of the residuals is not constant.\n",
    "\n",
    "- The points in the plot lie on a curve around zero, rather than fluctuating randomly.\n",
    "\n",
    "- A few points in the plot lie a long way from the rest of the points.\n",
    "\n",
    "***\n",
    "\n",
    "Having created the best fit linear regression model, shown below, for the given sample data set, we should also determine if this model is useful.\n",
    "> Time taken to repair a computer ≈ 4.161654 + (15.50877 x Units being replaced)\n",
    "\n",
    "# Coefficient of determination -  $R^2 = \\frac{SSR}{SST}$\n",
    "\n",
    "The usefulness of a linear regression model for a data set with an outcome variable Y and a predictor variable X, having a linear relationship modeled using simple linear regression can be determined using the __coefficient of determination ($R^2$)__.\n",
    "\n",
    "__SSR - Sum of squared regressions__ - Sum of squared Deviations of predicted values $\\widehat{y_{i}}$ from mean $\\bar{y}$\n",
    "\n",
    "> $SSR = \\sum(\\widehat{y_{i}} - \\bar{y})^{2}$\n",
    "\n",
    "__SST - Sum of squared total__ - total sum of squared deviations of actual values $y_{i}$ from its mean $\\bar{y}$\n",
    "\n",
    "> $SST = \\sum(y_{i}- \\bar{y})^{2}$\n",
    "\n",
    "SST can be thought of as the error in predicting Y without the knowledge of X.\n",
    "\n",
    "The sum of squared total (SST) can also be expressed in terms of sum of squared regression (SSR) and sum of squared errors (SSE) as,\n",
    "> __SST = SSR + SSE__.\n",
    "\n",
    "> $ \\sum(y_{i} - \\bar{y})^{2} = \\sum(\\widehat{y_{i}} - \\bar{y})^{2} + \\sum(y_{i} - \\widehat{y_{i}})^{2}$\n",
    "\n",
    "#### Calculating $R^2$"
   ]
  },
  {
   "cell_type": "code",
   "execution_count": 17,
   "metadata": {},
   "outputs": [
    {
     "data": {
      "text/plain": [
       "0.9874371980620736"
      ]
     },
     "execution_count": 17,
     "metadata": {},
     "output_type": "execute_result"
    }
   ],
   "source": [
    "# score() of the model directly computes the R2 value.\n",
    "Rsq = model.score(df[['Units']], df[['Minutes']])\n",
    "Rsq"
   ]
  },
  {
   "cell_type": "markdown",
   "metadata": {},
   "source": [
    "An $R^2$ value of 0.9874372 indicates that 98.74 % of the variability observed in the dependent variable (time taken to repair computer) can be explained by variability in the predictor variable (units being replaced) in this sample data set.\n",
    "\n",
    "$R^2$ can take values in the range 0 and 1. The higher the value of $R^2$, the more useful is the model.\n",
    "\n",
    "##### Alternate way to calculate $R^2$"
   ]
  },
  {
   "cell_type": "code",
   "execution_count": 18,
   "metadata": {},
   "outputs": [
    {
     "data": {
      "text/plain": [
       "27768.357142857145"
      ]
     },
     "execution_count": 18,
     "metadata": {},
     "output_type": "execute_result"
    }
   ],
   "source": [
    "SST = sum((df.Minutes - df.Minutes.mean())**2)\n",
    "SST"
   ]
  },
  {
   "cell_type": "code",
   "execution_count": 19,
   "metadata": {},
   "outputs": [
    {
     "data": {
      "text/plain": [
       "348.84837092731783"
      ]
     },
     "execution_count": 19,
     "metadata": {},
     "output_type": "execute_result"
    }
   ],
   "source": [
    "SSE = sum(residuals**2)\n",
    "SSE"
   ]
  },
  {
   "cell_type": "code",
   "execution_count": 20,
   "metadata": {},
   "outputs": [
    {
     "data": {
      "text/plain": [
       "27419.508771929828"
      ]
     },
     "execution_count": 20,
     "metadata": {},
     "output_type": "execute_result"
    }
   ],
   "source": [
    "SSR = SST - SSE\n",
    "SSR"
   ]
  },
  {
   "cell_type": "code",
   "execution_count": 21,
   "metadata": {},
   "outputs": [
    {
     "data": {
      "text/plain": [
       "0.9874371980620736"
      ]
     },
     "execution_count": 21,
     "metadata": {},
     "output_type": "execute_result"
    }
   ],
   "source": [
    "Rsq2 = SSR/SST\n",
    "Rsq2"
   ]
  },
  {
   "cell_type": "markdown",
   "metadata": {},
   "source": [
    "### The summary command\n",
    "\n",
    "The built linear regression model can be analyzed or estimated using some additional statistical parameters and methods like  $R^2$, Adjusted $R^2$, p-value, t-statistic, F-statistic etc. All this statistical information can be achieved together in one go using summary() function. This function is available for a model built using statsmodels module.\n",
    "\n",
    "> $y = \\beta_{0} + \\beta_{1}x_1 + \\epsilon$\n",
    "\n",
    "Lets fit a linear regression model on the same computers data using statsmodels."
   ]
  },
  {
   "cell_type": "code",
   "execution_count": 22,
   "metadata": {},
   "outputs": [],
   "source": [
    "import statsmodels.api as sm"
   ]
  },
  {
   "cell_type": "code",
   "execution_count": 23,
   "metadata": {},
   "outputs": [
    {
     "name": "stderr",
     "output_type": "stream",
     "text": [
      "C:\\Anaconda3\\lib\\site-packages\\numpy\\core\\fromnumeric.py:2389: FutureWarning: Method .ptp is deprecated and will be removed in a future version. Use numpy.ptp instead.\n",
      "  return ptp(axis=axis, out=out, **kwargs)\n"
     ]
    }
   ],
   "source": [
    "X = sm.add_constant(df[['Units']])\n",
    "y = df['Minutes']"
   ]
  },
  {
   "cell_type": "code",
   "execution_count": 24,
   "metadata": {},
   "outputs": [],
   "source": [
    "model_sm = sm.OLS(y, X).fit()"
   ]
  },
  {
   "cell_type": "markdown",
   "metadata": {},
   "source": [
    "Here, the Ordinary Least Square(OLS) method is used for fitting a regression model.\n",
    "\n",
    "The summary() method provides additional details of the obtained best fit model as shown below."
   ]
  },
  {
   "cell_type": "code",
   "execution_count": 25,
   "metadata": {},
   "outputs": [
    {
     "name": "stderr",
     "output_type": "stream",
     "text": [
      "C:\\Anaconda3\\lib\\site-packages\\scipy\\stats\\stats.py:1416: UserWarning: kurtosistest only valid for n>=20 ... continuing anyway, n=14\n",
      "  \"anyway, n=%i\" % int(n))\n"
     ]
    },
    {
     "data": {
      "text/html": [
       "<table class=\"simpletable\">\n",
       "<caption>OLS Regression Results</caption>\n",
       "<tr>\n",
       "  <th>Dep. Variable:</th>         <td>Minutes</td>     <th>  R-squared:         </th> <td>   0.987</td>\n",
       "</tr>\n",
       "<tr>\n",
       "  <th>Model:</th>                   <td>OLS</td>       <th>  Adj. R-squared:    </th> <td>   0.986</td>\n",
       "</tr>\n",
       "<tr>\n",
       "  <th>Method:</th>             <td>Least Squares</td>  <th>  F-statistic:       </th> <td>   943.2</td>\n",
       "</tr>\n",
       "<tr>\n",
       "  <th>Date:</th>             <td>Sat, 17 Aug 2019</td> <th>  Prob (F-statistic):</th> <td>8.92e-13</td>\n",
       "</tr>\n",
       "<tr>\n",
       "  <th>Time:</th>                 <td>21:40:17</td>     <th>  Log-Likelihood:    </th> <td> -42.374</td>\n",
       "</tr>\n",
       "<tr>\n",
       "  <th>No. Observations:</th>      <td>    14</td>      <th>  AIC:               </th> <td>   88.75</td>\n",
       "</tr>\n",
       "<tr>\n",
       "  <th>Df Residuals:</th>          <td>    12</td>      <th>  BIC:               </th> <td>   90.03</td>\n",
       "</tr>\n",
       "<tr>\n",
       "  <th>Df Model:</th>              <td>     1</td>      <th>                     </th>     <td> </td>   \n",
       "</tr>\n",
       "<tr>\n",
       "  <th>Covariance Type:</th>      <td>nonrobust</td>    <th>                     </th>     <td> </td>   \n",
       "</tr>\n",
       "</table>\n",
       "<table class=\"simpletable\">\n",
       "<tr>\n",
       "    <td></td>       <th>coef</th>     <th>std err</th>      <th>t</th>      <th>P>|t|</th>  <th>[0.025</th>    <th>0.975]</th>  \n",
       "</tr>\n",
       "<tr>\n",
       "  <th>const</th> <td>    4.1617</td> <td>    3.355</td> <td>    1.240</td> <td> 0.239</td> <td>   -3.148</td> <td>   11.472</td>\n",
       "</tr>\n",
       "<tr>\n",
       "  <th>Units</th> <td>   15.5088</td> <td>    0.505</td> <td>   30.712</td> <td> 0.000</td> <td>   14.409</td> <td>   16.609</td>\n",
       "</tr>\n",
       "</table>\n",
       "<table class=\"simpletable\">\n",
       "<tr>\n",
       "  <th>Omnibus:</th>       <td> 0.746</td> <th>  Durbin-Watson:     </th> <td>   2.051</td>\n",
       "</tr>\n",
       "<tr>\n",
       "  <th>Prob(Omnibus):</th> <td> 0.689</td> <th>  Jarque-Bera (JB):  </th> <td>   0.624</td>\n",
       "</tr>\n",
       "<tr>\n",
       "  <th>Skew:</th>          <td>-0.069</td> <th>  Prob(JB):          </th> <td>   0.732</td>\n",
       "</tr>\n",
       "<tr>\n",
       "  <th>Kurtosis:</th>      <td> 1.975</td> <th>  Cond. No.          </th> <td>    15.8</td>\n",
       "</tr>\n",
       "</table><br/><br/>Warnings:<br/>[1] Standard Errors assume that the covariance matrix of the errors is correctly specified."
      ],
      "text/plain": [
       "<class 'statsmodels.iolib.summary.Summary'>\n",
       "\"\"\"\n",
       "                            OLS Regression Results                            \n",
       "==============================================================================\n",
       "Dep. Variable:                Minutes   R-squared:                       0.987\n",
       "Model:                            OLS   Adj. R-squared:                  0.986\n",
       "Method:                 Least Squares   F-statistic:                     943.2\n",
       "Date:                Sat, 17 Aug 2019   Prob (F-statistic):           8.92e-13\n",
       "Time:                        21:40:17   Log-Likelihood:                -42.374\n",
       "No. Observations:                  14   AIC:                             88.75\n",
       "Df Residuals:                      12   BIC:                             90.03\n",
       "Df Model:                           1                                         \n",
       "Covariance Type:            nonrobust                                         \n",
       "==============================================================================\n",
       "                 coef    std err          t      P>|t|      [0.025      0.975]\n",
       "------------------------------------------------------------------------------\n",
       "const          4.1617      3.355      1.240      0.239      -3.148      11.472\n",
       "Units         15.5088      0.505     30.712      0.000      14.409      16.609\n",
       "==============================================================================\n",
       "Omnibus:                        0.746   Durbin-Watson:                   2.051\n",
       "Prob(Omnibus):                  0.689   Jarque-Bera (JB):                0.624\n",
       "Skew:                          -0.069   Prob(JB):                        0.732\n",
       "Kurtosis:                       1.975   Cond. No.                         15.8\n",
       "==============================================================================\n",
       "\n",
       "Warnings:\n",
       "[1] Standard Errors assume that the covariance matrix of the errors is correctly specified.\n",
       "\"\"\""
      ]
     },
     "execution_count": 25,
     "metadata": {},
     "output_type": "execute_result"
    }
   ],
   "source": [
    "model_sm.summary()"
   ]
  },
  {
   "cell_type": "markdown",
   "metadata": {},
   "source": [
    "The intercept $\\beta_0$ for the obtained linear regression model is 4.1617, whereas $\\beta_1$ is approximately 15.508.\n",
    "\n",
    "Similarly, the $R^2$ value and Adjusted $R^2$ value are 0.987 and 0.986 respectively.\n",
    "\n",
    "The adjusted R-squared also indicates the usefulness of the regression model. The adjusted R-squared value takes into account the number of predictor variables as compared to multiple R-squared."
   ]
  },
  {
   "cell_type": "markdown",
   "metadata": {},
   "source": [
    "### Understanding the usefulness of X as a predictor of Y using hypothesis testing\n",
    "\n",
    "An alternate way of determining the usefulness of X as a predictor of Y is to conduct a test of hypothesis about the regression parameter $\\beta_1$.\n",
    "\n",
    "- The __null hypothesis $H_0$__ : $\\beta_1 = 0$  indicates that the regression coefficient $\\beta_1$ is insignificant for the model.\n",
    "\n",
    "In order __to validate the null hypothesis, t-test is used__. The null hypothesis is rejected if the p-value is less than or equal to the significance value.\n",
    "\n",
    "For a significance level of 0.05, the best fit model obtained for computer repairs data has a p-value of 0.000(as shown below). The null hypothesis can thus be rejected since the p-value (0.000) is less than the significance level of 0.05\n",
    "\n",
    "![](images/hypo_test.PNG)"
   ]
  },
  {
   "cell_type": "markdown",
   "metadata": {},
   "source": [
    "In addition to the t-test (which helps understand the usefulness of X as a predictor of Y), __the overall significance of the model can be suggested by the F-test.__\n",
    "\n",
    "For a given significance level the null hypothesis (i.e. all the regression coefficients of the model are zero) can be rejected if the p-value for the F-test is less than the significance level.\n",
    "\n",
    "For a significance level of 0.05, the null hypothesis for the F-test can be rejected since the p-value 8.916e-13 (as shown above) is less than the significance level of 0.05. The F-test for the given sample data thus suggests that the obtained best fit model is significant."
   ]
  }
 ],
 "metadata": {
  "kernelspec": {
   "display_name": "Python 3",
   "language": "python",
   "name": "python3"
  },
  "language_info": {
   "codemirror_mode": {
    "name": "ipython",
    "version": 3
   },
   "file_extension": ".py",
   "mimetype": "text/x-python",
   "name": "python",
   "nbconvert_exporter": "python",
   "pygments_lexer": "ipython3",
   "version": "3.7.3"
  }
 },
 "nbformat": 4,
 "nbformat_minor": 2
}
