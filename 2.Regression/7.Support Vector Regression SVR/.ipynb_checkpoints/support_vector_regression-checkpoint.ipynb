{
 "cells": [
  {
   "cell_type": "markdown",
   "metadata": {},
   "source": [
    "# [Support Vector Regression Or SVR](https://medium.com/coinmonks/support-vector-regression-or-svr-8eb3acf6d0ff)\n",
    "\n",
    "SVR is a bit different from SVM. As the name suggest the SVR is an regression algorithm , so we can use SVR for working with continuous Values instead of Classification which is SVM.\n",
    "\n",
    "Important terms:\n",
    "1. __Kernel:__ The function used to map a lower dimensional data into a higher dimensional data.\n",
    "2. __Hyper Plane:__ In SVM this is basically the separation line between the data classes. Although in SVR we are going to define it as the line that will will help us predict the continuous value or target value\n",
    "3. __Boundary line:__ In SVM there are two lines other than Hyper Plane which creates a margin . The support vectors can be on the Boundary lines or outside it. This boundary line separates the two classes. In SVR the concept is same.\n",
    "4. __Support vectors:__ This are the data points which are closest to the boundary. The distance of the points is minimum or least.\n",
    "\n",
    "\n",
    "#### Whats the main difference between SVR and a simple regression model?\n",
    "> In simple regression we try to minimise the error rate. While in SVR we try to fit the error within a certain threshold.\n",
    "\n",
    "![](2_svr.PNG)\n",
    "Blue line: Hyper Plane; Red Line: Boundary Line\n",
    "\n",
    "\n",
    "***\n",
    "\n",
    "see how all the points are within the boundary line(Red Line). __Our objective when we are moving on with SVR is to basically consider the points that are within the boundary line.__ Our best fit line is the line hyperplane that has maximum number of points.\n",
    "\n",
    "#### what is this boundary line(red line, in fig above)?\n",
    "\n",
    "Think of it as lines which are at a distance of $\\epsilon$ from the hyperplane. Or, a __margin of tolerance (epsilon)__.\n",
    "\n",
    "> So the lines that we draw are at $\\epsilon$ and $-\\epsilon$ distance from Hyper Plane.\n",
    "\n",
    "Assuming our hyper plane is a straight line going through the Y axis $y = 0$ \n",
    "We can say that the Equation of the hyper plane is:\n",
    "\n",
    "$$wx + b = 0$$\n",
    "\n",
    "So we can state that the two the equation of the boundary lines are  \n",
    "$$ Wx+b=+\\epsilon$$\n",
    "$$Wx+b=-\\epsilon$$\n",
    "respectively\n",
    "\n",
    "Thus coming in terms with the fact that for any linear hyper plane the equation that satisfy our SVR is:\n",
    "\n",
    "$$ -\\epsilon \\leq y-Wx-b \\leq +\\epsilon $$\n",
    "\n",
    "as $y=Wx+b$\n",
    "\n",
    "> What we are trying to do here is basically trying to decide a decision boundary at $\\epsilon$ distance from the original hyper plane such that data points closest to the hyper plane or the support vectors are within that boundary line.\n",
    "\n",
    "Thus the decision boundary is our Margin of tolerance that is We are going to take only those points which are within this boundary.  \n",
    "\n",
    "\n",
    "Or in simple terms that we are going to take only those points which have least error rate. Thus giving us a better fitting model.\n",
    "\n",
    "![](2_svr_l.PNG)\n",
    "\n",
    "![](2_ker.PNG)"
   ]
  },
  {
   "cell_type": "markdown",
   "metadata": {},
   "source": [
    "# Support Vector Regression (SVR)\n",
    "\n",
    "- Support Vector Machines support linear and nonlinear regression that we can refer to as SVR.\n",
    "- Instead of trying to fit the largest possible street between two classes while limiting margin violations, SVR tries to fit as many instances as possible on the street while limiting margin violations.\n",
    "- The width of the street is controlled by a hyperparameter Epsilon.\n",
    "- SVR performs linear rgeression in a higher (dimensional space).\n",
    "- We can think of SVR as if each data point in the training represents it's own dimension. When you evaluate your kernel between a test point and a point in the training set the resulting value gives you the coordinate of your test point in that dimesnion.\n",
    "- The vector we get when we evaluate the test point for all points in the training set k'(k-vector) is the representation of the test point in the higher dimensional space.\n",
    "- Once u have that vector u have to use it to perform a linear regression.\n",
    "\n",
    "![](img.png)\n",
    "\n",
    "We have or we are trying to fit as many instances as possible on the street while limiting margin violatons.  The point here is to limit the margins with Epsilon and to find the support vectors within the street and on a side note SVR and in particular gaussian processes are a very good method to use for efficient computations by precomputing a training set and then using SVR to interpret the results.\n",
    "\n",
    "The SVR algorithm is concerned with is controlling the threshold and support vectors within.\n",
    "\n",
    "\n",
    "### Requirements for SVR\n",
    "SVR requires a training set: $\\tau = {\\overline{X},\\overline{Y}}$ which covers the domain of interest and is accomapanied by solutions on that domain.\n",
    "\n",
    "The work of the SVM is to approximate the function we used to generate the training set : $F\\overline(X) = \\overline(Y)$\n",
    "\n",
    "In a classification problem, the vectors $\\overline(X)$ are used to define a hyperplane that seperates the two different classes in your solution. \n",
    "\n",
    "Theses vectors are used to perform linear regression. The vectors closest to the test point are referred to as support vectors. We can evaluate our function anywhere so any vectors could be closest to our test evaluation location.\n",
    "\n",
    "We want to limit the space i.e., the street and the support vectors within it.\n",
    "\n",
    "## How does svr work and what steps are required to perform SVR?\n",
    "\n",
    "#### Building a SVR\n",
    "\n",
    "![](buildin_svr.png)\n",
    "\n",
    "\n",
    "Next step is to choose a kernel: Kernel choice becomes important because if you choose a kernel that goes to zero as the distance between the arguments grow or  as you move away from the train data the machine will return the mean value of the training data. Most used __Gaussian__.\n",
    "\n",
    "![](svr_kernel.png)\n",
    "\n",
    "In addition to choosing kernel, __Regularization__ is also important and it matters because due to the training set with noise the regularizer will help prevent wild fluctuations between data points by smoothing out the price/fluctuations.\n",
    "\n",
    "![](corr_matrix.png)\n",
    "\n",
    "In the correlation matrix we are evaluating the kernel for all pairs of points in the training set and adding the regularizer resulting in the matrix. \n",
    "\n",
    "![](main_part.png)\n",
    "\n",
    "![](part_2.png)\n",
    "- Noise\n",
    "\n",
    "## Recap of SVR\n",
    "\n",
    "SVR has a different regression goal compared to linear regression, In Linear regression we are trying to minimize the error between the prediction and the data. In SVR our goal is to make sure that erros do not exceed the threshold.\n",
    "\n",
    "What SVR does in this sense is that it classifies all the linear predictions into two types:  \n",
    "The predictor lines that pass through error bars are drawn and predictor lines that dont pass through those bars are not acceptable because it means the difference or the distance between the predictions and the actual  volumes at those points have exceeded the error threshold.\n",
    "\n",
    "SVR is an extension of SVM.\n",
    "\n",
    "Reference:\n",
    "\n",
    "- [Mathematics in R Markdown](https://www.calvin.edu/~rpruim/courses/s341/S17/from-class/MathinRmd.html)"
   ]
  },
  {
   "cell_type": "markdown",
   "metadata": {},
   "source": [
    "# SVR in Python"
   ]
  },
  {
   "cell_type": "code",
   "execution_count": 1,
   "metadata": {},
   "outputs": [],
   "source": [
    "# Importing the libraries\n",
    "import numpy as np\n",
    "import matplotlib.pyplot as plt\n",
    "import pandas as pd\n",
    "import seaborn as sns\n",
    "%matplotlib inline\n",
    "sns.set()"
   ]
  },
  {
   "cell_type": "code",
   "execution_count": 2,
   "metadata": {},
   "outputs": [],
   "source": [
    "# Importing the dataset\n",
    "dataset = pd.read_csv('Position_Salaries.csv')\n",
    "X = dataset.iloc[:, 1:2].values\n",
    "y = dataset.iloc[:, 2].values"
   ]
  },
  {
   "cell_type": "code",
   "execution_count": 3,
   "metadata": {},
   "outputs": [],
   "source": [
    "# Splitting the dataset into the Training set and Test set\n",
    "# from sklearn.cross_validation import train_test_split\n",
    "# X_train, X_test, y_train, y_test = train_test_split(X, y, test_size = 0.2, random_state = 0)\"\"\""
   ]
  },
  {
   "cell_type": "code",
   "execution_count": 4,
   "metadata": {},
   "outputs": [],
   "source": [
    "# Feature Scaling\n",
    "# from sklearn.preprocessing import StandardScaler\n",
    "# sc_X = StandardScaler()\n",
    "# X_train = sc_X.fit_transform(X_train)\n",
    "# X_test = sc_X.transform(X_test)\n",
    "# sc_y = StandardScaler()\n",
    "# y_train = sc_y.fit_transform(y_train)"
   ]
  },
  {
   "cell_type": "markdown",
   "metadata": {},
   "source": [
    "[Sklearn SVM SVC](https://scikit-learn.org/stable/modules/generated/sklearn.svm.SVR.html)"
   ]
  },
  {
   "cell_type": "code",
   "execution_count": 5,
   "metadata": {},
   "outputs": [
    {
     "data": {
      "text/plain": [
       "SVR(C=1.0, cache_size=200, coef0=0.0, degree=3, epsilon=0.1, gamma='scale',\n",
       "    kernel='rbf', max_iter=-1, shrinking=True, tol=0.001, verbose=False)"
      ]
     },
     "execution_count": 5,
     "metadata": {},
     "output_type": "execute_result"
    }
   ],
   "source": [
    "# Fitting the Regression Model to the dataset\n",
    "# Create your regressor here\n",
    "from sklearn.svm import SVR\n",
    "regressor = SVR(kernel = 'rbf') # rbf as our problem is non-linear\n",
    "\n",
    "# fit the regressor to X\n",
    "regressor.fit(X,y)"
   ]
  },
  {
   "cell_type": "code",
   "execution_count": 6,
   "metadata": {},
   "outputs": [],
   "source": [
    "# Predicting a new result\n",
    "y_pred = regressor.predict([[6.5]])"
   ]
  },
  {
   "cell_type": "code",
   "execution_count": 7,
   "metadata": {},
   "outputs": [
    {
     "data": {
      "text/plain": [
       "array([130001.82883924])"
      ]
     },
     "execution_count": 7,
     "metadata": {},
     "output_type": "execute_result"
    }
   ],
   "source": [
    "y_pred"
   ]
  },
  {
   "cell_type": "code",
   "execution_count": 8,
   "metadata": {},
   "outputs": [
    {
     "data": {
      "image/png": "[encoded data removed]",
      "text/plain": [
       "<Figure size 432x288 with 1 Axes>"
      ]
     },
     "metadata": {},
     "output_type": "display_data"
    }
   ],
   "source": [
    "# Visualising the Regression results\n",
    "plt.scatter(X, y, color = 'red')\n",
    "plt.plot(X, regressor.predict(X), color = 'blue')\n",
    "plt.title('Truth or Bluff (SVR Regression Model)')\n",
    "plt.xlabel('Position level')\n",
    "plt.ylabel('Salary')\n",
    "plt.show()"
   ]
  },
  {
   "cell_type": "markdown",
   "metadata": {},
   "source": [
    "Why we obtained a blue horizontal line here?\n",
    "\n",
    "Its due to feature scaling problem. As the class SVR dosnt apply feature scaling. So we need to reset our model."
   ]
  },
  {
   "cell_type": "code",
   "execution_count": 9,
   "metadata": {},
   "outputs": [],
   "source": [
    "dataset = pd.read_csv('Position_Salaries.csv')\n",
    "X = dataset.iloc[:, 1:2].values\n",
    "y = dataset.iloc[:, 2].values"
   ]
  },
  {
   "cell_type": "code",
   "execution_count": 10,
   "metadata": {},
   "outputs": [],
   "source": [
    "# Feature Scaling\n",
    "from sklearn.preprocessing import StandardScaler\n",
    "sc_X = StandardScaler()\n",
    "X = sc_X.fit_transform(X)\n",
    "sc_y = StandardScaler()\n",
    "y = sc_y.fit_transform(np.reshape(y, (-1,1)))"
   ]
  },
  {
   "cell_type": "code",
   "execution_count": 11,
   "metadata": {},
   "outputs": [
    {
     "data": {
      "text/plain": [
       "array([[-0.72004253],\n",
       "       [-0.70243757],\n",
       "       [-0.66722767],\n",
       "       [-0.59680786],\n",
       "       [-0.49117815],\n",
       "       [-0.35033854],\n",
       "       [-0.17428902],\n",
       "       [ 0.17781001],\n",
       "       [ 0.88200808],\n",
       "       [ 2.64250325]])"
      ]
     },
     "execution_count": 11,
     "metadata": {},
     "output_type": "execute_result"
    }
   ],
   "source": [
    "y"
   ]
  },
  {
   "cell_type": "code",
   "execution_count": 12,
   "metadata": {},
   "outputs": [
    {
     "data": {
      "text/plain": [
       "array([[-0.72004253],\n",
       "       [-0.70243757],\n",
       "       [-0.66722767],\n",
       "       [-0.59680786],\n",
       "       [-0.49117815],\n",
       "       [-0.35033854],\n",
       "       [-0.17428902],\n",
       "       [ 0.17781001],\n",
       "       [ 0.88200808],\n",
       "       [ 2.64250325]])"
      ]
     },
     "execution_count": 12,
     "metadata": {},
     "output_type": "execute_result"
    }
   ],
   "source": [
    "np.reshape(y, (-1,1))"
   ]
  },
  {
   "cell_type": "code",
   "execution_count": 13,
   "metadata": {},
   "outputs": [
    {
     "name": "stderr",
     "output_type": "stream",
     "text": [
      "C:\\Software_installations\\Anaconda\\lib\\site-packages\\sklearn\\utils\\validation.py:760: DataConversionWarning: A column-vector y was passed when a 1d array was expected. Please change the shape of y to (n_samples, ), for example using ravel().\n",
      "  y = column_or_1d(y, warn=True)\n"
     ]
    },
    {
     "data": {
      "text/plain": [
       "SVR(C=1.0, cache_size=200, coef0=0.0, degree=3, epsilon=0.1, gamma='scale',\n",
       "    kernel='rbf', max_iter=-1, shrinking=True, tol=0.001, verbose=False)"
      ]
     },
     "execution_count": 13,
     "metadata": {},
     "output_type": "execute_result"
    }
   ],
   "source": [
    "# Fitting the Regression Model to the dataset\n",
    "# Create your regressor here\n",
    "from sklearn.svm import SVR\n",
    "regressor = SVR(kernel = 'rbf') # rbf as our problem is non-linear\n",
    "\n",
    "# fit the regressor to X\n",
    "regressor.fit(X,y)"
   ]
  },
  {
   "cell_type": "code",
   "execution_count": 14,
   "metadata": {},
   "outputs": [],
   "source": [
    "# Predicting a new result\n",
    "y_pred = regressor.predict([[6.5]])"
   ]
  },
  {
   "cell_type": "code",
   "execution_count": 15,
   "metadata": {},
   "outputs": [
    {
     "data": {
      "text/plain": [
       "array([0.01158103])"
      ]
     },
     "execution_count": 15,
     "metadata": {},
     "output_type": "execute_result"
    }
   ],
   "source": [
    "y_pred"
   ]
  },
  {
   "cell_type": "code",
   "execution_count": 16,
   "metadata": {},
   "outputs": [
    {
     "data": {
      "image/png": "[encoded data removed]",
      "text/plain": [
       "<Figure size 432x288 with 1 Axes>"
      ]
     },
     "metadata": {},
     "output_type": "display_data"
    }
   ],
   "source": [
    "# Visualising the Regression results\n",
    "plt.scatter(X, y, color = 'red')\n",
    "plt.plot(X, regressor.predict(X), color = 'blue')\n",
    "plt.title('Truth or Bluff (SVR Regression Model)')\n",
    "plt.xlabel('Position level')\n",
    "plt.ylabel('Salary')\n",
    "plt.show()"
   ]
  },
  {
   "cell_type": "markdown",
   "metadata": {},
   "source": [
    "Point is trying to fit to the data. Except the last point for ceo which is considered as an outlier by the SVR.\n",
    "\n",
    "Now we need to transform the scaling done to get back the values in the previous scale."
   ]
  },
  {
   "cell_type": "code",
   "execution_count": 17,
   "metadata": {},
   "outputs": [],
   "source": [
    "y_pred = regressor.predict(sc_X.transform(np.array([[6.5]])))"
   ]
  },
  {
   "cell_type": "code",
   "execution_count": 18,
   "metadata": {},
   "outputs": [
    {
     "data": {
      "text/plain": [
       "array([-0.27861589])"
      ]
     },
     "execution_count": 18,
     "metadata": {},
     "output_type": "execute_result"
    }
   ],
   "source": [
    "y_pred"
   ]
  },
  {
   "cell_type": "markdown",
   "metadata": {},
   "source": [
    "Here we get the scaled prediction of salarywe simply need to inverse the scale tramsformation using inverse transformation object. \n",
    "\n",
    "AS result is for y so scalar object to use here is sc_y."
   ]
  },
  {
   "cell_type": "code",
   "execution_count": 19,
   "metadata": {},
   "outputs": [],
   "source": [
    "y_pred = sc_y.inverse_transform(regressor.predict(sc_X.transform(np.array([[6.5]]))))"
   ]
  },
  {
   "cell_type": "code",
   "execution_count": 20,
   "metadata": {},
   "outputs": [
    {
     "data": {
      "text/plain": [
       "array([170370.0204065])"
      ]
     },
     "execution_count": 20,
     "metadata": {},
     "output_type": "execute_result"
    }
   ],
   "source": [
    "y_pred"
   ]
  },
  {
   "cell_type": "markdown",
   "metadata": {},
   "source": [
    "So we get better prediction and its close to actual salary of 160000."
   ]
  }
 ],
 "metadata": {
  "kernelspec": {
   "display_name": "Python 3",
   "language": "python",
   "name": "python3"
  },
  "language_info": {
   "codemirror_mode": {
    "name": "ipython",
    "version": 3
   },
   "file_extension": ".py",
   "mimetype": "text/x-python",
   "name": "python",
   "nbconvert_exporter": "python",
   "pygments_lexer": "ipython3",
   "version": "3.7.6"
  }
 },
 "nbformat": 4,
 "nbformat_minor": 4
}
