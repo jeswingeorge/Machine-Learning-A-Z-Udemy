{
 "cells": [
  {
   "cell_type": "markdown",
   "metadata": {},
   "source": [
    "# Decision Tree regression\n",
    "\n",
    "### CART - Classification And Regression Trees\n",
    "And this is an umbrella term that encompasses two types of decision trees - Classification and regression trees.  \n",
    "\n",
    "### Regression Trees\n",
    "\n",
    "![](plt1.png)\n",
    "\n",
    "Assume we have been given a dataset and $x_1$ and $x_2$ are the 2 dependant variables with $y$ as an independant variable and the scatterplot is projection of all points on the $x_1-x_2$ axis. \n",
    "\n",
    "Once we run the DT regression algorithm, the algo will around splitting the dataset say, $x_1 < 20$.\n",
    "\n",
    "![](split1.png)\n",
    "\n",
    "Then we will continue the splits till we get - \n",
    "![](split2.png)\n",
    "\n",
    "Now how and where the split will be done is determined by the algorithm and it involves looking at a mathematical concept called __Entropy__. So it basically means when we are performing a split does that increases the amount of information we have about our points (is it actually adding some value to the way we want to group our points) and algorithm knows when to stop when there is a certain minimum for the information that needs to be added. And once like it cannot add anymore information to our set up by splitting those leaves.\n",
    "\n",
    "Most important thing is where the splits are happening. The final set of leaves obtained after split is called _terminal leaves_."
   ]
  },
  {
   "cell_type": "markdown",
   "metadata": {},
   "source": [
    "## Learning the split\n",
    "\n",
    "1st made a split at 20.\n",
    "![](lsplit_1.png)\n",
    "\n",
    "![](lsplit_2.png)\n",
    "\n",
    "Split 2 happens at $x_2 = 170$ and only happens for points of $x_1 > 20$.\n",
    "\n",
    "![](lsplit_3.png)\n",
    "\n",
    "The updated decision tree will be:\n",
    "\n",
    "![](lsplit_4.png)\n",
    "\n",
    "The splt 3 happens on the other side if $x_2 < 200$\n",
    "\n",
    "![](lsplit_5.png)\n",
    "\n",
    "The updated decison tree is - \n",
    "![](lsplit_6.png)\n",
    "\n",
    "Now split 4 happens at $x_1 = 40$ and only for those points where $x_1 > 20$.\n",
    "\n",
    "The updated decision tree is: \n",
    "![](lsplit_7.png)\n",
    "\n",
    "Now where to go from here - Here we must use our dependant variable y. How we are going to predict y for a new observation that gets added to the scatterplot.\n",
    "\n",
    "![](lsplit_8.png)\n",
    "\n",
    "Say we add an observtion $x_1 = 30 and x_2 = 50$ how this info will help us to predict y?\n",
    "\n",
    "We take avg of y for for all the terminal leaves and that value will be assigned to each of the terminal leaves. Assume some values for the given terminal leaves.\n",
    "\n",
    "![](lsplit_9.png)\n",
    "\n",
    "So the new point will have a value of -64.1\n",
    "\n",
    "Add the values to decision tree and when a new value comes up we can based on the conditions in the tree we find the segment besr suited for the point.\n",
    "\n",
    "![](lsplit_10.png)\n",
    "\n",
    "\n",
    "The whole point is to add more points to our system to better predict y"
   ]
  },
  {
   "cell_type": "code",
   "execution_count": 1,
   "metadata": {},
   "outputs": [],
   "source": [
    "# Importing the libraries\n",
    "import numpy as np\n",
    "import matplotlib.pyplot as plt\n",
    "import pandas as pd\n",
    "import seaborn as sns\n",
    "sns.set()\n",
    "%matplotlib inline"
   ]
  },
  {
   "cell_type": "code",
   "execution_count": 2,
   "metadata": {},
   "outputs": [],
   "source": [
    "# Importing the dataset\n",
    "dataset = pd.read_csv('Position_Salaries.csv')\n",
    "X = dataset.iloc[:, 1:2].values\n",
    "y = dataset.iloc[:, 2].values"
   ]
  },
  {
   "cell_type": "code",
   "execution_count": 3,
   "metadata": {},
   "outputs": [],
   "source": [
    "# Splitting the dataset into the Training set and Test set\n",
    "# from sklearn.cross_validation import train_test_split\n",
    "# X_train, X_test, y_train, y_test = train_test_split(X, y, test_size = 0.2, random_state = 0)\n",
    "\n",
    "# Feature Scaling\n",
    "# from sklearn.preprocessing import StandardScaler\n",
    "# sc_X = StandardScaler()\n",
    "# X_train = sc_X.fit_transform(X_train)\n",
    "# X_test = sc_X.transform(X_test)\n",
    "# sc_y = StandardScaler()\n",
    "# y_train = sc_y.fit_transform(y_train)"
   ]
  },
  {
   "cell_type": "code",
   "execution_count": 4,
   "metadata": {},
   "outputs": [
    {
     "data": {
      "text/plain": [
       "DecisionTreeRegressor(ccp_alpha=0.0, criterion='mse', max_depth=None,\n",
       "                      max_features=None, max_leaf_nodes=None,\n",
       "                      min_impurity_decrease=0.0, min_impurity_split=None,\n",
       "                      min_samples_leaf=1, min_samples_split=2,\n",
       "                      min_weight_fraction_leaf=0.0, presort='deprecated',\n",
       "                      random_state=0, splitter='best')"
      ]
     },
     "execution_count": 4,
     "metadata": {},
     "output_type": "execute_result"
    }
   ],
   "source": [
    "# Fitting Decision Tree Regression to the dataset\n",
    "from sklearn.tree import DecisionTreeRegressor\n",
    "regressor = DecisionTreeRegressor(random_state=0)\n",
    "regressor.fit(X, y)"
   ]
  },
  {
   "cell_type": "code",
   "execution_count": 5,
   "metadata": {},
   "outputs": [],
   "source": [
    "# predicting a new result\n",
    "y_pred = regressor.predict([[6.5]])"
   ]
  },
  {
   "cell_type": "code",
   "execution_count": 6,
   "metadata": {},
   "outputs": [
    {
     "data": {
      "text/plain": [
       "array([150000.])"
      ]
     },
     "execution_count": 6,
     "metadata": {},
     "output_type": "execute_result"
    }
   ],
   "source": [
    "y_pred"
   ]
  },
  {
   "cell_type": "code",
   "execution_count": 7,
   "metadata": {},
   "outputs": [
    {
     "data": {
      "image/png": "[encoded data removed]",
      "text/plain": [
       "<Figure size 432x288 with 1 Axes>"
      ]
     },
     "metadata": {
      "needs_background": "light"
     },
     "output_type": "display_data"
    }
   ],
   "source": [
    "# Visualising the Decision Tree Regression results\n",
    "plt.scatter(X, y, color = 'red')\n",
    "plt.plot(X, regressor.predict(X), color = 'blue')\n",
    "plt.title('Truth or Bluff Regression')\n",
    "plt.xlabel('Position level')\n",
    "plt.ylabel('Salary')\n",
    "plt.show()"
   ]
  },
  {
   "cell_type": "markdown",
   "metadata": {},
   "source": [
    "The above flag show its a Trap or wrong way.\n",
    "\n",
    "From the above tutorial we saw the difference intervals form some rectangles in which we took the average of the dependant variable values but as here we have only one dimension so the algorithm will only take intervals of the independant variable and if its calculating the average in those intervals how do we have the straight line that is not horizontal as the decison tree calculates the avergae of the dependant variable y (i.e., salary) and therefore for all the levels contained in this interval the value of the prediction should be a constant equal to the average but from the above graph its not a constant. So either its considering an infinity of intervals with different constants in each of those intervals or either we have a problem here.\n",
    "\n",
    "So the problem is 2nd one i.e., problem is in our template so here its only plotting the predictions of the 10 salaries corresponding to the 10 levels and its joining the predictions by a straight line here coz it had no predictions to plot in this interval in the independant variable level. This problem appears here only because the other models were contiuous.\n",
    "\n",
    "__Decision Tree regression__ is a non-linear and non-continuous regression model.\n",
    "\n"
   ]
  },
  {
   "cell_type": "code",
   "execution_count": 8,
   "metadata": {},
   "outputs": [
    {
     "data": {
      "image/png": "[encoded data removed]",
      "text/plain": [
       "<Figure size 432x288 with 1 Axes>"
      ]
     },
     "metadata": {
      "needs_background": "light"
     },
     "output_type": "display_data"
    }
   ],
   "source": [
    "# Visualising the Decision Tree Regression results (higher resolution)\n",
    "X_grid = np.arange(min(X), max(X), 0.01)\n",
    "X_grid = X_grid.reshape((len(X_grid), 1))\n",
    "plt.scatter(X, y, color = 'red')\n",
    "plt.plot(X_grid, regressor.predict(X_grid), color = 'blue')\n",
    "plt.title('Truth or Bluff (Decision Tree Regression)')\n",
    "plt.xlabel('Position level')\n",
    "plt.ylabel('Salary')\n",
    "plt.show()"
   ]
  },
  {
   "cell_type": "markdown",
   "metadata": {},
   "source": [
    "So here we have constant value for each interval. So in interval between 5.5 and 6.5 it will be 150000.\n",
    "\n",
    "__Random forest__ is a collection of several trees."
   ]
  }
 ],
 "metadata": {
  "kernelspec": {
   "display_name": "Python 3",
   "language": "python",
   "name": "python3"
  },
  "language_info": {
   "codemirror_mode": {
    "name": "ipython",
    "version": 3
   },
   "file_extension": ".py",
   "mimetype": "text/x-python",
   "name": "python",
   "nbconvert_exporter": "python",
   "pygments_lexer": "ipython3",
   "version": "3.7.6"
  }
 },
 "nbformat": 4,
 "nbformat_minor": 4
}
