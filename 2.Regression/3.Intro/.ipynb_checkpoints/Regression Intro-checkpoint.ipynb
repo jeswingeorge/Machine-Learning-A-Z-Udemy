{
 "cells": [
  {
   "cell_type": "markdown",
   "metadata": {},
   "source": [
    "# __Regression models__ \n",
    "Regression models(both linear and non-linear) are used for predicting a real value, like salary for example. If your independent variable is time, then you are forecasting future values, otherwise your model is predicting present but unknown values. Regression technique vary from Linear Regression to SVR and Random Forests Regression.\n",
    "\n",
    "\n",
    "There are various kinds of regression techniques available to make predictions. These techniques are mostly driven by three metrics:\n",
    "- number of independent variables\n",
    "- type of dependent variables\n",
    "- shape of regression line\n",
    "\n",
    "## ML Regression models:\n",
    "\n",
    "- Simple Linear Regression\n",
    "- Multiple Linear Regression\n",
    "- Polynomial Regression\n",
    "- Support Vector for Regression (SVR)\n",
    "- Decision Tree Classification\n",
    "- Random Forest Classification\n",
    "- Ridge Regression\n",
    "- Lasso Regression\n",
    "- ElasticNet Regression"
   ]
  }
 ],
 "metadata": {
  "kernelspec": {
   "display_name": "Python 3",
   "language": "python",
   "name": "python3"
  },
  "language_info": {
   "codemirror_mode": {
    "name": "ipython",
    "version": 3
   },
   "file_extension": ".py",
   "mimetype": "text/x-python",
   "name": "python",
   "nbconvert_exporter": "python",
   "pygments_lexer": "ipython3",
   "version": "3.7.6"
  }
 },
 "nbformat": 4,
 "nbformat_minor": 2
}
