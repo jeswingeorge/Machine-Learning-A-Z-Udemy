{
 "cells": [
  {
   "cell_type": "markdown",
   "metadata": {},
   "source": [
    "### 5 methods of building a model:\n",
    "\n",
    "1. All-in\n",
    "2. Backward Elimination\n",
    "3. Forward selection\n",
    "4. Bidirectional Elimination\n",
    "5. Score comparison\n",
    "\n",
    "\n",
    "##### Step-wise regression (refers to) -> Backward Elimination,  Forward selection, Bidirectional Elimination\n",
    "\n",
    "But usually __Step-wise regression__ implies  __Backward Elimination__.\n",
    "\n",
    "\n",
    "- __All-in :__ used in cases when\n",
    "            - Prior knowledge of every variable and you are sure, OR\n",
    "            - You have to as per requirements, OR\n",
    "            - Prepring for backward elimination.\n",
    "\n",
    "- __Backward Elimination :__ \n",
    "![](BE.PNG)\n",
    "\n",
    "- __Forward selection :__\n",
    "![](FS.PNG)\n",
    "\n",
    "- __Bidirectional Elimination :__\n",
    "![](BidiEli.PNG)\n",
    "\n",
    "- __Score comparison :__\n",
    "![](score.PNG)"
   ]
  },
  {
   "cell_type": "code",
   "execution_count": null,
   "metadata": {},
   "outputs": [],
   "source": []
  }
 ],
 "metadata": {
  "kernelspec": {
   "display_name": "Python 3",
   "language": "python",
   "name": "python3"
  },
  "language_info": {
   "codemirror_mode": {
    "name": "ipython",
    "version": 3
   },
   "file_extension": ".py",
   "mimetype": "text/x-python",
   "name": "python",
   "nbconvert_exporter": "python",
   "pygments_lexer": "ipython3",
   "version": "3.7.3"
  }
 },
 "nbformat": 4,
 "nbformat_minor": 2
}
