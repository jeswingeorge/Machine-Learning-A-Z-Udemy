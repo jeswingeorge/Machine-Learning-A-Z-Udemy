{
 "cells": [
  {
   "cell_type": "markdown",
   "metadata": {},
   "source": [
    "# Exponential Regression"
   ]
  },
  {
   "cell_type": "code",
   "execution_count": 1,
   "metadata": {
    "ExecuteTime": {
     "end_time": "2020-04-14T16:06:15.651806Z",
     "start_time": "2020-04-14T16:05:37.977616Z"
    }
   },
   "outputs": [],
   "source": [
    "import pandas as pd\n",
    "import numpy as np\n",
    "import matplotlib.pyplot as plt\n",
    "import seaborn as sns\n",
    "%matplotlib inline\n",
    "sns.set()\n",
    "import scipy.stats as stats"
   ]
  },
  {
   "cell_type": "code",
   "execution_count": 2,
   "metadata": {
    "ExecuteTime": {
     "end_time": "2020-04-14T16:08:39.235601Z",
     "start_time": "2020-04-14T16:08:39.225609Z"
    }
   },
   "outputs": [],
   "source": [
    "import warnings\n",
    "warnings.filterwarnings(\"ignore\")"
   ]
  },
  {
   "cell_type": "code",
   "execution_count": 3,
   "metadata": {
    "ExecuteTime": {
     "end_time": "2020-04-14T16:08:43.639368Z",
     "start_time": "2020-04-14T16:08:39.918334Z"
    }
   },
   "outputs": [
    {
     "data": {
      "text/html": [
       "<div>\n",
       "<style scoped>\n",
       "    .dataframe tbody tr th:only-of-type {\n",
       "        vertical-align: middle;\n",
       "    }\n",
       "\n",
       "    .dataframe tbody tr th {\n",
       "        vertical-align: top;\n",
       "    }\n",
       "\n",
       "    .dataframe thead th {\n",
       "        text-align: right;\n",
       "    }\n",
       "</style>\n",
       "<table border=\"1\" class=\"dataframe\">\n",
       "  <thead>\n",
       "    <tr style=\"text-align: right;\">\n",
       "      <th></th>\n",
       "      <th>Miles_driven</th>\n",
       "      <th>Percentage_Useable</th>\n",
       "    </tr>\n",
       "  </thead>\n",
       "  <tbody>\n",
       "    <tr>\n",
       "      <th>0</th>\n",
       "      <td>1</td>\n",
       "      <td>98.2</td>\n",
       "    </tr>\n",
       "    <tr>\n",
       "      <th>1</th>\n",
       "      <td>2</td>\n",
       "      <td>91.7</td>\n",
       "    </tr>\n",
       "    <tr>\n",
       "      <th>2</th>\n",
       "      <td>5</td>\n",
       "      <td>81.3</td>\n",
       "    </tr>\n",
       "    <tr>\n",
       "      <th>3</th>\n",
       "      <td>10</td>\n",
       "      <td>64.0</td>\n",
       "    </tr>\n",
       "    <tr>\n",
       "      <th>4</th>\n",
       "      <td>20</td>\n",
       "      <td>36.4</td>\n",
       "    </tr>\n",
       "  </tbody>\n",
       "</table>\n",
       "</div>"
      ],
      "text/plain": [
       "   Miles_driven  Percentage_Useable\n",
       "0             1                98.2\n",
       "1             2                91.7\n",
       "2             5                81.3\n",
       "3            10                64.0\n",
       "4            20                36.4"
      ]
     },
     "execution_count": 3,
     "metadata": {},
     "output_type": "execute_result"
    }
   ],
   "source": [
    "tire = pd.read_excel('Tire_useability.xlsx')\n",
    "tire.head()"
   ]
  },
  {
   "cell_type": "code",
   "execution_count": 5,
   "metadata": {
    "ExecuteTime": {
     "end_time": "2020-04-14T16:09:03.711499Z",
     "start_time": "2020-04-14T16:09:02.754029Z"
    }
   },
   "outputs": [
    {
     "data": {
      "text/plain": [
       "Text(0, 0.5, 'Percentage Useable')"
      ]
     },
     "execution_count": 5,
     "metadata": {},
     "output_type": "execute_result"
    },
    {
     "data": {
      "image/png": "[encoded data removed]",
      "text/plain": [
       "<Figure size 864x504 with 1 Axes>"
      ]
     },
     "metadata": {},
     "output_type": "display_data"
    }
   ],
   "source": [
    "plt.figure(figsize=(12,7))\n",
    "plt.scatter(x = \"Miles_driven\", y = \"Percentage_Useable\", data = tire)\n",
    "plt.title(\"Scatter plot of Miles driven vs. Percentage Useable\")\n",
    "plt.xlabel(\"Miles driven\")\n",
    "plt.ylabel(\"Percentage Useable\")"
   ]
  },
  {
   "cell_type": "markdown",
   "metadata": {},
   "source": [
    "The above scatter plot suggests an exponential relationship between miles driven and the percentage usability of the tire.\n",
    "\n",
    "The exponential regression model to predict the percentage usability of the tire based on the miles driven can be represented as\n",
    "\n",
    "$$ Percentage-Useable   = \\beta_0e^{\\beta_{1}(Miles-driven)}  $$\n",
    "\n",
    "Taking the log of both sides the above equation can be written as \n",
    "\n",
    "$$ log(Percentage-Useable) = log(\\beta_0) + \\beta_1(Miles-driven) $$\n",
    "\n",
    "we can thus fit a simple linear regression model to predict the percentage usability of the tire based on the miles driven, where the dependent (target) variable is log(Percentage_Useable)  and the independent (predictor) variable is Miles_driven.\n",
    "\n",
    "The scatter between log(Percentage_Useable) and Miles_driven (as shown below) further suggest that a simple linear regression model can be used predict the percentage usability of the tire based on the miles driven, where the dependent (target) variable is log(Percentage_Useable)  and the predictor variable is Miles_driven.\n",
    "\n"
   ]
  },
  {
   "cell_type": "code",
   "execution_count": 11,
   "metadata": {
    "ExecuteTime": {
     "end_time": "2020-04-14T16:17:57.199216Z",
     "start_time": "2020-04-14T16:17:57.150246Z"
    }
   },
   "outputs": [],
   "source": [
    "tire[\"log_percentage_useable\"] = np.log(tire[\"Percentage_Useable\"])"
   ]
  },
  {
   "cell_type": "code",
   "execution_count": 12,
   "metadata": {
    "ExecuteTime": {
     "end_time": "2020-04-14T16:17:58.716629Z",
     "start_time": "2020-04-14T16:17:58.700655Z"
    }
   },
   "outputs": [
    {
     "data": {
      "text/html": [
       "<div>\n",
       "<style scoped>\n",
       "    .dataframe tbody tr th:only-of-type {\n",
       "        vertical-align: middle;\n",
       "    }\n",
       "\n",
       "    .dataframe tbody tr th {\n",
       "        vertical-align: top;\n",
       "    }\n",
       "\n",
       "    .dataframe thead th {\n",
       "        text-align: right;\n",
       "    }\n",
       "</style>\n",
       "<table border=\"1\" class=\"dataframe\">\n",
       "  <thead>\n",
       "    <tr style=\"text-align: right;\">\n",
       "      <th></th>\n",
       "      <th>Miles_driven</th>\n",
       "      <th>Percentage_Useable</th>\n",
       "      <th>log_percentage_useable</th>\n",
       "    </tr>\n",
       "  </thead>\n",
       "  <tbody>\n",
       "    <tr>\n",
       "      <th>0</th>\n",
       "      <td>1</td>\n",
       "      <td>98.2</td>\n",
       "      <td>4.587006</td>\n",
       "    </tr>\n",
       "    <tr>\n",
       "      <th>1</th>\n",
       "      <td>2</td>\n",
       "      <td>91.7</td>\n",
       "      <td>4.518522</td>\n",
       "    </tr>\n",
       "    <tr>\n",
       "      <th>2</th>\n",
       "      <td>5</td>\n",
       "      <td>81.3</td>\n",
       "      <td>4.398146</td>\n",
       "    </tr>\n",
       "    <tr>\n",
       "      <th>3</th>\n",
       "      <td>10</td>\n",
       "      <td>64.0</td>\n",
       "      <td>4.158883</td>\n",
       "    </tr>\n",
       "    <tr>\n",
       "      <th>4</th>\n",
       "      <td>20</td>\n",
       "      <td>36.4</td>\n",
       "      <td>3.594569</td>\n",
       "    </tr>\n",
       "    <tr>\n",
       "      <th>5</th>\n",
       "      <td>30</td>\n",
       "      <td>32.6</td>\n",
       "      <td>3.484312</td>\n",
       "    </tr>\n",
       "    <tr>\n",
       "      <th>6</th>\n",
       "      <td>40</td>\n",
       "      <td>17.1</td>\n",
       "      <td>2.839078</td>\n",
       "    </tr>\n",
       "    <tr>\n",
       "      <th>7</th>\n",
       "      <td>50</td>\n",
       "      <td>11.3</td>\n",
       "      <td>2.424803</td>\n",
       "    </tr>\n",
       "  </tbody>\n",
       "</table>\n",
       "</div>"
      ],
      "text/plain": [
       "   Miles_driven  Percentage_Useable  log_percentage_useable\n",
       "0             1                98.2                4.587006\n",
       "1             2                91.7                4.518522\n",
       "2             5                81.3                4.398146\n",
       "3            10                64.0                4.158883\n",
       "4            20                36.4                3.594569\n",
       "5            30                32.6                3.484312\n",
       "6            40                17.1                2.839078\n",
       "7            50                11.3                2.424803"
      ]
     },
     "execution_count": 12,
     "metadata": {},
     "output_type": "execute_result"
    }
   ],
   "source": [
    "tire"
   ]
  },
  {
   "cell_type": "code",
   "execution_count": 14,
   "metadata": {
    "ExecuteTime": {
     "end_time": "2020-04-14T16:19:29.781408Z",
     "start_time": "2020-04-14T16:19:29.357656Z"
    }
   },
   "outputs": [
    {
     "data": {
      "text/plain": [
       "Text(0, 0.5, 'Log of Percentage Useable')"
      ]
     },
     "execution_count": 14,
     "metadata": {},
     "output_type": "execute_result"
    },
    {
     "data": {
      "image/png": "[encoded data removed]",
      "text/plain": [
       "<Figure size 864x504 with 1 Axes>"
      ]
     },
     "metadata": {},
     "output_type": "display_data"
    }
   ],
   "source": [
    "plt.figure(figsize=(12,7))\n",
    "plt.scatter(x = \"Miles_driven\", y=\"log_percentage_useable\",data = tire)\n",
    "plt.title(\"Scatter plot of Miles driven vs. Log of Percentage Useable\")\n",
    "plt.xlabel(\"Miles driven\")\n",
    "plt.ylabel(\"Log of Percentage Useable\")"
   ]
  },
  {
   "cell_type": "markdown",
   "metadata": {},
   "source": [
    "### Determining an Exponential Regression Model\n",
    "\n",
    "The exponential regression model to predict the percentage usability of the tire based on miles driven can be determined in R as shown below."
   ]
  },
  {
   "cell_type": "code",
   "execution_count": 16,
   "metadata": {
    "ExecuteTime": {
     "end_time": "2020-04-14T16:22:00.162563Z",
     "start_time": "2020-04-14T16:21:59.037131Z"
    }
   },
   "outputs": [],
   "source": [
    "import statsmodels.formula.api as smf\n",
    "exp_model = smf.ols(formula='log_percentage_useable ~ Miles_driven ', data = tire).fit()"
   ]
  },
  {
   "cell_type": "markdown",
   "metadata": {},
   "source": [
    "The summary of the obtained regression model (as shown below) suggests that the model is useful since approximately 98.8% variability in the dependent (target) variable (i.e. Percentage_useable) can be explained by the variability in predictor variable (i.e. Miles_driven) as is indicated by the $R^2$.\n",
    "\n",
    "Also the regression coefficients of the model are significant since the p-value is less than the significance level of 0.05."
   ]
  },
  {
   "cell_type": "code",
   "execution_count": 17,
   "metadata": {
    "ExecuteTime": {
     "end_time": "2020-04-14T16:22:10.566215Z",
     "start_time": "2020-04-14T16:22:10.064260Z"
    }
   },
   "outputs": [
    {
     "data": {
      "text/html": [
       "<table class=\"simpletable\">\n",
       "<caption>OLS Regression Results</caption>\n",
       "<tr>\n",
       "  <th>Dep. Variable:</th>    <td>log_percentage_useable</td> <th>  R-squared:         </th> <td>   0.988</td>\n",
       "</tr>\n",
       "<tr>\n",
       "  <th>Model:</th>                      <td>OLS</td>          <th>  Adj. R-squared:    </th> <td>   0.986</td>\n",
       "</tr>\n",
       "<tr>\n",
       "  <th>Method:</th>                <td>Least Squares</td>     <th>  F-statistic:       </th> <td>   492.0</td>\n",
       "</tr>\n",
       "<tr>\n",
       "  <th>Date:</th>                <td>Tue, 14 Apr 2020</td>    <th>  Prob (F-statistic):</th> <td>5.49e-07</td>\n",
       "</tr>\n",
       "<tr>\n",
       "  <th>Time:</th>                    <td>21:52:10</td>        <th>  Log-Likelihood:    </th> <td>  8.5732</td>\n",
       "</tr>\n",
       "<tr>\n",
       "  <th>No. Observations:</th>         <td>     8</td>         <th>  AIC:               </th> <td>  -13.15</td>\n",
       "</tr>\n",
       "<tr>\n",
       "  <th>Df Residuals:</th>             <td>     6</td>         <th>  BIC:               </th> <td>  -12.99</td>\n",
       "</tr>\n",
       "<tr>\n",
       "  <th>Df Model:</th>                 <td>     1</td>         <th>                     </th>     <td> </td>   \n",
       "</tr>\n",
       "<tr>\n",
       "  <th>Covariance Type:</th>         <td>nonrobust</td>       <th>                     </th>     <td> </td>   \n",
       "</tr>\n",
       "</table>\n",
       "<table class=\"simpletable\">\n",
       "<tr>\n",
       "        <td></td>          <th>coef</th>     <th>std err</th>      <th>t</th>      <th>P>|t|</th>  <th>[0.025</th>    <th>0.975]</th>  \n",
       "</tr>\n",
       "<tr>\n",
       "  <th>Intercept</th>    <td>    4.6046</td> <td>    0.051</td> <td>   89.850</td> <td> 0.000</td> <td>    4.479</td> <td>    4.730</td>\n",
       "</tr>\n",
       "<tr>\n",
       "  <th>Miles_driven</th> <td>   -0.0432</td> <td>    0.002</td> <td>  -22.182</td> <td> 0.000</td> <td>   -0.048</td> <td>   -0.038</td>\n",
       "</tr>\n",
       "</table>\n",
       "<table class=\"simpletable\">\n",
       "<tr>\n",
       "  <th>Omnibus:</th>       <td> 3.910</td> <th>  Durbin-Watson:     </th> <td>   3.060</td>\n",
       "</tr>\n",
       "<tr>\n",
       "  <th>Prob(Omnibus):</th> <td> 0.142</td> <th>  Jarque-Bera (JB):  </th> <td>   0.581</td>\n",
       "</tr>\n",
       "<tr>\n",
       "  <th>Skew:</th>          <td> 0.533</td> <th>  Prob(JB):          </th> <td>   0.748</td>\n",
       "</tr>\n",
       "<tr>\n",
       "  <th>Kurtosis:</th>      <td> 3.779</td> <th>  Cond. No.          </th> <td>    39.9</td>\n",
       "</tr>\n",
       "</table><br/><br/>Warnings:<br/>[1] Standard Errors assume that the covariance matrix of the errors is correctly specified."
      ],
      "text/plain": [
       "<class 'statsmodels.iolib.summary.Summary'>\n",
       "\"\"\"\n",
       "                              OLS Regression Results                              \n",
       "==================================================================================\n",
       "Dep. Variable:     log_percentage_useable   R-squared:                       0.988\n",
       "Model:                                OLS   Adj. R-squared:                  0.986\n",
       "Method:                     Least Squares   F-statistic:                     492.0\n",
       "Date:                    Tue, 14 Apr 2020   Prob (F-statistic):           5.49e-07\n",
       "Time:                            21:52:10   Log-Likelihood:                 8.5732\n",
       "No. Observations:                       8   AIC:                            -13.15\n",
       "Df Residuals:                           6   BIC:                            -12.99\n",
       "Df Model:                               1                                         \n",
       "Covariance Type:                nonrobust                                         \n",
       "================================================================================\n",
       "                   coef    std err          t      P>|t|      [0.025      0.975]\n",
       "--------------------------------------------------------------------------------\n",
       "Intercept        4.6046      0.051     89.850      0.000       4.479       4.730\n",
       "Miles_driven    -0.0432      0.002    -22.182      0.000      -0.048      -0.038\n",
       "==============================================================================\n",
       "Omnibus:                        3.910   Durbin-Watson:                   3.060\n",
       "Prob(Omnibus):                  0.142   Jarque-Bera (JB):                0.581\n",
       "Skew:                           0.533   Prob(JB):                        0.748\n",
       "Kurtosis:                       3.779   Cond. No.                         39.9\n",
       "==============================================================================\n",
       "\n",
       "Warnings:\n",
       "[1] Standard Errors assume that the covariance matrix of the errors is correctly specified.\n",
       "\"\"\""
      ]
     },
     "execution_count": 17,
     "metadata": {},
     "output_type": "execute_result"
    }
   ],
   "source": [
    "exp_model.summary()"
   ]
  },
  {
   "cell_type": "markdown",
   "metadata": {},
   "source": [
    "The regression model can therefore be represented as \n",
    "\n",
    "$$log(Percentage_Useable) = 4.6046 - 0.0432 (Miles_driven)$$\n",
    "\n",
    "Where $log(\\beta_0)$ =  4.6046, i.e. $\\beta_0$ = e4.6046 = 99.9429\n",
    "\n",
    "i.e Percentage_Useable = 99.9429 $e^{-0.0432 (Miles-driven)}$"
   ]
  },
  {
   "cell_type": "markdown",
   "metadata": {},
   "source": [
    "### Visualizing the Obtained Exponential Regression Model\n",
    "\n",
    "The obtained regression model can be visualized as below"
   ]
  },
  {
   "cell_type": "code",
   "execution_count": 19,
   "metadata": {
    "ExecuteTime": {
     "end_time": "2020-04-14T16:27:46.800950Z",
     "start_time": "2020-04-14T16:27:46.594025Z"
    }
   },
   "outputs": [],
   "source": [
    "predictions = exp_model.predict(tire[[\"Miles_driven\"]])\n"
   ]
  },
  {
   "cell_type": "code",
   "execution_count": 20,
   "metadata": {
    "ExecuteTime": {
     "end_time": "2020-04-14T16:28:15.543765Z",
     "start_time": "2020-04-14T16:28:15.058042Z"
    }
   },
   "outputs": [
    {
     "data": {
      "text/plain": [
       "Text(0, 0.5, 'Log of Percentage Useable')"
      ]
     },
     "execution_count": 20,
     "metadata": {},
     "output_type": "execute_result"
    },
    {
     "data": {
      "image/png": "[encoded data removed]",
      "text/plain": [
       "<Figure size 864x504 with 1 Axes>"
      ]
     },
     "metadata": {},
     "output_type": "display_data"
    }
   ],
   "source": [
    "plt.figure(figsize=(12,7))\n",
    "plt.scatter(x = \"Miles_driven\", y = \"Percentage_Useable\",data = tire)\n",
    "plt.plot(tire[\"Miles_driven\"],np.exp(predictions),'r')\n",
    "plt.title(\"Scatter plot of Miles driven vs. Log of Percentage Useable\")\n",
    "plt.xlabel(\"Miles driven\")\n",
    "plt.ylabel(\"Log of Percentage Useable\")"
   ]
  },
  {
   "cell_type": "markdown",
   "metadata": {},
   "source": [
    "***\n",
    "\n",
    "# Generalized Linear Model\n",
    "\n",
    "## Introduction\n",
    "\n",
    "Recall that for linear regression model described as discussed earlier in this course, it is assumed that the predictor variables are independent of each other.\n",
    "\n",
    "$$ Y = \\beta_0 + \\beta_1x_1 +  . . .  + \\beta_nx_n + \\epsilon $$\n",
    "\n",
    "Further, the dependent variable Y is assumed to be continuous and normally distributed. It is also assumed that the errors are normally distributed with a constant variance.\n",
    "\n",
    "The linear regression model (as described above) implies that a constant change in a predictor leads to a constant change in the dependent variable. This is possible when the dependent variable has a normal distribution.\n",
    "\n",
    "However, not all relationships can be modeled using the above linear regression model because:\n",
    "\n",
    "1. __The target (dependent) variable may not be normally distributed__\n",
    "\n",
    "The dependent variable may have a non-continuous distribution. For example if the target (dependent) variable is categorical in nature it can take only one distinct value/category. As a result it would tend to have multinomial distribution. Similarly if the dependent variable can take only discrete values (example. Count of children in a family) then it would tend to follow a Poisson distribution.  \n",
    "\n",
    "2. __The relationship between the predictors (independent) and the target (dependent) variable__\n",
    "\n",
    "The linear regression model (mentioned above) might be inadequate to cater to relationships where the effect of predictors on the dependent variables is non-linear in nature. For example: the growth rate of micro-organisms may tend to have an exponential relationship (instead of linear relationship) with the change in temperature.\n",
    "\n",
    "In order to address non-normal distributions of variables and the non-linear relationships among the predictors and the dependent variable, a generalized linear model is adopted."
   ]
  },
  {
   "cell_type": "markdown",
   "metadata": {},
   "source": [
    "![](gle_1.PNG)"
   ]
  },
  {
   "cell_type": "markdown",
   "metadata": {},
   "source": [
    "The table below illustrates the commonly used link function for corresponding distributions\n",
    "\n",
    "![](glm_2.PNG)"
   ]
  }
 ],
 "metadata": {
  "kernelspec": {
   "display_name": "Python 3",
   "language": "python",
   "name": "python3"
  },
  "language_info": {
   "codemirror_mode": {
    "name": "ipython",
    "version": 3
   },
   "file_extension": ".py",
   "mimetype": "text/x-python",
   "name": "python",
   "nbconvert_exporter": "python",
   "pygments_lexer": "ipython3",
   "version": "3.7.6"
  }
 },
 "nbformat": 4,
 "nbformat_minor": 4
}
