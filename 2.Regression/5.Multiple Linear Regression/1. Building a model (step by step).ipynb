{
 "cells": [
  {
   "attachments": {},
   "cell_type": "markdown",
   "metadata": {},
   "source": [
    "## Variables in multi-linear rgeression\n",
    "\n",
    "We need to decide which variable to keep and which variable to discard.\n",
    "\n",
    "![keep](keep2.PNG)\n",
    "\n",
    "Need to discard some variables because:\n",
    "1. Garbage in leads to garbage out.\n",
    "2. Need to describe effect of some predictor variables on the dependant variables."
   ]
  },
  {
   "cell_type": "markdown",
   "metadata": {},
   "source": [
    "### 5 methods of building a model:\n",
    "\n",
    "1. All-in\n",
    "2. Backward Elimination\n",
    "3. Forward selection\n",
    "4. Bidirectional Elimination\n",
    "5. Score comparison/All possible models\n",
    "\n",
    "\n",
    "##### Step-wise regression (refers to) -> Backward Elimination,  Forward selection, Bidirectional Elimination\n",
    "\n",
    "But usually __Step-wise regression__ implies  __Backward Elimination__.\n",
    "\n",
    "\n",
    "- __All-in :__ Use all the varibles. Used in cases when\n",
    "            - Prior knowledge of every variable and you are sure, OR\n",
    "            - You have to as per requirements, OR\n",
    "            - Prepring for backward elimination.\n",
    "\n",
    "- __Backward Elimination :__ \n",
    "![](BE.PNG)\n",
    "\n",
    "\n",
    "The elimination is done till the p-value is less than the highest significance level.\n",
    "\n",
    "\n",
    "\n",
    "- __Forward selection :__\n",
    "So, refer the p-value notes those variables with p-value < 0.05 will be selected i.e., those having good correlation with y.  \n",
    "\n",
    "![](FS.PNG)\n",
    "\n",
    "- __Bidirectional Elimination :__\n",
    "![](BidiEli.PNG)\n",
    "\n",
    "- __Score comparison/All possible models :__\n",
    "![](score.PNG)"
   ]
  },
  {
   "cell_type": "code",
   "execution_count": null,
   "metadata": {},
   "outputs": [],
   "source": []
  }
 ],
 "metadata": {
  "kernelspec": {
   "display_name": "Python 3",
   "language": "python",
   "name": "python3"
  },
  "language_info": {
   "codemirror_mode": {
    "name": "ipython",
    "version": 3
   },
   "file_extension": ".py",
   "mimetype": "text/x-python",
   "name": "python",
   "nbconvert_exporter": "python",
   "pygments_lexer": "ipython3",
   "version": "3.7.6"
  }
 },
 "nbformat": 4,
 "nbformat_minor": 2
}
