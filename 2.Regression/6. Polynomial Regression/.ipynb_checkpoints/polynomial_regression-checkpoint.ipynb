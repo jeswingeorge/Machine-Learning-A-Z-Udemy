{
 "cells": [
  {
   "cell_type": "code",
   "execution_count": 1,
   "metadata": {},
   "outputs": [],
   "source": [
    "import pandas as pd\n",
    "import numpy as np\n",
    "import matplotlib.pyplot as plt\n",
    "import seaborn as sns\n",
    "%matplotlib inline\n",
    "sns.set()"
   ]
  },
  {
   "cell_type": "markdown",
   "metadata": {},
   "source": [
    "# Polynomial regression\n",
    "\n",
    "![](image1.PNG)\n",
    "\n",
    "***\n",
    "\n",
    "![](image2.png)\n",
    "\n",
    "\n",
    "***\n",
    "***\n",
    "\n",
    "\n",
    "#### Polynomial regression used in cases where the simple and multi linear regression fail.  \n",
    "\n",
    "Example cases like - When the pandemics or diseases spread.\n",
    "\n",
    "\n",
    "# why polynomial regression is called linear?\n",
    "\n",
    "$$ y = b_0 + b_1x_1 + b_2x_1^2 + . . . + b_nx_1^n  $$\n",
    "\n",
    "When we talk about linear and non-linear we are not actually talking about the x-variables even though the relationship between y and x  is non-linear here, when we talk about class of regression we are talking about  whether they are linear or non-linear i.e, wheter the function can be expressed as linear combination of these coefficeints coz ultimately they are the unknowns so linear or non-linear refers to the coefficients. \n",
    "\n",
    "\n",
    "\n",
    "Polynomial ( means having more than one term) regression is\n",
    "\n",
    "- __linear__ when the highest power of the independent variable is 1 ( an equation of a straight line), y= a+ b x\n",
    "- __multiple linear__ when it involves more than one independent variable , with power 1., e.g., z= a+ b x + c y\n",
    "- __nonlinear__ when it involves higher powers of the variable, e.g., y = a+ bx + c$x^2$ , or still higher powers of x\n",
    "\n",
    "Polynomial regression is a kind of linear regression.\n",
    "\n",
    "Suppose you fit a model $$ Y = a_0 + a_1x + a_2x^2 + a_kx^k $$\n",
    "\n",
    "Treat $ x, x^2,. . . .x^k $ as k variables. This is a linear function of $a_0, a_1,  . ., a_k$.\n",
    "\n",
    "### Reference:\n",
    "\n",
    "1. [Introduction to Linear Regression and Polynomial Regression](https://towardsdatascience.com/introduction-to-linear-regression-and-polynomial-regression-f8adc96f31cb)\n",
    "2. [Polynomial Regression: Adding Non-Linearity To A Linear Model](https://blog.quantinsti.com/polynomial-regression-adding-non-linearity-to-a-linear-model/)\n",
    "\n",
    "## Going to build regressors which are not linear in nature\n",
    "\n",
    "\n",
    "We are going to build new regressors that are not linear anymore. So polynomial regression is not a linear regressor. Then we will build a SVR(Supprt vector regressor) which is not a linear regressor either. Then we will build decision tree regressor model and then random forest regression model which are not linear regressors either.\n",
    "\n",
    "\n",
    "Polynomial regression model that we're about to build right now is not that much advanced compared to simple regression and multiple regression because we will just add a polynomial term in the multiple in our regression equation which you know well. \n",
    "\n",
    "But what's coming next with on regression will be based on more complex theory.\n",
    "\n",
    "### Implementing polynomial regression in Python"
   ]
  },
  {
   "cell_type": "code",
   "execution_count": 2,
   "metadata": {},
   "outputs": [
    {
     "data": {
      "text/html": [
       "<div>\n",
       "<style scoped>\n",
       "    .dataframe tbody tr th:only-of-type {\n",
       "        vertical-align: middle;\n",
       "    }\n",
       "\n",
       "    .dataframe tbody tr th {\n",
       "        vertical-align: top;\n",
       "    }\n",
       "\n",
       "    .dataframe thead th {\n",
       "        text-align: right;\n",
       "    }\n",
       "</style>\n",
       "<table border=\"1\" class=\"dataframe\">\n",
       "  <thead>\n",
       "    <tr style=\"text-align: right;\">\n",
       "      <th></th>\n",
       "      <th>Position</th>\n",
       "      <th>Level</th>\n",
       "      <th>Salary</th>\n",
       "    </tr>\n",
       "  </thead>\n",
       "  <tbody>\n",
       "    <tr>\n",
       "      <th>0</th>\n",
       "      <td>Business Analyst</td>\n",
       "      <td>1</td>\n",
       "      <td>45000</td>\n",
       "    </tr>\n",
       "    <tr>\n",
       "      <th>1</th>\n",
       "      <td>Junior Consultant</td>\n",
       "      <td>2</td>\n",
       "      <td>50000</td>\n",
       "    </tr>\n",
       "    <tr>\n",
       "      <th>2</th>\n",
       "      <td>Senior Consultant</td>\n",
       "      <td>3</td>\n",
       "      <td>60000</td>\n",
       "    </tr>\n",
       "    <tr>\n",
       "      <th>3</th>\n",
       "      <td>Manager</td>\n",
       "      <td>4</td>\n",
       "      <td>80000</td>\n",
       "    </tr>\n",
       "    <tr>\n",
       "      <th>4</th>\n",
       "      <td>Country Manager</td>\n",
       "      <td>5</td>\n",
       "      <td>110000</td>\n",
       "    </tr>\n",
       "  </tbody>\n",
       "</table>\n",
       "</div>"
      ],
      "text/plain": [
       "            Position  Level  Salary\n",
       "0   Business Analyst      1   45000\n",
       "1  Junior Consultant      2   50000\n",
       "2  Senior Consultant      3   60000\n",
       "3            Manager      4   80000\n",
       "4    Country Manager      5  110000"
      ]
     },
     "execution_count": 2,
     "metadata": {},
     "output_type": "execute_result"
    }
   ],
   "source": [
    "# Importing the dataset\n",
    "dataset = pd.read_csv('Position_Salaries.csv')\n",
    "dataset.head()"
   ]
  },
  {
   "cell_type": "code",
   "execution_count": 3,
   "metadata": {},
   "outputs": [
    {
     "data": {
      "image/png": "[encoded data removed]",
      "text/plain": [
       "<Figure size 432x288 with 1 Axes>"
      ]
     },
     "metadata": {},
     "output_type": "display_data"
    }
   ],
   "source": [
    "sns.scatterplot(data = dataset, x = 'Level', y = 'Salary');\n",
    "plt.title('Scatterplot of Level vs Salary');"
   ]
  },
  {
   "cell_type": "markdown",
   "metadata": {},
   "source": [
    "Observe non-linear relationship between Level and salary however the new employee was saying that his annual salary was `$160k`. Now we need to see whether it was truth or bluff by building a bluff detector using polynomial regression.  \n",
    "\n",
    "We need to predict salary based on that different levels we have and then predict salary of a Level 6.5.  \n",
    "\n",
    "We need only 2 columns here the Level and salary column because the column Position is like integer-encoded as Level so will ignore Position column."
   ]
  },
  {
   "cell_type": "code",
   "execution_count": 4,
   "metadata": {},
   "outputs": [
    {
     "data": {
      "text/plain": [
       "array([ 1,  2,  3,  4,  5,  6,  7,  8,  9, 10], dtype=int64)"
      ]
     },
     "execution_count": 4,
     "metadata": {},
     "output_type": "execute_result"
    }
   ],
   "source": [
    "dataset.iloc[:,1].values"
   ]
  },
  {
   "cell_type": "markdown",
   "metadata": {},
   "source": [
    "Observe we get vector here instead of matrix, for matrix use slice of `dataset.iloc[:,1:2].values`."
   ]
  },
  {
   "cell_type": "code",
   "execution_count": 5,
   "metadata": {},
   "outputs": [
    {
     "data": {
      "text/plain": [
       "array([[ 1],\n",
       "       [ 2],\n",
       "       [ 3],\n",
       "       [ 4],\n",
       "       [ 5],\n",
       "       [ 6],\n",
       "       [ 7],\n",
       "       [ 8],\n",
       "       [ 9],\n",
       "       [10]], dtype=int64)"
      ]
     },
     "execution_count": 5,
     "metadata": {},
     "output_type": "execute_result"
    }
   ],
   "source": [
    "#  to get matrix of X\n",
    "X = dataset.iloc[:,1:2].values\n",
    "X"
   ]
  },
  {
   "cell_type": "code",
   "execution_count": 6,
   "metadata": {},
   "outputs": [
    {
     "data": {
      "text/plain": [
       "0      45000\n",
       "1      50000\n",
       "2      60000\n",
       "3      80000\n",
       "4     110000\n",
       "5     150000\n",
       "6     200000\n",
       "7     300000\n",
       "8     500000\n",
       "9    1000000\n",
       "Name: Salary, dtype: int64"
      ]
     },
     "execution_count": 6,
     "metadata": {},
     "output_type": "execute_result"
    }
   ],
   "source": [
    "# to get y as vector\n",
    "y = dataset.iloc[:,2]\n",
    "y"
   ]
  },
  {
   "cell_type": "markdown",
   "metadata": {},
   "source": [
    "Here the dataset is very small and we will miss out on datapoints of some job levels if we go onto split the data so for this case we will train the entire dataset."
   ]
  },
  {
   "cell_type": "code",
   "execution_count": 7,
   "metadata": {},
   "outputs": [],
   "source": [
    "# Splitting the dataset into train and test set\n",
    "# from sklearn.model_selection import train_test_split\n",
    "# X_train, X_test, y_train, y_test = train_test_split(X, y, test_size = 0.2, random_state = 0)"
   ]
  },
  {
   "cell_type": "markdown",
   "metadata": {},
   "source": [
    "__Is Feature scaling required?__ - No need for feature scaling as polynomial regression consists of adding some polynomial terms into multiple linear regression equation and therefore we will use the same linear regressin library."
   ]
  },
  {
   "cell_type": "code",
   "execution_count": 8,
   "metadata": {},
   "outputs": [],
   "source": [
    "# from sklearn.preprocessing import StandardScaler\n",
    "# sc_X = StandardScalerardScaler()\n",
    "# X_train = sc_X.fit_transform(X_train)\n",
    "# X_test = sc_X.fit_transform(X_test)"
   ]
  },
  {
   "cell_type": "markdown",
   "metadata": {},
   "source": [
    "Will be using both Linear regression and polynomial regression so that we can compare result at the end."
   ]
  },
  {
   "cell_type": "code",
   "execution_count": 9,
   "metadata": {},
   "outputs": [],
   "source": [
    "from sklearn.linear_model import LinearRegression"
   ]
  },
  {
   "cell_type": "code",
   "execution_count": 10,
   "metadata": {},
   "outputs": [
    {
     "data": {
      "text/plain": [
       "LinearRegression(copy_X=True, fit_intercept=True, n_jobs=None, normalize=False)"
      ]
     },
     "execution_count": 10,
     "metadata": {},
     "output_type": "execute_result"
    }
   ],
   "source": [
    "# Fitting linear Regression to the dataset\n",
    "lin_reg = LinearRegression()\n",
    "lin_reg.fit(X,y)"
   ]
  },
  {
   "cell_type": "markdown",
   "metadata": {},
   "source": [
    "__Reference__: [sklearn.preprocessing.PolynomialFeatures](https://scikit-learn.org/stable/modules/generated/sklearn.preprocessing.PolynomialFeatures.html)"
   ]
  },
  {
   "cell_type": "code",
   "execution_count": 11,
   "metadata": {},
   "outputs": [],
   "source": [
    "# Fitting polynomial regression to the dataset\n",
    "from sklearn.preprocessing import PolynomialFeatures\n",
    "poly_reg = PolynomialFeatures(degree = 2)"
   ]
  },
  {
   "cell_type": "markdown",
   "metadata": {},
   "source": [
    "poly_reg is a tool/transorm features of X into a new features of matrix called X_poly which will be a new matrix of features containing different powers of x say, $x_1$, $x_1^2$, $x_1^3$, etc as required."
   ]
  },
  {
   "cell_type": "code",
   "execution_count": 12,
   "metadata": {},
   "outputs": [
    {
     "data": {
      "text/plain": [
       "array([[  1.,   1.,   1.],\n",
       "       [  1.,   2.,   4.],\n",
       "       [  1.,   3.,   9.],\n",
       "       [  1.,   4.,  16.],\n",
       "       [  1.,   5.,  25.],\n",
       "       [  1.,   6.,  36.],\n",
       "       [  1.,   7.,  49.],\n",
       "       [  1.,   8.,  64.],\n",
       "       [  1.,   9.,  81.],\n",
       "       [  1.,  10., 100.]])"
      ]
     },
     "execution_count": 12,
     "metadata": {},
     "output_type": "execute_result"
    }
   ],
   "source": [
    "# Creating the X_poly matrix\n",
    "# will be using fit_transform() here as we will change X\n",
    "X_poly = poly_reg.fit_transform(X)\n",
    "X_poly   "
   ]
  },
  {
   "cell_type": "markdown",
   "metadata": {},
   "source": [
    "($x_0$, $x_1$, $x_1^2$)"
   ]
  },
  {
   "cell_type": "code",
   "execution_count": 13,
   "metadata": {},
   "outputs": [
    {
     "data": {
      "text/plain": [
       "array([[ 1],\n",
       "       [ 2],\n",
       "       [ 3],\n",
       "       [ 4],\n",
       "       [ 5],\n",
       "       [ 6],\n",
       "       [ 7],\n",
       "       [ 8],\n",
       "       [ 9],\n",
       "       [10]], dtype=int64)"
      ]
     },
     "execution_count": 13,
     "metadata": {},
     "output_type": "execute_result"
    }
   ],
   "source": [
    "# Observe X matrix\n",
    "X  # has only x1"
   ]
  },
  {
   "cell_type": "markdown",
   "metadata": {},
   "source": [
    "Now we need to include this fit into multiple linear regression model and to do this we are going to fit a new linear regression object `lin_reg2`. And its purpose is to fit X_poly."
   ]
  },
  {
   "cell_type": "code",
   "execution_count": 14,
   "metadata": {},
   "outputs": [
    {
     "data": {
      "text/plain": [
       "LinearRegression(copy_X=True, fit_intercept=True, n_jobs=None, normalize=False)"
      ]
     },
     "execution_count": 14,
     "metadata": {},
     "output_type": "execute_result"
    }
   ],
   "source": [
    "lin_reg2 = LinearRegression()\n",
    "lin_reg2.fit(X_poly,y)"
   ]
  },
  {
   "cell_type": "markdown",
   "metadata": {},
   "source": [
    "Visualizing the Linear Regression results"
   ]
  },
  {
   "cell_type": "code",
   "execution_count": 16,
   "metadata": {},
   "outputs": [
    {
     "data": {
      "image/png": "[encoded data removed]",
      "text/plain": [
       "<Figure size 432x288 with 1 Axes>"
      ]
     },
     "metadata": {},
     "output_type": "display_data"
    }
   ],
   "source": [
    "plt.scatter(X, y, color = 'r');\n",
    "plt.plot(X, lin_reg.predict(X), color = 'b');\n",
    "plt.title(\"Truth or Bluff - Linear Regression results\");\n",
    "plt.xlabel('Position Level');\n",
    "plt.ylabel('Salary');"
   ]
  },
  {
   "cell_type": "markdown",
   "metadata": {},
   "source": [
    "Visualizing the polynomial regression results"
   ]
  },
  {
   "cell_type": "code",
   "execution_count": 19,
   "metadata": {},
   "outputs": [
    {
     "data": {
      "image/png": "[encoded data removed]",
      "text/plain": [
       "<Figure size 432x288 with 1 Axes>"
      ]
     },
     "metadata": {},
     "output_type": "display_data"
    }
   ],
   "source": [
    "plt.scatter(X, y, color = 'r');\n",
    "plt.plot(X, lin_reg2.predict(poly_reg.fit_transform(X)), color = 'b');\n",
    "plt.title(\"Truth or Bluff - Polynomial Regression results with degree 2\");\n",
    "plt.xlabel('Position Level');\n",
    "plt.ylabel('Salary');"
   ]
  },
  {
   "cell_type": "markdown",
   "metadata": {},
   "source": [
    "But this is not correct way its better to use `poly_reg.fit_transform(X)` in place of X_poly (i.e, y) as the function __poly_reg.fit_transform()__ will take any matrix features of X (instead of existing features of X) so in this way our set of codes can be made generic.\n",
    "\n",
    "#### Now try to fit all the points with degree 3 "
   ]
  },
  {
   "cell_type": "code",
   "execution_count": 21,
   "metadata": {},
   "outputs": [
    {
     "data": {
      "text/plain": [
       "LinearRegression(copy_X=True, fit_intercept=True, n_jobs=None, normalize=False)"
      ]
     },
     "execution_count": 21,
     "metadata": {},
     "output_type": "execute_result"
    }
   ],
   "source": [
    "# Fitting polynomial regression to the dataset with degree 3\n",
    "poly_reg3 = PolynomialFeatures(degree = 3)\n",
    "X_poly3 = poly_reg3.fit_transform(X)\n",
    "lin_reg3 = LinearRegression()\n",
    "lin_reg3.fit(X_poly3,y)"
   ]
  },
  {
   "cell_type": "code",
   "execution_count": 23,
   "metadata": {},
   "outputs": [
    {
     "data": {
      "image/png": "[encoded data removed]",
      "text/plain": [
       "<Figure size 432x288 with 1 Axes>"
      ]
     },
     "metadata": {},
     "output_type": "display_data"
    }
   ],
   "source": [
    "plt.scatter(X, y, color = 'r');\n",
    "plt.plot(X, lin_reg3.predict(poly_reg3.fit_transform(X)), color = 'b');\n",
    "plt.title(\"Truth or Bluff - Polynomial Regression results with degree 3\");\n",
    "plt.xlabel('Position Level');\n",
    "plt.ylabel('Salary');"
   ]
  },
  {
   "cell_type": "markdown",
   "metadata": {},
   "source": [
    "So observe the new curve approaches all points more accurately."
   ]
  },
  {
   "cell_type": "markdown",
   "metadata": {},
   "source": [
    "#### Now try to fit all the points with degree 4"
   ]
  },
  {
   "cell_type": "code",
   "execution_count": 24,
   "metadata": {},
   "outputs": [
    {
     "data": {
      "text/plain": [
       "LinearRegression(copy_X=True, fit_intercept=True, n_jobs=None, normalize=False)"
      ]
     },
     "execution_count": 24,
     "metadata": {},
     "output_type": "execute_result"
    }
   ],
   "source": [
    "# Fitting polynomial regression to the dataset with degree 4\n",
    "poly_reg4 = PolynomialFeatures(degree = 4)\n",
    "X_poly4 = poly_reg4.fit_transform(X)\n",
    "lin_reg4 = LinearRegression()\n",
    "lin_reg4.fit(X_poly4,y)"
   ]
  },
  {
   "cell_type": "code",
   "execution_count": 25,
   "metadata": {},
   "outputs": [
    {
     "data": {
      "image/png": "[encoded data removed]",
      "text/plain": [
       "<Figure size 432x288 with 1 Axes>"
      ]
     },
     "metadata": {},
     "output_type": "display_data"
    }
   ],
   "source": [
    "plt.scatter(X, y, color = 'r');\n",
    "plt.plot(X, lin_reg4.predict(poly_reg4.fit_transform(X)), color = 'b');\n",
    "plt.title(\"Truth or Bluff - Polynomial Regression results with degree 4\");\n",
    "plt.xlabel('Position Level');\n",
    "plt.ylabel('Salary');"
   ]
  },
  {
   "cell_type": "markdown",
   "metadata": {},
   "source": [
    "So the above prediction is fairly accurate. But we can improve more upon this plot. By improving the resolution or steps taken from 1 to 0.1 "
   ]
  },
  {
   "cell_type": "code",
   "execution_count": 27,
   "metadata": {},
   "outputs": [
    {
     "data": {
      "image/png": "[encoded data removed]",
      "text/plain": [
       "<Figure size 432x288 with 1 Axes>"
      ]
     },
     "metadata": {},
     "output_type": "display_data"
    }
   ],
   "source": [
    "X_grid = np.arange(min(X), max(X), 0.1)\n",
    "X_grid = X_grid.reshape(len(X_grid), 1)\n",
    "plt.scatter(X, y, color = 'r');\n",
    "plt.plot(X_grid, lin_reg4.predict(poly_reg4.fit_transform(X_grid)), color = 'b');\n",
    "plt.title(\"Truth or Bluff - Polynomial Regression results with degree 4 and better resolution\");\n",
    "plt.xlabel('Position Level');\n",
    "plt.ylabel('Salary');"
   ]
  },
  {
   "cell_type": "markdown",
   "metadata": {},
   "source": [
    "> To tell whether the employee was bluffing or telling the truth. He said his salary was 160,000 for level 6.5.\n",
    "\n",
    "Predicting the new result with linear regression"
   ]
  },
  {
   "cell_type": "code",
   "execution_count": 30,
   "metadata": {},
   "outputs": [
    {
     "data": {
      "text/plain": [
       "array([330378.78787879])"
      ]
     },
     "execution_count": 30,
     "metadata": {},
     "output_type": "execute_result"
    }
   ],
   "source": [
    "lin_reg.predict([[6.5]])"
   ]
  },
  {
   "cell_type": "markdown",
   "metadata": {},
   "source": [
    "Predicting the new result with polynomial regression"
   ]
  },
  {
   "cell_type": "code",
   "execution_count": 31,
   "metadata": {},
   "outputs": [
    {
     "data": {
      "text/plain": [
       "array([158862.45265153])"
      ]
     },
     "execution_count": 31,
     "metadata": {},
     "output_type": "execute_result"
    }
   ],
   "source": [
    "lin_reg4.predict(poly_reg4.fit_transform([[6.5]]))"
   ]
  },
  {
   "cell_type": "markdown",
   "metadata": {},
   "source": [
    "So the employee was tellin the truth his salary is close to `$160000`."
   ]
  },
  {
   "cell_type": "markdown",
   "metadata": {},
   "source": [
    "***\n",
    "\n",
    "### [How do you know you need a polynomial regression?](https://www.theanalysisfactor.com/regression-modelshow-do-you-know-you-need-a-polynomial/)\n",
    "\n",
    "A cubic has two humps–one facing upward and the other down.  The curve goes down, back up, then back down again (or vice-versa).\n",
    "\n",
    "There are three main situations that indicate a linear relationship may not be a good model.\n",
    "\n",
    "1. Most important is the theoretical one.  There are some relationships that a researcher will hypothesize is curvilinear (In geometry, curvilinear coordinates are a coordinate system for Euclidean space in which the coordinate lines may be curved.).  Clearly, if this is the case, include a polynomial term.\n",
    "\n",
    "2. The second chance is during visual inspection of your variables.  This is one of those reasons for always doing univariate and bivariate inspections of your data before you begin your regression analyses.  (You always do this, right?) A simple scatter plot can reveal a curvilinear relationship.\n",
    "\n",
    "3. Inspection of residuals.  If you try to fit a linear model to curved data, a scatter plot of residuals (Y axis) on the predictor (X axis) will have patches of many positive residuals in the middle, but patches of negative residuals at either end (or vice versa).  This is a good sign that a linear model is not appropriate, and a polynomial may do better."
   ]
  }
 ],
 "metadata": {
  "kernelspec": {
   "display_name": "Python 3",
   "language": "python",
   "name": "python3"
  },
  "language_info": {
   "codemirror_mode": {
    "name": "ipython",
    "version": 3
   },
   "file_extension": ".py",
   "mimetype": "text/x-python",
   "name": "python",
   "nbconvert_exporter": "python",
   "pygments_lexer": "ipython3",
   "version": "3.7.6"
  }
 },
 "nbformat": 4,
 "nbformat_minor": 4
}
