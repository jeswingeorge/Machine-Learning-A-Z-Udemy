{
 "cells": [
  {
   "cell_type": "code",
   "execution_count": 1,
   "metadata": {
    "ExecuteTime": {
     "end_time": "2020-04-30T09:21:37.961933Z",
     "start_time": "2020-04-30T09:20:55.955297Z"
    }
   },
   "outputs": [],
   "source": [
    "import pandas as pd\n",
    "import numpy as np\n",
    "import matplotlib.pyplot as plt\n",
    "import seaborn as sns\n",
    "%matplotlib inline\n",
    "sns.set()"
   ]
  },
  {
   "cell_type": "markdown",
   "metadata": {},
   "source": [
    "# Polynomial regression\n",
    "\n",
    "![](image1.PNG)\n",
    "\n",
    "***\n",
    "\n",
    "![](image2.png)\n",
    "\n",
    "\n",
    "***\n",
    "***\n",
    "\n",
    "\n",
    "#### Polynomial regression used in cases where the simple and multi linear regression fail.  \n",
    "\n",
    "Example cases like - When the pandemics or diseases spread.\n",
    "\n",
    "\n",
    "# why polynomial regression is called linear?\n",
    "\n",
    "$$ y = b_0 + b_1x_1 + b_2x_1^2 + . . . + b_nx_1^n  $$\n",
    "\n",
    "When we talk about linear and non-linear we are not actually talking about the x-variables even though the relationship between y and x  is non-linear here, when we talk about class of regression we are talking about  whether they are linear or non-linear i.e, wheter the function can be expressed as linear combination of these coefficeints coz ultimately they are the unknowns so linear or non-linear refers to the coefficients. \n",
    "\n",
    "\n",
    "\n",
    "Polynomial ( means having more than one term) regression is\n",
    "\n",
    "- __linear__ when the highest power of the independent variable is 1 ( an equation of a straight line), y= a+ b x\n",
    "- __multiple linear__ when it involves more than one independent variable , with power 1., e.g., z= a+ b x + c y\n",
    "- __nonlinear__ when it involves higher powers of the variable, e.g., y = a+ bx + c$x^2$ , or still higher powers of x\n",
    "\n",
    "Polynomial regression is a kind of linear regression.\n",
    "\n",
    "Suppose you fit a model $$ Y = a_0 + a_1x + a_2x^2 + a_kx^k $$\n",
    "\n",
    "Treat $ x, x^2,. . . .x^k $ as k variables. This is a linear function of $a_0, a_1,  . ., a_k$.\n",
    "\n",
    "### Reference:\n",
    "\n",
    "1. [Introduction to Linear Regression and Polynomial Regression](https://towardsdatascience.com/introduction-to-linear-regression-and-polynomial-regression-f8adc96f31cb)\n",
    "2. [Polynomial Regression: Adding Non-Linearity To A Linear Model](https://blog.quantinsti.com/polynomial-regression-adding-non-linearity-to-a-linear-model/)\n",
    "\n",
    "## Going to build regressors which are not linear in nature\n",
    "\n",
    "\n",
    "We are going to build new regressors that are not linear anymore. So polynomial regression is not a linear regressor. Then we will build a SVR(Supprt vector regressor) which is not a linear regressor either. Then we will build decision tree regressor model and then random forest regression model which are not linear regressors either.\n",
    "\n",
    "\n",
    "Polynomial regression model that we're about to build right now is not that much advanced compared to simple regression and multiple regression because we will just add a polynomial term in the multiple in our regression equation which you know well. \n",
    "\n",
    "But what's coming next with on regression will be based on more complex theory.\n",
    "\n",
    "### Implementing polynomial regression in Python"
   ]
  },
  {
   "cell_type": "code",
   "execution_count": 2,
   "metadata": {
    "ExecuteTime": {
     "end_time": "2020-04-30T09:21:38.246082Z",
     "start_time": "2020-04-30T09:21:37.970887Z"
    }
   },
   "outputs": [
    {
     "data": {
      "text/html": [
       "<div>\n",
       "<style scoped>\n",
       "    .dataframe tbody tr th:only-of-type {\n",
       "        vertical-align: middle;\n",
       "    }\n",
       "\n",
       "    .dataframe tbody tr th {\n",
       "        vertical-align: top;\n",
       "    }\n",
       "\n",
       "    .dataframe thead th {\n",
       "        text-align: right;\n",
       "    }\n",
       "</style>\n",
       "<table border=\"1\" class=\"dataframe\">\n",
       "  <thead>\n",
       "    <tr style=\"text-align: right;\">\n",
       "      <th></th>\n",
       "      <th>Position</th>\n",
       "      <th>Level</th>\n",
       "      <th>Salary</th>\n",
       "    </tr>\n",
       "  </thead>\n",
       "  <tbody>\n",
       "    <tr>\n",
       "      <th>0</th>\n",
       "      <td>Business Analyst</td>\n",
       "      <td>1</td>\n",
       "      <td>45000</td>\n",
       "    </tr>\n",
       "    <tr>\n",
       "      <th>1</th>\n",
       "      <td>Junior Consultant</td>\n",
       "      <td>2</td>\n",
       "      <td>50000</td>\n",
       "    </tr>\n",
       "    <tr>\n",
       "      <th>2</th>\n",
       "      <td>Senior Consultant</td>\n",
       "      <td>3</td>\n",
       "      <td>60000</td>\n",
       "    </tr>\n",
       "    <tr>\n",
       "      <th>3</th>\n",
       "      <td>Manager</td>\n",
       "      <td>4</td>\n",
       "      <td>80000</td>\n",
       "    </tr>\n",
       "    <tr>\n",
       "      <th>4</th>\n",
       "      <td>Country Manager</td>\n",
       "      <td>5</td>\n",
       "      <td>110000</td>\n",
       "    </tr>\n",
       "  </tbody>\n",
       "</table>\n",
       "</div>"
      ],
      "text/plain": [
       "            Position  Level  Salary\n",
       "0   Business Analyst      1   45000\n",
       "1  Junior Consultant      2   50000\n",
       "2  Senior Consultant      3   60000\n",
       "3            Manager      4   80000\n",
       "4    Country Manager      5  110000"
      ]
     },
     "execution_count": 2,
     "metadata": {},
     "output_type": "execute_result"
    }
   ],
   "source": [
    "# Importing the dataset\n",
    "dataset = pd.read_csv('Position_Salaries.csv')\n",
    "dataset.head()"
   ]
  },
  {
   "cell_type": "code",
   "execution_count": 3,
   "metadata": {
    "ExecuteTime": {
     "end_time": "2020-04-30T09:21:39.580410Z",
     "start_time": "2020-04-30T09:21:38.261075Z"
    }
   },
   "outputs": [
    {
     "data": {
      "image/png": "[encoded data removed]",
      "text/plain": [
       "<Figure size 432x288 with 1 Axes>"
      ]
     },
     "metadata": {},
     "output_type": "display_data"
    }
   ],
   "source": [
    "sns.scatterplot(data = dataset, x = 'Level', y = 'Salary');\n",
    "plt.title('Scatterplot of Level vs Salary');"
   ]
  },
  {
   "cell_type": "markdown",
   "metadata": {},
   "source": [
    "Observe non-linear relationship between Level and salary however the new employee was saying that his annual salary was `$160k`. Now we need to see whether it was truth or bluff by building a bluff detector using polynomial regression.  \n",
    "\n",
    "We need to predict salary based on that different levels we have and then predict salary of a Level 6.5.  \n",
    "\n",
    "We need only 2 columns here the Level and salary column because the column Position is like integer-encoded as Level so will ignore Position column."
   ]
  },
  {
   "cell_type": "code",
   "execution_count": 4,
   "metadata": {
    "ExecuteTime": {
     "end_time": "2020-04-30T09:21:39.591457Z",
     "start_time": "2020-04-30T09:21:39.583390Z"
    }
   },
   "outputs": [
    {
     "data": {
      "text/plain": [
       "array([ 1,  2,  3,  4,  5,  6,  7,  8,  9, 10], dtype=int64)"
      ]
     },
     "execution_count": 4,
     "metadata": {},
     "output_type": "execute_result"
    }
   ],
   "source": [
    "dataset.iloc[:,1].values"
   ]
  },
  {
   "cell_type": "markdown",
   "metadata": {},
   "source": [
    "Observe we get vector here instead of matrix, for matrix use slice of `dataset.iloc[:,1:2].values`."
   ]
  },
  {
   "cell_type": "code",
   "execution_count": 5,
   "metadata": {
    "ExecuteTime": {
     "end_time": "2020-04-30T09:21:39.733490Z",
     "start_time": "2020-04-30T09:21:39.594383Z"
    }
   },
   "outputs": [
    {
     "data": {
      "text/plain": [
       "array([[ 1],\n",
       "       [ 2],\n",
       "       [ 3],\n",
       "       [ 4],\n",
       "       [ 5],\n",
       "       [ 6],\n",
       "       [ 7],\n",
       "       [ 8],\n",
       "       [ 9],\n",
       "       [10]], dtype=int64)"
      ]
     },
     "execution_count": 5,
     "metadata": {},
     "output_type": "execute_result"
    }
   ],
   "source": [
    "#  to get matrix of X\n",
    "X = dataset.iloc[:,1:2].values\n",
    "X"
   ]
  },
  {
   "cell_type": "code",
   "execution_count": 6,
   "metadata": {
    "ExecuteTime": {
     "end_time": "2020-04-30T09:21:39.892296Z",
     "start_time": "2020-04-30T09:21:39.737487Z"
    }
   },
   "outputs": [
    {
     "data": {
      "text/plain": [
       "0      45000\n",
       "1      50000\n",
       "2      60000\n",
       "3      80000\n",
       "4     110000\n",
       "5     150000\n",
       "6     200000\n",
       "7     300000\n",
       "8     500000\n",
       "9    1000000\n",
       "Name: Salary, dtype: int64"
      ]
     },
     "execution_count": 6,
     "metadata": {},
     "output_type": "execute_result"
    }
   ],
   "source": [
    "# to get y as vector\n",
    "y = dataset.iloc[:,2]\n",
    "y"
   ]
  },
  {
   "cell_type": "markdown",
   "metadata": {},
   "source": [
    "Here the dataset is very small and we will miss out on datapoints of some job levels if we go onto split the data so for this case we will train the entire dataset."
   ]
  },
  {
   "cell_type": "code",
   "execution_count": 7,
   "metadata": {
    "ExecuteTime": {
     "end_time": "2020-04-30T09:21:40.016266Z",
     "start_time": "2020-04-30T09:21:39.910278Z"
    }
   },
   "outputs": [],
   "source": [
    "# Splitting the dataset into train and test set\n",
    "# from sklearn.model_selection import train_test_split\n",
    "# X_train, X_test, y_train, y_test = train_test_split(X, y, test_size = 0.2, random_state = 0)"
   ]
  },
  {
   "cell_type": "markdown",
   "metadata": {},
   "source": [
    "__Is Feature scaling required?__ - No need for feature scaling as polynomial regression consists of adding some polynomial terms into multiple linear regression equation and therefore we will use the same linear regressin library."
   ]
  },
  {
   "cell_type": "code",
   "execution_count": 8,
   "metadata": {
    "ExecuteTime": {
     "end_time": "2020-04-30T09:21:40.187509Z",
     "start_time": "2020-04-30T09:21:40.025217Z"
    }
   },
   "outputs": [],
   "source": [
    "# from sklearn.preprocessing import StandardScaler\n",
    "# sc_X = StandardScalerardScaler()\n",
    "# X_train = sc_X.fit_transform(X_train)\n",
    "# X_test = sc_X.fit_transform(X_test)"
   ]
  },
  {
   "cell_type": "markdown",
   "metadata": {},
   "source": [
    "Will be using both Linear regression and polynomial regression so that we can compare result at the end."
   ]
  },
  {
   "cell_type": "code",
   "execution_count": 9,
   "metadata": {
    "ExecuteTime": {
     "end_time": "2020-04-30T09:21:44.078982Z",
     "start_time": "2020-04-30T09:21:40.199492Z"
    }
   },
   "outputs": [],
   "source": [
    "from sklearn.linear_model import LinearRegression"
   ]
  },
  {
   "cell_type": "code",
   "execution_count": 10,
   "metadata": {
    "ExecuteTime": {
     "end_time": "2020-04-30T09:21:44.341927Z",
     "start_time": "2020-04-30T09:21:44.087898Z"
    }
   },
   "outputs": [
    {
     "data": {
      "text/plain": [
       "LinearRegression(copy_X=True, fit_intercept=True, n_jobs=None, normalize=False)"
      ]
     },
     "execution_count": 10,
     "metadata": {},
     "output_type": "execute_result"
    }
   ],
   "source": [
    "# Fitting linear Regression to the dataset\n",
    "lin_reg = LinearRegression()\n",
    "lin_reg.fit(X,y)"
   ]
  },
  {
   "cell_type": "markdown",
   "metadata": {},
   "source": [
    "__Reference__: [sklearn.preprocessing.PolynomialFeatures](https://scikit-learn.org/stable/modules/generated/sklearn.preprocessing.PolynomialFeatures.html)"
   ]
  },
  {
   "cell_type": "code",
   "execution_count": 11,
   "metadata": {
    "ExecuteTime": {
     "end_time": "2020-04-30T09:21:44.422829Z",
     "start_time": "2020-04-30T09:21:44.357918Z"
    }
   },
   "outputs": [],
   "source": [
    "# Fitting polynomial regression to the dataset\n",
    "from sklearn.preprocessing import PolynomialFeatures\n",
    "poly_reg = PolynomialFeatures(degree = 2)"
   ]
  },
  {
   "cell_type": "markdown",
   "metadata": {},
   "source": [
    "poly_reg is a tool/transorm features of X into a new features of matrix called X_poly which will be a new matrix of features containing different powers of x say, $x_1$, $x_1^2$, $x_1^3$, etc as required."
   ]
  },
  {
   "cell_type": "code",
   "execution_count": 12,
   "metadata": {
    "ExecuteTime": {
     "end_time": "2020-04-30T09:21:44.561833Z",
     "start_time": "2020-04-30T09:21:44.425926Z"
    }
   },
   "outputs": [
    {
     "data": {
      "text/plain": [
       "array([[  1.,   1.,   1.],\n",
       "       [  1.,   2.,   4.],\n",
       "       [  1.,   3.,   9.],\n",
       "       [  1.,   4.,  16.],\n",
       "       [  1.,   5.,  25.],\n",
       "       [  1.,   6.,  36.],\n",
       "       [  1.,   7.,  49.],\n",
       "       [  1.,   8.,  64.],\n",
       "       [  1.,   9.,  81.],\n",
       "       [  1.,  10., 100.]])"
      ]
     },
     "execution_count": 12,
     "metadata": {},
     "output_type": "execute_result"
    }
   ],
   "source": [
    "# Creating the X_poly matrix\n",
    "# will be using fit_transform() here as we will change X\n",
    "X_poly = poly_reg.fit_transform(X)\n",
    "X_poly   "
   ]
  },
  {
   "cell_type": "markdown",
   "metadata": {},
   "source": [
    "($x_0$, $x_1$, $x_1^2$)"
   ]
  },
  {
   "cell_type": "code",
   "execution_count": 13,
   "metadata": {
    "ExecuteTime": {
     "end_time": "2020-04-30T09:21:44.686759Z",
     "start_time": "2020-04-30T09:21:44.579822Z"
    }
   },
   "outputs": [
    {
     "data": {
      "text/plain": [
       "array([[ 1],\n",
       "       [ 2],\n",
       "       [ 3],\n",
       "       [ 4],\n",
       "       [ 5],\n",
       "       [ 6],\n",
       "       [ 7],\n",
       "       [ 8],\n",
       "       [ 9],\n",
       "       [10]], dtype=int64)"
      ]
     },
     "execution_count": 13,
     "metadata": {},
     "output_type": "execute_result"
    }
   ],
   "source": [
    "# Observe X matrix\n",
    "X  # has only x1"
   ]
  },
  {
   "cell_type": "markdown",
   "metadata": {},
   "source": [
    "Now we need to include this fit into multiple linear regression model and to do this we are going to fit a new linear regression object `lin_reg2`. And its purpose is to fit X_poly."
   ]
  },
  {
   "cell_type": "code",
   "execution_count": 14,
   "metadata": {
    "ExecuteTime": {
     "end_time": "2020-04-30T09:21:44.872688Z",
     "start_time": "2020-04-30T09:21:44.691755Z"
    }
   },
   "outputs": [
    {
     "data": {
      "text/plain": [
       "LinearRegression(copy_X=True, fit_intercept=True, n_jobs=None, normalize=False)"
      ]
     },
     "execution_count": 14,
     "metadata": {},
     "output_type": "execute_result"
    }
   ],
   "source": [
    "lin_reg2 = LinearRegression()\n",
    "lin_reg2.fit(X_poly,y)"
   ]
  },
  {
   "cell_type": "markdown",
   "metadata": {},
   "source": [
    "Visualizing the Linear Regression results"
   ]
  },
  {
   "cell_type": "code",
   "execution_count": 15,
   "metadata": {
    "ExecuteTime": {
     "end_time": "2020-04-30T09:21:45.435698Z",
     "start_time": "2020-04-30T09:21:44.876689Z"
    }
   },
   "outputs": [
    {
     "data": {
      "image/png": "[encoded data removed]",
      "text/plain": [
       "<Figure size 432x288 with 1 Axes>"
      ]
     },
     "metadata": {},
     "output_type": "display_data"
    }
   ],
   "source": [
    "plt.scatter(X, y, color = 'r');\n",
    "plt.plot(X, lin_reg.predict(X), color = 'b');\n",
    "plt.title(\"Truth or Bluff - Linear Regression results\");\n",
    "plt.xlabel('Position Level');\n",
    "plt.ylabel('Salary');"
   ]
  },
  {
   "cell_type": "markdown",
   "metadata": {},
   "source": [
    "Visualizing the polynomial regression results"
   ]
  },
  {
   "cell_type": "code",
   "execution_count": 16,
   "metadata": {
    "ExecuteTime": {
     "end_time": "2020-04-30T09:21:45.989386Z",
     "start_time": "2020-04-30T09:21:45.437700Z"
    }
   },
   "outputs": [
    {
     "data": {
      "image/png": "[encoded data removed]",
      "text/plain": [
       "<Figure size 432x288 with 1 Axes>"
      ]
     },
     "metadata": {},
     "output_type": "display_data"
    }
   ],
   "source": [
    "plt.scatter(X, y, color = 'r');\n",
    "plt.plot(X, lin_reg2.predict(poly_reg.fit_transform(X)), color = 'b');\n",
    "plt.title(\"Truth or Bluff - Polynomial Regression results with degree 2\");\n",
    "plt.xlabel('Position Level');\n",
    "plt.ylabel('Salary');"
   ]
  },
  {
   "cell_type": "markdown",
   "metadata": {},
   "source": [
    "But this is not correct way its better to use `poly_reg.fit_transform(X)` in place of X_poly (i.e, y) as the function __poly_reg.fit_transform()__ will take any matrix features of X (instead of existing features of X) so in this way our set of codes can be made generic.\n",
    "\n",
    "#### Now try to fit all the points with degree 3 "
   ]
  },
  {
   "cell_type": "code",
   "execution_count": 17,
   "metadata": {
    "ExecuteTime": {
     "end_time": "2020-04-30T09:21:46.000383Z",
     "start_time": "2020-04-30T09:21:45.992387Z"
    }
   },
   "outputs": [
    {
     "data": {
      "text/plain": [
       "LinearRegression(copy_X=True, fit_intercept=True, n_jobs=None, normalize=False)"
      ]
     },
     "execution_count": 17,
     "metadata": {},
     "output_type": "execute_result"
    }
   ],
   "source": [
    "# Fitting polynomial regression to the dataset with degree 3\n",
    "poly_reg3 = PolynomialFeatures(degree = 3)\n",
    "X_poly3 = poly_reg3.fit_transform(X)\n",
    "lin_reg3 = LinearRegression()\n",
    "lin_reg3.fit(X_poly3,y)"
   ]
  },
  {
   "cell_type": "code",
   "execution_count": 18,
   "metadata": {
    "ExecuteTime": {
     "end_time": "2020-04-30T09:21:46.825748Z",
     "start_time": "2020-04-30T09:21:46.003221Z"
    }
   },
   "outputs": [
    {
     "data": {
      "image/png": "[encoded data removed]",
      "text/plain": [
       "<Figure size 432x288 with 1 Axes>"
      ]
     },
     "metadata": {},
     "output_type": "display_data"
    }
   ],
   "source": [
    "plt.scatter(X, y, color = 'r');\n",
    "plt.plot(X, lin_reg3.predict(poly_reg3.fit_transform(X)), color = 'b');\n",
    "plt.title(\"Truth or Bluff - Polynomial Regression results with degree 3\");\n",
    "plt.xlabel('Position Level');\n",
    "plt.ylabel('Salary');"
   ]
  },
  {
   "cell_type": "markdown",
   "metadata": {},
   "source": [
    "So observe the new curve approaches all points more accurately."
   ]
  },
  {
   "cell_type": "markdown",
   "metadata": {},
   "source": [
    "#### Now try to fit all the points with degree 4"
   ]
  },
  {
   "cell_type": "code",
   "execution_count": 19,
   "metadata": {
    "ExecuteTime": {
     "end_time": "2020-04-30T09:21:46.852729Z",
     "start_time": "2020-04-30T09:21:46.830743Z"
    }
   },
   "outputs": [
    {
     "data": {
      "text/plain": [
       "LinearRegression(copy_X=True, fit_intercept=True, n_jobs=None, normalize=False)"
      ]
     },
     "execution_count": 19,
     "metadata": {},
     "output_type": "execute_result"
    }
   ],
   "source": [
    "# Fitting polynomial regression to the dataset with degree 4\n",
    "poly_reg4 = PolynomialFeatures(degree = 4)\n",
    "X_poly4 = poly_reg4.fit_transform(X)\n",
    "lin_reg4 = LinearRegression()\n",
    "lin_reg4.fit(X_poly4,y)"
   ]
  },
  {
   "cell_type": "code",
   "execution_count": 20,
   "metadata": {
    "ExecuteTime": {
     "end_time": "2020-04-30T09:21:47.603561Z",
     "start_time": "2020-04-30T09:21:46.858725Z"
    }
   },
   "outputs": [
    {
     "data": {
      "image/png": "[encoded data removed]",
      "text/plain": [
       "<Figure size 432x288 with 1 Axes>"
      ]
     },
     "metadata": {},
     "output_type": "display_data"
    }
   ],
   "source": [
    "plt.scatter(X, y, color = 'r');\n",
    "plt.plot(X, lin_reg4.predict(poly_reg4.fit_transform(X)), color = 'b');\n",
    "plt.title(\"Truth or Bluff - Polynomial Regression results with degree 4\");\n",
    "plt.xlabel('Position Level');\n",
    "plt.ylabel('Salary');"
   ]
  },
  {
   "cell_type": "markdown",
   "metadata": {},
   "source": [
    "So the above prediction is fairly accurate. But we can improve more upon this plot. By improving the resolution or steps taken from 1 to 0.1 "
   ]
  },
  {
   "cell_type": "code",
   "execution_count": 21,
   "metadata": {
    "ExecuteTime": {
     "end_time": "2020-04-30T09:21:48.449890Z",
     "start_time": "2020-04-30T09:21:47.608559Z"
    }
   },
   "outputs": [
    {
     "data": {
      "image/png": "[encoded data removed]",
      "text/plain": [
       "<Figure size 432x288 with 1 Axes>"
      ]
     },
     "metadata": {},
     "output_type": "display_data"
    }
   ],
   "source": [
    "X_grid = np.arange(min(X), max(X), 0.1)\n",
    "X_grid = X_grid.reshape(len(X_grid), 1)\n",
    "plt.scatter(X, y, color = 'r');\n",
    "plt.plot(X_grid, lin_reg4.predict(poly_reg4.fit_transform(X_grid)), color = 'b');\n",
    "plt.title(\"Truth or Bluff - Polynomial Regression results with degree 4 and better resolution\");\n",
    "plt.xlabel('Position Level');\n",
    "plt.ylabel('Salary');"
   ]
  },
  {
   "cell_type": "markdown",
   "metadata": {},
   "source": [
    "> To tell whether the employee was bluffing or telling the truth. He said his salary was 160,000 for level 6.5.\n",
    "\n",
    "Predicting the new result with linear regression"
   ]
  },
  {
   "cell_type": "code",
   "execution_count": 22,
   "metadata": {
    "ExecuteTime": {
     "end_time": "2020-04-30T09:21:48.488869Z",
     "start_time": "2020-04-30T09:21:48.456887Z"
    }
   },
   "outputs": [
    {
     "data": {
      "text/plain": [
       "array([330378.78787879])"
      ]
     },
     "execution_count": 22,
     "metadata": {},
     "output_type": "execute_result"
    }
   ],
   "source": [
    "lin_reg.predict([[6.5]])"
   ]
  },
  {
   "cell_type": "markdown",
   "metadata": {},
   "source": [
    "Predicting the new result with polynomial regression"
   ]
  },
  {
   "cell_type": "code",
   "execution_count": 23,
   "metadata": {
    "ExecuteTime": {
     "end_time": "2020-04-30T09:21:48.775956Z",
     "start_time": "2020-04-30T09:21:48.501860Z"
    }
   },
   "outputs": [
    {
     "data": {
      "text/plain": [
       "array([158862.45265153])"
      ]
     },
     "execution_count": 23,
     "metadata": {},
     "output_type": "execute_result"
    }
   ],
   "source": [
    "lin_reg4.predict(poly_reg4.fit_transform([[6.5]]))"
   ]
  },
  {
   "cell_type": "markdown",
   "metadata": {},
   "source": [
    "So the employee was tellin the truth his salary is close to `$160000`."
   ]
  },
  {
   "cell_type": "markdown",
   "metadata": {},
   "source": [
    "***\n",
    "\n",
    "### [How do you know you need a polynomial regression?](https://www.theanalysisfactor.com/regression-modelshow-do-you-know-you-need-a-polynomial/)\n",
    "\n",
    "A cubic has two humps–one facing upward and the other down.  The curve goes down, back up, then back down again (or vice-versa).\n",
    "\n",
    "There are three main situations that indicate a linear relationship may not be a good model.\n",
    "\n",
    "1. Most important is the theoretical one.  There are some relationships that a researcher will hypothesize is curvilinear (In geometry, curvilinear coordinates are a coordinate system for Euclidean space in which the coordinate lines may be curved.).  Clearly, if this is the case, include a polynomial term.\n",
    "\n",
    "2. The second chance is during visual inspection of your variables.  This is one of those reasons for always doing univariate and bivariate inspections of your data before you begin your regression analyses.  (You always do this, right?) A simple scatter plot can reveal a curvilinear relationship.\n",
    "\n",
    "3. Inspection of residuals.  If you try to fit a linear model to curved data, a scatter plot of residuals (Y axis) on the predictor (X axis) will have patches of many positive residuals in the middle, but patches of negative residuals at either end (or vice versa).  This is a good sign that a linear model is not appropriate, and a polynomial may do better."
   ]
  },
  {
   "cell_type": "markdown",
   "metadata": {},
   "source": [
    "***"
   ]
  },
  {
   "cell_type": "code",
   "execution_count": 24,
   "metadata": {
    "ExecuteTime": {
     "end_time": "2020-04-30T09:21:48.984845Z",
     "start_time": "2020-04-30T09:21:48.781950Z"
    }
   },
   "outputs": [
    {
     "data": {
      "text/html": [
       "<div>\n",
       "<style scoped>\n",
       "    .dataframe tbody tr th:only-of-type {\n",
       "        vertical-align: middle;\n",
       "    }\n",
       "\n",
       "    .dataframe tbody tr th {\n",
       "        vertical-align: top;\n",
       "    }\n",
       "\n",
       "    .dataframe thead th {\n",
       "        text-align: right;\n",
       "    }\n",
       "</style>\n",
       "<table border=\"1\" class=\"dataframe\">\n",
       "  <thead>\n",
       "    <tr style=\"text-align: right;\">\n",
       "      <th></th>\n",
       "      <th>Girth</th>\n",
       "      <th>Height</th>\n",
       "      <th>Volume</th>\n",
       "    </tr>\n",
       "  </thead>\n",
       "  <tbody>\n",
       "    <tr>\n",
       "      <th>0</th>\n",
       "      <td>8.3</td>\n",
       "      <td>70</td>\n",
       "      <td>10.3</td>\n",
       "    </tr>\n",
       "    <tr>\n",
       "      <th>1</th>\n",
       "      <td>8.6</td>\n",
       "      <td>65</td>\n",
       "      <td>10.3</td>\n",
       "    </tr>\n",
       "    <tr>\n",
       "      <th>2</th>\n",
       "      <td>8.8</td>\n",
       "      <td>63</td>\n",
       "      <td>10.2</td>\n",
       "    </tr>\n",
       "    <tr>\n",
       "      <th>3</th>\n",
       "      <td>10.5</td>\n",
       "      <td>72</td>\n",
       "      <td>16.4</td>\n",
       "    </tr>\n",
       "    <tr>\n",
       "      <th>4</th>\n",
       "      <td>10.7</td>\n",
       "      <td>81</td>\n",
       "      <td>18.8</td>\n",
       "    </tr>\n",
       "  </tbody>\n",
       "</table>\n",
       "</div>"
      ],
      "text/plain": [
       "   Girth  Height  Volume\n",
       "0    8.3      70    10.3\n",
       "1    8.6      65    10.3\n",
       "2    8.8      63    10.2\n",
       "3   10.5      72    16.4\n",
       "4   10.7      81    18.8"
      ]
     },
     "execution_count": 24,
     "metadata": {},
     "output_type": "execute_result"
    }
   ],
   "source": [
    "df = pd.read_csv('trees.csv')\n",
    "df.head()"
   ]
  },
  {
   "cell_type": "code",
   "execution_count": 25,
   "metadata": {
    "ExecuteTime": {
     "end_time": "2020-04-30T09:21:49.152811Z",
     "start_time": "2020-04-30T09:21:48.989832Z"
    }
   },
   "outputs": [
    {
     "data": {
      "text/plain": [
       "(31, 3)"
      ]
     },
     "execution_count": 25,
     "metadata": {},
     "output_type": "execute_result"
    }
   ],
   "source": [
    "df.shape"
   ]
  },
  {
   "cell_type": "code",
   "execution_count": 26,
   "metadata": {
    "ExecuteTime": {
     "end_time": "2020-04-30T09:24:34.570201Z",
     "start_time": "2020-04-30T09:24:33.973525Z"
    }
   },
   "outputs": [
    {
     "data": {
      "image/png": "[encoded data removed]",
      "text/plain": [
       "<Figure size 432x288 with 1 Axes>"
      ]
     },
     "metadata": {},
     "output_type": "display_data"
    }
   ],
   "source": [
    "sns.scatterplot(data = df, x = 'Girth', y = 'Volume');"
   ]
  },
  {
   "cell_type": "code",
   "execution_count": 27,
   "metadata": {
    "ExecuteTime": {
     "end_time": "2020-04-30T09:24:34.587176Z",
     "start_time": "2020-04-30T09:24:34.581175Z"
    }
   },
   "outputs": [],
   "source": [
    "from sklearn.linear_model import LinearRegression\n",
    "lin_reg = LinearRegression(normalize=True)"
   ]
  },
  {
   "cell_type": "code",
   "execution_count": 28,
   "metadata": {
    "ExecuteTime": {
     "end_time": "2020-04-30T09:24:34.722096Z",
     "start_time": "2020-04-30T09:24:34.599166Z"
    }
   },
   "outputs": [
    {
     "data": {
      "text/html": [
       "<div>\n",
       "<style scoped>\n",
       "    .dataframe tbody tr th:only-of-type {\n",
       "        vertical-align: middle;\n",
       "    }\n",
       "\n",
       "    .dataframe tbody tr th {\n",
       "        vertical-align: top;\n",
       "    }\n",
       "\n",
       "    .dataframe thead th {\n",
       "        text-align: right;\n",
       "    }\n",
       "</style>\n",
       "<table border=\"1\" class=\"dataframe\">\n",
       "  <thead>\n",
       "    <tr style=\"text-align: right;\">\n",
       "      <th></th>\n",
       "      <th>Girth</th>\n",
       "    </tr>\n",
       "  </thead>\n",
       "  <tbody>\n",
       "    <tr>\n",
       "      <th>0</th>\n",
       "      <td>8.3</td>\n",
       "    </tr>\n",
       "    <tr>\n",
       "      <th>1</th>\n",
       "      <td>8.6</td>\n",
       "    </tr>\n",
       "    <tr>\n",
       "      <th>2</th>\n",
       "      <td>8.8</td>\n",
       "    </tr>\n",
       "    <tr>\n",
       "      <th>3</th>\n",
       "      <td>10.5</td>\n",
       "    </tr>\n",
       "    <tr>\n",
       "      <th>4</th>\n",
       "      <td>10.7</td>\n",
       "    </tr>\n",
       "  </tbody>\n",
       "</table>\n",
       "</div>"
      ],
      "text/plain": [
       "   Girth\n",
       "0    8.3\n",
       "1    8.6\n",
       "2    8.8\n",
       "3   10.5\n",
       "4   10.7"
      ]
     },
     "execution_count": 28,
     "metadata": {},
     "output_type": "execute_result"
    }
   ],
   "source": [
    "X = df[['Girth']]\n",
    "X.head()"
   ]
  },
  {
   "cell_type": "code",
   "execution_count": 29,
   "metadata": {
    "ExecuteTime": {
     "end_time": "2020-04-30T09:24:34.847026Z",
     "start_time": "2020-04-30T09:24:34.728092Z"
    }
   },
   "outputs": [
    {
     "data": {
      "text/plain": [
       "0    10.3\n",
       "1    10.3\n",
       "2    10.2\n",
       "3    16.4\n",
       "4    18.8\n",
       "Name: Volume, dtype: float64"
      ]
     },
     "execution_count": 29,
     "metadata": {},
     "output_type": "execute_result"
    }
   ],
   "source": [
    "y = df['Volume']\n",
    "y.head()"
   ]
  },
  {
   "cell_type": "code",
   "execution_count": 30,
   "metadata": {
    "ExecuteTime": {
     "end_time": "2020-04-30T09:24:34.972953Z",
     "start_time": "2020-04-30T09:24:34.852022Z"
    }
   },
   "outputs": [
    {
     "data": {
      "text/plain": [
       "LinearRegression(copy_X=True, fit_intercept=True, n_jobs=None, normalize=True)"
      ]
     },
     "execution_count": 30,
     "metadata": {},
     "output_type": "execute_result"
    }
   ],
   "source": [
    "lin_reg.fit(X, y)"
   ]
  },
  {
   "cell_type": "code",
   "execution_count": 31,
   "metadata": {
    "ExecuteTime": {
     "end_time": "2020-04-30T09:24:35.107896Z",
     "start_time": "2020-04-30T09:24:34.980949Z"
    }
   },
   "outputs": [],
   "source": [
    "y_pred = lin_reg.predict(X)"
   ]
  },
  {
   "cell_type": "code",
   "execution_count": 32,
   "metadata": {
    "ExecuteTime": {
     "end_time": "2020-04-30T09:24:45.503009Z",
     "start_time": "2020-04-30T09:24:35.113873Z"
    }
   },
   "outputs": [
    {
     "data": {
      "text/html": [
       "<table class=\"simpletable\">\n",
       "<caption>OLS Regression Results</caption>\n",
       "<tr>\n",
       "  <th>Dep. Variable:</th>         <td>Volume</td>      <th>  R-squared (uncentered):</th>      <td>   0.926</td>\n",
       "</tr>\n",
       "<tr>\n",
       "  <th>Model:</th>                   <td>OLS</td>       <th>  Adj. R-squared (uncentered):</th> <td>   0.923</td>\n",
       "</tr>\n",
       "<tr>\n",
       "  <th>Method:</th>             <td>Least Squares</td>  <th>  F-statistic:       </th>          <td>   373.1</td>\n",
       "</tr>\n",
       "<tr>\n",
       "  <th>Date:</th>             <td>Thu, 30 Apr 2020</td> <th>  Prob (F-statistic):</th>          <td>1.78e-18</td>\n",
       "</tr>\n",
       "<tr>\n",
       "  <th>Time:</th>                 <td>14:54:45</td>     <th>  Log-Likelihood:    </th>          <td> -113.24</td>\n",
       "</tr>\n",
       "<tr>\n",
       "  <th>No. Observations:</th>      <td>    31</td>      <th>  AIC:               </th>          <td>   228.5</td>\n",
       "</tr>\n",
       "<tr>\n",
       "  <th>Df Residuals:</th>          <td>    30</td>      <th>  BIC:               </th>          <td>   229.9</td>\n",
       "</tr>\n",
       "<tr>\n",
       "  <th>Df Model:</th>              <td>     1</td>      <th>                     </th>              <td> </td>   \n",
       "</tr>\n",
       "<tr>\n",
       "  <th>Covariance Type:</th>      <td>nonrobust</td>    <th>                     </th>              <td> </td>   \n",
       "</tr>\n",
       "</table>\n",
       "<table class=\"simpletable\">\n",
       "<tr>\n",
       "    <td></td>       <th>coef</th>     <th>std err</th>      <th>t</th>      <th>P>|t|</th>  <th>[0.025</th>    <th>0.975]</th>  \n",
       "</tr>\n",
       "<tr>\n",
       "  <th>Girth</th> <td>    2.4209</td> <td>    0.125</td> <td>   19.316</td> <td> 0.000</td> <td>    2.165</td> <td>    2.677</td>\n",
       "</tr>\n",
       "</table>\n",
       "<table class=\"simpletable\">\n",
       "<tr>\n",
       "  <th>Omnibus:</th>       <td>13.159</td> <th>  Durbin-Watson:     </th> <td>   0.359</td>\n",
       "</tr>\n",
       "<tr>\n",
       "  <th>Prob(Omnibus):</th> <td> 0.001</td> <th>  Jarque-Bera (JB):  </th> <td>  12.755</td>\n",
       "</tr>\n",
       "<tr>\n",
       "  <th>Skew:</th>          <td> 1.397</td> <th>  Prob(JB):          </th> <td> 0.00170</td>\n",
       "</tr>\n",
       "<tr>\n",
       "  <th>Kurtosis:</th>      <td> 4.437</td> <th>  Cond. No.          </th> <td>    1.00</td>\n",
       "</tr>\n",
       "</table><br/><br/>Warnings:<br/>[1] Standard Errors assume that the covariance matrix of the errors is correctly specified."
      ],
      "text/plain": [
       "<class 'statsmodels.iolib.summary.Summary'>\n",
       "\"\"\"\n",
       "                                 OLS Regression Results                                \n",
       "=======================================================================================\n",
       "Dep. Variable:                 Volume   R-squared (uncentered):                   0.926\n",
       "Model:                            OLS   Adj. R-squared (uncentered):              0.923\n",
       "Method:                 Least Squares   F-statistic:                              373.1\n",
       "Date:                Thu, 30 Apr 2020   Prob (F-statistic):                    1.78e-18\n",
       "Time:                        14:54:45   Log-Likelihood:                         -113.24\n",
       "No. Observations:                  31   AIC:                                      228.5\n",
       "Df Residuals:                      30   BIC:                                      229.9\n",
       "Df Model:                           1                                                  \n",
       "Covariance Type:            nonrobust                                                  \n",
       "==============================================================================\n",
       "                 coef    std err          t      P>|t|      [0.025      0.975]\n",
       "------------------------------------------------------------------------------\n",
       "Girth          2.4209      0.125     19.316      0.000       2.165       2.677\n",
       "==============================================================================\n",
       "Omnibus:                       13.159   Durbin-Watson:                   0.359\n",
       "Prob(Omnibus):                  0.001   Jarque-Bera (JB):               12.755\n",
       "Skew:                           1.397   Prob(JB):                      0.00170\n",
       "Kurtosis:                       4.437   Cond. No.                         1.00\n",
       "==============================================================================\n",
       "\n",
       "Warnings:\n",
       "[1] Standard Errors assume that the covariance matrix of the errors is correctly specified.\n",
       "\"\"\""
      ]
     },
     "execution_count": 32,
     "metadata": {},
     "output_type": "execute_result"
    }
   ],
   "source": [
    "import statsmodels.api as sm\n",
    "model_sm = sm.OLS(y, X).fit()\n",
    "model_sm.summary()"
   ]
  },
  {
   "cell_type": "markdown",
   "metadata": {},
   "source": [
    "The obtained simple linear regression model tends to satisfy the assumptions of linear regression and can also be considered useful based on the coefficient of determination.\n",
    "\n",
    "However, from the dataset description, it can be observed that the volume of the tree is proportional to the squared of its girth as expressed below.\n",
    "\n",
    "$$ Volume of trees  = Girth^2 $$\n",
    "\n",
    "It can be further observed that the volume of a cylindrical structure is proportional to the radius squared.\n",
    "\n",
    "This suggests that using girth squared instead of girth might provide a better prediction of the volume of the tree.\n",
    "\n",
    "We shall thus try to predict the volume based on $Girth^2$. Use of $Girth^2$ to predict the volume of the tree is therefore a case of non-linear regression."
   ]
  },
  {
   "cell_type": "code",
   "execution_count": 33,
   "metadata": {
    "ExecuteTime": {
     "end_time": "2020-04-30T09:24:45.526994Z",
     "start_time": "2020-04-30T09:24:45.513003Z"
    }
   },
   "outputs": [],
   "source": [
    "from sklearn.preprocessing import PolynomialFeatures\n",
    "poly_reg = PolynomialFeatures(degree=2)"
   ]
  },
  {
   "cell_type": "code",
   "execution_count": 34,
   "metadata": {
    "ExecuteTime": {
     "end_time": "2020-04-30T09:24:45.684905Z",
     "start_time": "2020-04-30T09:24:45.537989Z"
    }
   },
   "outputs": [
    {
     "data": {
      "text/plain": [
       "array([[  1.  ,   8.3 ,  68.89],\n",
       "       [  1.  ,   8.6 ,  73.96],\n",
       "       [  1.  ,   8.8 ,  77.44],\n",
       "       [  1.  ,  10.5 , 110.25],\n",
       "       [  1.  ,  10.7 , 114.49],\n",
       "       [  1.  ,  10.8 , 116.64],\n",
       "       [  1.  ,  11.  , 121.  ],\n",
       "       [  1.  ,  11.  , 121.  ],\n",
       "       [  1.  ,  11.1 , 123.21],\n",
       "       [  1.  ,  11.2 , 125.44],\n",
       "       [  1.  ,  11.3 , 127.69],\n",
       "       [  1.  ,  11.4 , 129.96],\n",
       "       [  1.  ,  11.4 , 129.96],\n",
       "       [  1.  ,  11.7 , 136.89],\n",
       "       [  1.  ,  12.  , 144.  ],\n",
       "       [  1.  ,  12.9 , 166.41],\n",
       "       [  1.  ,  12.9 , 166.41],\n",
       "       [  1.  ,  13.3 , 176.89],\n",
       "       [  1.  ,  13.7 , 187.69],\n",
       "       [  1.  ,  13.8 , 190.44],\n",
       "       [  1.  ,  14.  , 196.  ],\n",
       "       [  1.  ,  14.2 , 201.64],\n",
       "       [  1.  ,  14.5 , 210.25],\n",
       "       [  1.  ,  16.  , 256.  ],\n",
       "       [  1.  ,  16.3 , 265.69],\n",
       "       [  1.  ,  17.3 , 299.29],\n",
       "       [  1.  ,  17.5 , 306.25],\n",
       "       [  1.  ,  17.9 , 320.41],\n",
       "       [  1.  ,  18.  , 324.  ],\n",
       "       [  1.  ,  18.  , 324.  ],\n",
       "       [  1.  ,  20.6 , 424.36]])"
      ]
     },
     "execution_count": 34,
     "metadata": {},
     "output_type": "execute_result"
    }
   ],
   "source": [
    "X_poly = poly_reg.fit_transform(X)\n",
    "X_poly   "
   ]
  },
  {
   "cell_type": "markdown",
   "metadata": {},
   "source": [
    "Eqn is of form $$ Volume = \\beta_0 + \\beta_1*Girth + \\beta*Girth^{2} $$\n",
    "\n",
    "Now we need to include this fit into multiple linear regression model and to do this we are going to fit a new linear regression object lin_reg. And its purpose is to fit X_poly."
   ]
  },
  {
   "cell_type": "code",
   "execution_count": 35,
   "metadata": {
    "ExecuteTime": {
     "end_time": "2020-04-30T09:24:45.821825Z",
     "start_time": "2020-04-30T09:24:45.693900Z"
    }
   },
   "outputs": [
    {
     "data": {
      "text/plain": [
       "LinearRegression(copy_X=True, fit_intercept=True, n_jobs=None, normalize=True)"
      ]
     },
     "execution_count": 35,
     "metadata": {},
     "output_type": "execute_result"
    }
   ],
   "source": [
    "from sklearn.linear_model import LinearRegression\n",
    "lin_reg = LinearRegression(normalize=True)\n",
    "lin_reg.fit(X_poly,y)"
   ]
  },
  {
   "cell_type": "code",
   "execution_count": 36,
   "metadata": {
    "ExecuteTime": {
     "end_time": "2020-04-30T09:24:45.957538Z",
     "start_time": "2020-04-30T09:24:45.827822Z"
    }
   },
   "outputs": [
    {
     "data": {
      "text/plain": [
       "array([10.95660022, 11.61946382, 12.08682665, 16.88156701, 17.54237839,\n",
       "       17.8804202 , 18.57177609, 18.57177609, 18.92509016, 19.28349498,\n",
       "       19.64699055, 20.01557688, 20.01557688, 21.15188036, 22.3340006 ,\n",
       "       26.1552619 , 26.1552619 , 27.98595979, 29.8981097 , 30.38887406,\n",
       "       31.38567503, 32.402839  , 33.96676559, 42.47365   , 44.31247717,\n",
       "       50.7727999 , 52.12595346, 54.8933496 , 55.59792552, 55.59792552,\n",
       "       75.703753  ])"
      ]
     },
     "execution_count": 36,
     "metadata": {},
     "output_type": "execute_result"
    }
   ],
   "source": [
    "vol_predicted = lin_reg.predict(poly_reg.fit_transform(X))\n",
    "vol_predicted"
   ]
  },
  {
   "cell_type": "code",
   "execution_count": 37,
   "metadata": {
    "ExecuteTime": {
     "end_time": "2020-04-30T09:24:46.838417Z",
     "start_time": "2020-04-30T09:24:45.963536Z"
    }
   },
   "outputs": [
    {
     "data": {
      "image/png": "[encoded data removed]",
      "text/plain": [
       "<Figure size 432x288 with 1 Axes>"
      ]
     },
     "metadata": {},
     "output_type": "display_data"
    }
   ],
   "source": [
    "plt.scatter(X, y, color = 'r');\n",
    "plt.plot(X, vol_predicted, color = 'b');\n",
    "plt.xlabel('Girth');\n",
    "plt.ylabel('Volume');"
   ]
  },
  {
   "cell_type": "code",
   "execution_count": 38,
   "metadata": {
    "ExecuteTime": {
     "end_time": "2020-04-30T09:24:47.507469Z",
     "start_time": "2020-04-30T09:24:46.845415Z"
    }
   },
   "outputs": [],
   "source": [
    "import statsmodels.formula.api as smf\n",
    "tree_poly_2 = smf.ols(formula='Volume ~ Girth + I(Girth**2)', data = df).fit()"
   ]
  },
  {
   "cell_type": "markdown",
   "metadata": {},
   "source": [
    "Observe the difference in the two statsmodels ols functions."
   ]
  },
  {
   "cell_type": "code",
   "execution_count": 39,
   "metadata": {
    "ExecuteTime": {
     "end_time": "2020-04-30T09:24:47.573429Z",
     "start_time": "2020-04-30T09:24:47.521460Z"
    }
   },
   "outputs": [
    {
     "data": {
      "text/html": [
       "<table class=\"simpletable\">\n",
       "<caption>OLS Regression Results</caption>\n",
       "<tr>\n",
       "  <th>Dep. Variable:</th>         <td>Volume</td>      <th>  R-squared:         </th> <td>   0.962</td>\n",
       "</tr>\n",
       "<tr>\n",
       "  <th>Model:</th>                   <td>OLS</td>       <th>  Adj. R-squared:    </th> <td>   0.959</td>\n",
       "</tr>\n",
       "<tr>\n",
       "  <th>Method:</th>             <td>Least Squares</td>  <th>  F-statistic:       </th> <td>   350.5</td>\n",
       "</tr>\n",
       "<tr>\n",
       "  <th>Date:</th>             <td>Thu, 30 Apr 2020</td> <th>  Prob (F-statistic):</th> <td>1.52e-20</td>\n",
       "</tr>\n",
       "<tr>\n",
       "  <th>Time:</th>                 <td>14:54:47</td>     <th>  Log-Likelihood:    </th> <td> -79.746</td>\n",
       "</tr>\n",
       "<tr>\n",
       "  <th>No. Observations:</th>      <td>    31</td>      <th>  AIC:               </th> <td>   165.5</td>\n",
       "</tr>\n",
       "<tr>\n",
       "  <th>Df Residuals:</th>          <td>    28</td>      <th>  BIC:               </th> <td>   169.8</td>\n",
       "</tr>\n",
       "<tr>\n",
       "  <th>Df Model:</th>              <td>     2</td>      <th>                     </th>     <td> </td>   \n",
       "</tr>\n",
       "<tr>\n",
       "  <th>Covariance Type:</th>      <td>nonrobust</td>    <th>                     </th>     <td> </td>   \n",
       "</tr>\n",
       "</table>\n",
       "<table class=\"simpletable\">\n",
       "<tr>\n",
       "        <td></td>           <th>coef</th>     <th>std err</th>      <th>t</th>      <th>P>|t|</th>  <th>[0.025</th>    <th>0.975]</th>  \n",
       "</tr>\n",
       "<tr>\n",
       "  <th>Intercept</th>     <td>   10.7863</td> <td>   11.223</td> <td>    0.961</td> <td> 0.345</td> <td>  -12.203</td> <td>   33.775</td>\n",
       "</tr>\n",
       "<tr>\n",
       "  <th>Girth</th>         <td>   -2.0921</td> <td>    1.647</td> <td>   -1.270</td> <td> 0.215</td> <td>   -5.467</td> <td>    1.282</td>\n",
       "</tr>\n",
       "<tr>\n",
       "  <th>I(Girth ** 2)</th> <td>    0.2545</td> <td>    0.058</td> <td>    4.376</td> <td> 0.000</td> <td>    0.135</td> <td>    0.374</td>\n",
       "</tr>\n",
       "</table>\n",
       "<table class=\"simpletable\">\n",
       "<tr>\n",
       "  <th>Omnibus:</th>       <td> 0.529</td> <th>  Durbin-Watson:     </th> <td>   1.925</td>\n",
       "</tr>\n",
       "<tr>\n",
       "  <th>Prob(Omnibus):</th> <td> 0.767</td> <th>  Jarque-Bera (JB):  </th> <td>   0.653</td>\n",
       "</tr>\n",
       "<tr>\n",
       "  <th>Skew:</th>          <td> 0.220</td> <th>  Prob(JB):          </th> <td>   0.722</td>\n",
       "</tr>\n",
       "<tr>\n",
       "  <th>Kurtosis:</th>      <td> 2.442</td> <th>  Cond. No.          </th> <td>3.88e+03</td>\n",
       "</tr>\n",
       "</table><br/><br/>Warnings:<br/>[1] Standard Errors assume that the covariance matrix of the errors is correctly specified.<br/>[2] The condition number is large, 3.88e+03. This might indicate that there are<br/>strong multicollinearity or other numerical problems."
      ],
      "text/plain": [
       "<class 'statsmodels.iolib.summary.Summary'>\n",
       "\"\"\"\n",
       "                            OLS Regression Results                            \n",
       "==============================================================================\n",
       "Dep. Variable:                 Volume   R-squared:                       0.962\n",
       "Model:                            OLS   Adj. R-squared:                  0.959\n",
       "Method:                 Least Squares   F-statistic:                     350.5\n",
       "Date:                Thu, 30 Apr 2020   Prob (F-statistic):           1.52e-20\n",
       "Time:                        14:54:47   Log-Likelihood:                -79.746\n",
       "No. Observations:                  31   AIC:                             165.5\n",
       "Df Residuals:                      28   BIC:                             169.8\n",
       "Df Model:                           2                                         \n",
       "Covariance Type:            nonrobust                                         \n",
       "=================================================================================\n",
       "                    coef    std err          t      P>|t|      [0.025      0.975]\n",
       "---------------------------------------------------------------------------------\n",
       "Intercept        10.7863     11.223      0.961      0.345     -12.203      33.775\n",
       "Girth            -2.0921      1.647     -1.270      0.215      -5.467       1.282\n",
       "I(Girth ** 2)     0.2545      0.058      4.376      0.000       0.135       0.374\n",
       "==============================================================================\n",
       "Omnibus:                        0.529   Durbin-Watson:                   1.925\n",
       "Prob(Omnibus):                  0.767   Jarque-Bera (JB):                0.653\n",
       "Skew:                           0.220   Prob(JB):                        0.722\n",
       "Kurtosis:                       2.442   Cond. No.                     3.88e+03\n",
       "==============================================================================\n",
       "\n",
       "Warnings:\n",
       "[1] Standard Errors assume that the covariance matrix of the errors is correctly specified.\n",
       "[2] The condition number is large, 3.88e+03. This might indicate that there are\n",
       "strong multicollinearity or other numerical problems.\n",
       "\"\"\""
      ]
     },
     "execution_count": 39,
     "metadata": {},
     "output_type": "execute_result"
    }
   ],
   "source": [
    "tree_poly_2.summary()"
   ]
  },
  {
   "cell_type": "markdown",
   "metadata": {},
   "source": [
    "The generated non-linear regression model can be represented as  \n",
    "$$ volume = 10.7863 - 2.0921*Girth + 0.2545*Girth^{2} $$\n",
    "\n",
    "***\n",
    "\n",
    "Case when we need the eqn of form $$ Volume = \\beta_0 + \\beta_1*Girth^{2} $$"
   ]
  },
  {
   "cell_type": "code",
   "execution_count": 40,
   "metadata": {
    "ExecuteTime": {
     "end_time": "2020-04-30T09:24:47.726225Z",
     "start_time": "2020-04-30T09:24:47.579438Z"
    }
   },
   "outputs": [],
   "source": [
    "import statsmodels.formula.api as smf\n",
    "tree_poly_2a = smf.ols(formula='Volume ~ I(Girth**2)', data = df).fit()"
   ]
  },
  {
   "cell_type": "code",
   "execution_count": 41,
   "metadata": {
    "ExecuteTime": {
     "end_time": "2020-04-30T09:24:47.881112Z",
     "start_time": "2020-04-30T09:24:47.735180Z"
    }
   },
   "outputs": [
    {
     "data": {
      "text/html": [
       "<table class=\"simpletable\">\n",
       "<caption>OLS Regression Results</caption>\n",
       "<tr>\n",
       "  <th>Dep. Variable:</th>         <td>Volume</td>      <th>  R-squared:         </th> <td>   0.959</td>\n",
       "</tr>\n",
       "<tr>\n",
       "  <th>Model:</th>                   <td>OLS</td>       <th>  Adj. R-squared:    </th> <td>   0.958</td>\n",
       "</tr>\n",
       "<tr>\n",
       "  <th>Method:</th>             <td>Least Squares</td>  <th>  F-statistic:       </th> <td>   684.8</td>\n",
       "</tr>\n",
       "<tr>\n",
       "  <th>Date:</th>             <td>Thu, 30 Apr 2020</td> <th>  Prob (F-statistic):</th> <td>1.01e-21</td>\n",
       "</tr>\n",
       "<tr>\n",
       "  <th>Time:</th>                 <td>14:54:47</td>     <th>  Log-Likelihood:    </th> <td> -80.614</td>\n",
       "</tr>\n",
       "<tr>\n",
       "  <th>No. Observations:</th>      <td>    31</td>      <th>  AIC:               </th> <td>   165.2</td>\n",
       "</tr>\n",
       "<tr>\n",
       "  <th>Df Residuals:</th>          <td>    29</td>      <th>  BIC:               </th> <td>   168.1</td>\n",
       "</tr>\n",
       "<tr>\n",
       "  <th>Df Model:</th>              <td>     1</td>      <th>                     </th>     <td> </td>   \n",
       "</tr>\n",
       "<tr>\n",
       "  <th>Covariance Type:</th>      <td>nonrobust</td>    <th>                     </th>     <td> </td>   \n",
       "</tr>\n",
       "</table>\n",
       "<table class=\"simpletable\">\n",
       "<tr>\n",
       "        <td></td>           <th>coef</th>     <th>std err</th>      <th>t</th>      <th>P>|t|</th>  <th>[0.025</th>    <th>0.975]</th>  \n",
       "</tr>\n",
       "<tr>\n",
       "  <th>Intercept</th>     <td>   -3.3551</td> <td>    1.417</td> <td>   -2.368</td> <td> 0.025</td> <td>   -6.253</td> <td>   -0.457</td>\n",
       "</tr>\n",
       "<tr>\n",
       "  <th>I(Girth ** 2)</th> <td>    0.1812</td> <td>    0.007</td> <td>   26.169</td> <td> 0.000</td> <td>    0.167</td> <td>    0.195</td>\n",
       "</tr>\n",
       "</table>\n",
       "<table class=\"simpletable\">\n",
       "<tr>\n",
       "  <th>Omnibus:</th>       <td> 0.830</td> <th>  Durbin-Watson:     </th> <td>   1.910</td>\n",
       "</tr>\n",
       "<tr>\n",
       "  <th>Prob(Omnibus):</th> <td> 0.660</td> <th>  Jarque-Bera (JB):  </th> <td>   0.756</td>\n",
       "</tr>\n",
       "<tr>\n",
       "  <th>Skew:</th>          <td>-0.056</td> <th>  Prob(JB):          </th> <td>   0.685</td>\n",
       "</tr>\n",
       "<tr>\n",
       "  <th>Kurtosis:</th>      <td> 2.243</td> <th>  Cond. No.          </th> <td>    479.</td>\n",
       "</tr>\n",
       "</table><br/><br/>Warnings:<br/>[1] Standard Errors assume that the covariance matrix of the errors is correctly specified."
      ],
      "text/plain": [
       "<class 'statsmodels.iolib.summary.Summary'>\n",
       "\"\"\"\n",
       "                            OLS Regression Results                            \n",
       "==============================================================================\n",
       "Dep. Variable:                 Volume   R-squared:                       0.959\n",
       "Model:                            OLS   Adj. R-squared:                  0.958\n",
       "Method:                 Least Squares   F-statistic:                     684.8\n",
       "Date:                Thu, 30 Apr 2020   Prob (F-statistic):           1.01e-21\n",
       "Time:                        14:54:47   Log-Likelihood:                -80.614\n",
       "No. Observations:                  31   AIC:                             165.2\n",
       "Df Residuals:                      29   BIC:                             168.1\n",
       "Df Model:                           1                                         \n",
       "Covariance Type:            nonrobust                                         \n",
       "=================================================================================\n",
       "                    coef    std err          t      P>|t|      [0.025      0.975]\n",
       "---------------------------------------------------------------------------------\n",
       "Intercept        -3.3551      1.417     -2.368      0.025      -6.253      -0.457\n",
       "I(Girth ** 2)     0.1812      0.007     26.169      0.000       0.167       0.195\n",
       "==============================================================================\n",
       "Omnibus:                        0.830   Durbin-Watson:                   1.910\n",
       "Prob(Omnibus):                  0.660   Jarque-Bera (JB):                0.756\n",
       "Skew:                          -0.056   Prob(JB):                        0.685\n",
       "Kurtosis:                       2.243   Cond. No.                         479.\n",
       "==============================================================================\n",
       "\n",
       "Warnings:\n",
       "[1] Standard Errors assume that the covariance matrix of the errors is correctly specified.\n",
       "\"\"\""
      ]
     },
     "execution_count": 41,
     "metadata": {},
     "output_type": "execute_result"
    }
   ],
   "source": [
    "tree_poly_2a.summary()"
   ]
  },
  {
   "cell_type": "markdown",
   "metadata": {},
   "source": [
    "Visualizing the Obtained Non-Linear Regression Model"
   ]
  },
  {
   "cell_type": "code",
   "execution_count": 42,
   "metadata": {
    "ExecuteTime": {
     "end_time": "2020-04-30T09:24:47.985038Z",
     "start_time": "2020-04-30T09:24:47.891090Z"
    }
   },
   "outputs": [],
   "source": [
    "predictions = tree_poly_2a.predict(X)"
   ]
  },
  {
   "cell_type": "code",
   "execution_count": 43,
   "metadata": {
    "ExecuteTime": {
     "end_time": "2020-04-30T09:24:48.767624Z",
     "start_time": "2020-04-30T09:24:47.999030Z"
    }
   },
   "outputs": [
    {
     "data": {
      "image/png": "[encoded data removed]",
      "text/plain": [
       "<Figure size 432x288 with 1 Axes>"
      ]
     },
     "metadata": {},
     "output_type": "display_data"
    }
   ],
   "source": [
    "plt.scatter(X, y, color = 'r');\n",
    "plt.plot(X, predictions, color = 'b');\n",
    "plt.xlabel('Girth');\n",
    "plt.ylabel('Volume');"
   ]
  }
 ],
 "metadata": {
  "kernelspec": {
   "display_name": "Python 3",
   "language": "python",
   "name": "python3"
  },
  "language_info": {
   "codemirror_mode": {
    "name": "ipython",
    "version": 3
   },
   "file_extension": ".py",
   "mimetype": "text/x-python",
   "name": "python",
   "nbconvert_exporter": "python",
   "pygments_lexer": "ipython3",
   "version": "3.7.6"
  }
 },
 "nbformat": 4,
 "nbformat_minor": 4
}
