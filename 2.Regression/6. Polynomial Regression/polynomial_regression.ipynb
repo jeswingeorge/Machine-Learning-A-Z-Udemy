{
 "cells": [
  {
   "cell_type": "code",
   "execution_count": 1,
   "metadata": {},
   "outputs": [],
   "source": [
    "import pandas as pd\n",
    "import numpy as np\n",
    "import matplotlib.pyplot as plt\n",
    "import seaborn as sns\n",
    "%matplotlib inline\n",
    "sns.set()"
   ]
  },
  {
   "attachments": {},
   "cell_type": "markdown",
   "metadata": {},
   "source": [
    "# Polynomial regression\n",
    "\n",
    "![](image1.PNG)\n",
    "\n",
    "***\n",
    "\n",
    "![](image2.png)\n",
    "\n",
    "\n",
    "***\n",
    "***\n",
    "\n",
    "\n",
    "#### Polynomial regression used in cases where the simple and multi linear regression fail.  \n",
    "\n",
    "Example cases like - When the pandemics or diseases spread.\n",
    "\n",
    "\n",
    "# why polynomial regression is called linear?\n",
    "\n",
    "$$ y = b_0 + b_1x_1 + b_2x_1^2 + . . . + b_nx_1^n  $$\n",
    "\n",
    "When we talk about linear and non-linear we are not actually talking about the x-variables even though the relationship between y and x  is non-linear here, when we talk about class of regression we are talking about  whether they are linear or non-linear i.e, wheter the function can be expressed as linear combination of these coefficeints coz ultimately they are the unknowns so linear or non-linear refers to the coefficients. \n",
    "\n",
    "\n",
    "\n",
    "Polynomial ( means having more than one term) regression is\n",
    "\n",
    "- __linear__ when the highest power of the independent variable is 1 ( an equation of a straight line), y= a+ b x\n",
    "- __multiple linear__ when it involves more than one independent variable , with power 1., e.g., z= a+ b x + c y\n",
    "- __nonlinear__ when it involves higher powers of the variable, e.g., y = a+ bx + c$x^2$ , or still higher powers of x\n",
    "\n",
    "Polynomial regression is a kind of linear regression.\n",
    "\n",
    "Suppose you fit a model $$ Y = a_0 + a_1x + a_2x^2 + a_kx^k $$\n",
    "\n",
    "Treat $ x, x^2,. . . .x^k $ as k variables. This is a linear function of $a_0, a_1,  . ., a_k$.\n",
    "\n",
    "### Reference:\n",
    "\n",
    "1. [Introduction to Linear Regression and Polynomial Regression](https://towardsdatascience.com/introduction-to-linear-regression-and-polynomial-regression-f8adc96f31cb)\n",
    "2. [Polynomial Regression: Adding Non-Linearity To A Linear Model](https://blog.quantinsti.com/polynomial-regression-adding-non-linearity-to-a-linear-model/)"
   ]
  },
  {
   "cell_type": "code",
   "execution_count": null,
   "metadata": {},
   "outputs": [],
   "source": []
  },
  {
   "cell_type": "code",
   "execution_count": null,
   "metadata": {},
   "outputs": [],
   "source": []
  },
  {
   "cell_type": "code",
   "execution_count": null,
   "metadata": {},
   "outputs": [],
   "source": []
  }
 ],
 "metadata": {
  "kernelspec": {
   "display_name": "Python 3",
   "language": "python",
   "name": "python3"
  },
  "language_info": {
   "codemirror_mode": {
    "name": "ipython",
    "version": 3
   },
   "file_extension": ".py",
   "mimetype": "text/x-python",
   "name": "python",
   "nbconvert_exporter": "python",
   "pygments_lexer": "ipython3",
   "version": "3.7.6"
  }
 },
 "nbformat": 4,
 "nbformat_minor": 4
}
