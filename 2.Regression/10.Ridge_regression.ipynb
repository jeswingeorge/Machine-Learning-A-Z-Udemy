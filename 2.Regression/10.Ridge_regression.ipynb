{
 "cells": [
  {
   "cell_type": "markdown",
   "metadata": {},
   "source": [
    "# Ridge regression\n",
    "\n",
    "Here \n",
    "\n",
    "![](images/10_1.PNG)\n",
    "\n",
    "***\n",
    "\n",
    "We try to create a linear regression model or try to fit a linear model on a given dataset of weight vs sizes.\n",
    "\n",
    "\n",
    "![](images/10_b.PNG)\n",
    "\n",
    "![](images/10_c.png)\n",
    "\n",
    "When we have a lot of measurements we can be fairly confident that the Least squares line accurately reflects the relationship between Size and weight.\n",
    "\n",
    "But what if the dataset has very few points.\n",
    "\n",
    "![](images/10_d.PNG)\n",
    "\n",
    "\n",
    "The sum of the squared residuals for just the __Two Red Points__, the __Training Data__ is small(in this case it is 0) but the sum of the squared residuals for the __Green Points__, the Testing Data is large and this means that the fitted line has high variance.\n",
    "\n",
    "> In ML lingo, we can say that the fitted line is overfitted to the training data.\n",
    "\n",
    "![](images/10_e.PNG)\n",
    "\n",
    "![](images/10_f.PNG)\n",
    "\n",
    "![](images/10_g.PNG)\n",
    "\n",
    "In other words, by starting with a slightly wrong fit, __Ridge Regression__ can provide better long term predictions."
   ]
  },
  {
   "cell_type": "markdown",
   "metadata": {},
   "source": [
    "***\n",
    "## Ridge regression in detail\n",
    "\n",
    "![](images/10_h.PNG)\n",
    "\n",
    "\n",
    "![](images/10_i.PNG)\n",
    "\n"
   ]
  },
  {
   "cell_type": "code",
   "execution_count": 1,
   "metadata": {
    "ExecuteTime": {
     "end_time": "2020-04-14T10:20:07.523364Z",
     "start_time": "2020-04-14T10:20:07.507370Z"
    }
   },
   "outputs": [],
   "source": [
    "# 5:03"
   ]
  },
  {
   "cell_type": "code",
   "execution_count": null,
   "metadata": {},
   "outputs": [],
   "source": []
  },
  {
   "cell_type": "code",
   "execution_count": null,
   "metadata": {},
   "outputs": [],
   "source": []
  },
  {
   "cell_type": "code",
   "execution_count": null,
   "metadata": {},
   "outputs": [],
   "source": []
  },
  {
   "cell_type": "code",
   "execution_count": null,
   "metadata": {},
   "outputs": [],
   "source": []
  }
 ],
 "metadata": {
  "kernelspec": {
   "display_name": "Python 3",
   "language": "python",
   "name": "python3"
  },
  "language_info": {
   "codemirror_mode": {
    "name": "ipython",
    "version": 3
   },
   "file_extension": ".py",
   "mimetype": "text/x-python",
   "name": "python",
   "nbconvert_exporter": "python",
   "pygments_lexer": "ipython3",
   "version": "3.7.6"
  }
 },
 "nbformat": 4,
 "nbformat_minor": 4
}
