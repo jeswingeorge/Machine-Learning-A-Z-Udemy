{
 "cells": [
  {
   "cell_type": "markdown",
   "metadata": {},
   "source": [
    "# [Comprehensive guide to linear algebra](https://www.analyticsvidhya.com/blog/2017/05/comprehensive-guide-to-linear-algebra/)\n",
    "\n"
   ]
  },
  {
   "cell_type": "markdown",
   "metadata": {},
   "source": [
    "## 1. Motivation – Why learn Linear Algebra?\n",
    "\n",
    " 4 scenarios to showcase why learning Linear Algebra is important\n",
    " \n",
    "#### Scenario 1\n",
    "![](flw.PNG)\n",
    "\n",
    "What do you see when you look at the image above? You most likely said flower, leaves -not too difficult. But, if I ask you to write that logic so that a computer can do the same for you – it will be a very difficult task.\n",
    "\n",
    "You probably know that computers of today are designed to process only 0 and 1. So how can an image such as above with multiple attributes like colour be stored in a computer? This is achieved by storing the pixel intensities in a construct called Matrix. Then, this matrix can be processed to identify colours etc.\n",
    "\n",
    "So any operation which you want to perform on this image would likely use Linear Algebra and matrices at the back end.\n",
    "\n",
    "#### Scenario 2\n",
    "If you are somewhat familiar with the Data Science domain, you might have heard about the world “XGBOOST” – an algorithm employed most frequently by winners of Data Science Competitions. It stores the numeric data in the form of Matrix to give predictions. It enables XGBOOST to process data faster and provide more accurate results. Moreover, not just XGBOOST but various other algorithms use Matrices to store and process data.\n",
    "\n",
    "#### Scenario 3:\n",
    "Deep Learning- the new buzz word in town employs Matrices to store inputs such as image or speech or text to give a state-of-the-art solution to these problems. Weights learned by a Neural Network are also stored in Matrices. Below is a graphical representation of weights stored in a Matrix.\n",
    "\n",
    "![](wts.PNG)\n",
    "\n",
    "#### Scenario 4:\n",
    "Another active area of research in Machine Learning is dealing with text and the most common techniques employed are Bag of Words, Term Document Matrix etc. All these techniques in a very similar manner store counts(or something similar) of words in documents and store this frequency count in a Matrix form to perform tasks like Semantic analysis, Language translation, Language generation etc.\n",
    "\n",
    "***\n",
    "\n",
    "![](2.PNG)\n",
    "\n",
    "\n",
    "if we add an extra variable z then our efforts will be increased tremendously for finding the solution of the problem. Now imagine having 10 variables and 10 equations. Solving 10 equations simultaneously can prove to be tedious and time consuming. Now dive into data science. We have millions of data points. \n",
    "\n",
    "Matrix is used to solve a large set of linear equations. \n",
    "\n",
    "Basically, a linear equation in three variables represents a plane. More technically, a plane is a flat geometric object which extends up to infinity.\n",
    "\n",
    "As in the case of a line, finding solutions to 3 variables linear equation means we want to find the intersection of those planes. Now can you imagine, in how many ways a set of three planes can intersect? Let me help you out. There are 4 possible cases –\n",
    "\n",
    "1. No intersection at all.\n",
    "2. Planes intersect in a line.\n",
    "3. They can intersect in a plane.\n",
    "4. All the three planes intersect at a point.\n",
    "\n",
    "![](mat1.PNG)\n",
    "\n",
    "### Terms related to matrix\n",
    "\n",
    "![](terms.PNG)\n",
    "\n"
   ]
  },
  {
   "cell_type": "code",
   "execution_count": 1,
   "metadata": {},
   "outputs": [
    {
     "name": "stdout",
     "output_type": "stream",
     "text": [
      "\n",
      "\n",
      "Matrix\n",
      "\n",
      "\n",
      "[[21 22 23]\n",
      " [24 25 26]\n",
      " [27 28 29]]\n",
      "\n",
      "\n",
      "Transpose of Matrix\n",
      "\n",
      "\n",
      "[[21 24 27]\n",
      " [22 25 28]\n",
      " [23 26 29]]\n"
     ]
    }
   ],
   "source": [
    "\n",
    "'''\n",
    "Find Transpose of Matrix in Python\n",
    "'''\n",
    " \n",
    "import numpy as np\n",
    "#create a 3*3 matrix\n",
    "A= np.arange(21,30).reshape(3,3)\n",
    "\n",
    "#print the matrix\n",
    "print('\\n\\nMatrix\\n\\n')\n",
    "print(A)\n",
    "\n",
    "print('\\n\\nTranspose of Matrix\\n\\n')\n",
    "print(A.transpose())"
   ]
  },
  {
   "cell_type": "code",
   "execution_count": 2,
   "metadata": {},
   "outputs": [
    {
     "data": {
      "text/plain": [
       "array([[21, 24, 27],\n",
       "       [22, 25, 28],\n",
       "       [23, 26, 29]])"
      ]
     },
     "execution_count": 2,
     "metadata": {},
     "output_type": "execute_result"
    }
   ],
   "source": [
    "# Alternate way to calculate transpose\n",
    "A.T"
   ]
  },
  {
   "cell_type": "markdown",
   "metadata": {},
   "source": [
    "## 3. Matrix multiplication"
   ]
  },
  {
   "cell_type": "code",
   "execution_count": 3,
   "metadata": {},
   "outputs": [
    {
     "data": {
      "text/plain": [
       "array([[21, 22, 23],\n",
       "       [24, 25, 26],\n",
       "       [27, 28, 29]])"
      ]
     },
     "execution_count": 3,
     "metadata": {},
     "output_type": "execute_result"
    }
   ],
   "source": [
    "A=np.arange(21,30).reshape(3,3)\n",
    "A"
   ]
  },
  {
   "cell_type": "code",
   "execution_count": 4,
   "metadata": {},
   "outputs": [
    {
     "data": {
      "text/plain": [
       "array([[31, 32, 33],\n",
       "       [34, 35, 36],\n",
       "       [37, 38, 39]])"
      ]
     },
     "execution_count": 4,
     "metadata": {},
     "output_type": "execute_result"
    }
   ],
   "source": [
    "B=np.arange(31,40).reshape(3,3)\n",
    "B"
   ]
  },
  {
   "cell_type": "code",
   "execution_count": 5,
   "metadata": {},
   "outputs": [
    {
     "data": {
      "text/plain": [
       "array([[2250, 2316, 2382],\n",
       "       [2556, 2631, 2706],\n",
       "       [2862, 2946, 3030]])"
      ]
     },
     "execution_count": 5,
     "metadata": {},
     "output_type": "execute_result"
    }
   ],
   "source": [
    "A.dot(B)   # matrix multiplication AxB"
   ]
  },
  {
   "cell_type": "code",
   "execution_count": 6,
   "metadata": {},
   "outputs": [
    {
     "data": {
      "text/plain": [
       "array([[2310, 2406, 2502],\n",
       "       [2526, 2631, 2736],\n",
       "       [2742, 2856, 2970]])"
      ]
     },
     "execution_count": 6,
     "metadata": {},
     "output_type": "execute_result"
    }
   ],
   "source": [
    "B.dot(A)   # matrix multiplication BxA"
   ]
  },
  {
   "cell_type": "markdown",
   "metadata": {},
   "source": [
    "#### Properties of matrix multiplication\n",
    "1. Matrix multiplication is associative provided the given matrices are compatible for multiplication i.e.\n",
    "    `ABC =  (AB)C = A(BC)`\n",
    "    \n",
    "2. Matrix multiplication is not commutative i.e. AB and  BA are not equal.\n",
    "\n",
    "\n",
    "Matrix multiplication is used in linear and logistic regression when we calculate the value of output variable by parameterized vector method.\n",
    "\n",
    "\n",
    "## 4 Representing equations in matrix form\n",
    "\n",
    "![](rep.PNG)"
   ]
  },
  {
   "cell_type": "markdown",
   "metadata": {},
   "source": [
    "## 5. Solving the Problem\n",
    "\n",
    "two methods to solve matrix equations:\n",
    "1. Row Echelon Form\n",
    "2. Inverse of a Matrix\n",
    "\n",
    "### 5.1 Row Echelon form\n",
    "\n",
    "- solving the equations by substitution method can prove to be tedious and time taking. \n",
    "-  Our first method introduces you with a neater and more systematic method to accomplish the job in which, we manipulate our original equations systematically to find the solution. \n",
    "\n",
    "\n",
    "There are two conditions which have to be fulfilled by any manipulation to be valid.\n",
    "1. Manipulation should preserve the solution i.e. solution should not be altered on imposing the manipulation.\n",
    "2. Manipulation should be reversible.\n",
    "\n",
    "So, what are those manipulations?\n",
    "1. We can swap the order of equations.\n",
    "2. We can multiply both sides of equations by any non-zero constant ‘c’.\n",
    "3. We can multiply an equation by any non-zero constant and then add to other equation.\n",
    "\n",
    "These points will become more clear once you go through the algorithm and practice it. The basic idea is to clear variables in successive equations and form an upper triangular matrix.\n",
    "\n",
    "[Udacity Linear algebra: Rules for manipulating matrix equations](https://www.youtube.com/watch?v=0-GaihnICmo&index=17&list=PLAwxTw4SYaPlH16rY8KgDwciMZPxCnCX_)\n",
    "\n",
    "\n",
    "\n",
    "![](eqn1.PNG)\n",
    "\n",
    "![](eqn2.PNG)\n",
    "\n",
    "![](eqn3.PNG)"
   ]
  },
  {
   "cell_type": "markdown",
   "metadata": {},
   "source": [
    "### 5.2 Inverse of a Matrix\n",
    "\n",
    "For solving a large number of equations in one go, the inverse is used. Don’t panic if you are not familiar with the inverse. We will do a good amount of work on all the required concepts. Let’s start with a few terms and operations.\n",
    "\n",
    "__Determinant of a Matrix__ – The concept of determinant is applicable to square matrices only. I will lead you to the generalised expression of determinant in steps. To start with, let’s take a 2*2 matrix  A.\n",
    "\n",
    "$$ A = \\begin{bmatrix}a & b \\\\c & d \\end{bmatrix} $$\n",
    "\n",
    "For now, just focus on 2*2 matrix. The expression of determinant of the matrix A will be:\n",
    "\n",
    "`det(A) = ad - bc`\n",
    "\n",
    "Now take a 3*3 matrix ‘B’ and find its determinant.\n",
    "\n",
    "$$ B = \\begin{bmatrix}a & b & c\\\\ d & f & g \\\\ h & i & j \\end{bmatrix} $$\n",
    "\n",
    "![](det.PNG)\n",
    "\n"
   ]
  },
  {
   "cell_type": "code",
   "execution_count": 7,
   "metadata": {},
   "outputs": [
    {
     "data": {
      "text/plain": [
       "array([[100, 101, 102, 103],\n",
       "       [104, 105, 106, 107],\n",
       "       [108, 109, 110, 111],\n",
       "       [112, 113, 114, 115]])"
      ]
     },
     "execution_count": 7,
     "metadata": {},
     "output_type": "execute_result"
    }
   ],
   "source": [
    "arr = np.arange(100,116).reshape(4,4)\n",
    "arr"
   ]
  },
  {
   "cell_type": "code",
   "execution_count": 8,
   "metadata": {},
   "outputs": [
    {
     "data": {
      "text/plain": [
       "-2.958228394578808e-31"
      ]
     },
     "execution_count": 8,
     "metadata": {},
     "output_type": "execute_result"
    }
   ],
   "source": [
    "np.linalg.det(arr)"
   ]
  },
  {
   "cell_type": "markdown",
   "metadata": {},
   "source": [
    "![](minor.PNG)\n",
    "\n",
    "![](cofactor.PNG)\n",
    "\n",
    "![](adj.PNG)\n",
    "\n",
    "![](inverse.PNG)"
   ]
  },
  {
   "cell_type": "markdown",
   "metadata": {},
   "source": [
    "### 5.3 Power of matrices\n",
    "\n",
    "![](power.PNG)"
   ]
  },
  {
   "cell_type": "code",
   "execution_count": 9,
   "metadata": {},
   "outputs": [
    {
     "data": {
      "text/plain": [
       "array([[ 5,  6,  7,  8],\n",
       "       [ 9, 10, 11, 12],\n",
       "       [13, 14, 15, 16],\n",
       "       [17, 18, 19, 20]])"
      ]
     },
     "execution_count": 9,
     "metadata": {},
     "output_type": "execute_result"
    }
   ],
   "source": [
    "#create an array arr1\n",
    "arr1 = np.arange(5,21).reshape(4,4)\n",
    "arr1"
   ]
  },
  {
   "cell_type": "code",
   "execution_count": 10,
   "metadata": {},
   "outputs": [
    {
     "data": {
      "text/plain": [
       "array([[-6.77233027e+13,  6.09509724e+14, -1.01584954e+15,\n",
       "         4.74063119e+14],\n",
       "       [-3.26200575e+15,  3.83765382e+15,  2.11070960e+15,\n",
       "        -2.68635767e+15],\n",
       "       [ 6.72718140e+15, -9.50383681e+15, -1.17387058e+15,\n",
       "         3.95052599e+15],\n",
       "       [-3.39745235e+15,  5.05667327e+15,  7.90105198e+13,\n",
       "        -1.73823144e+15]])"
      ]
     },
     "execution_count": 10,
     "metadata": {},
     "output_type": "execute_result"
    }
   ],
   "source": [
    "# Finding inverse of a matrix\n",
    "np.linalg.inv(arr1)"
   ]
  },
  {
   "cell_type": "markdown",
   "metadata": {},
   "source": [
    "## 6.Application of inverse in Data Science\n",
    "\n",
    "Inverse is used to calculate parameter vector by normal equation in linear equation.\n",
    "\n",
    "It describes the different variables of different baseball teams to predict whether it makes to playoffs or not. But for right now to make it a regression problem, suppose we are interested in predicting OOBP from the rest of the variables. So, ‘OOBP’ is our target variable. To solve this problem using linear regression, we have to find parameter vector. If you are familiar with Normal equation method, you should have the idea that to do it, we need to make use of Matrices. Lets proceed further and denote our Independent variables below as matrix ‘X’.\n",
    "\n",
    "To find the final parameter vector(θ) assuming our initial function is parameterised by θ and X , all you have to do is to find the inverse of \n",
    "$(X^T X)$ which can be accomplished very easily by using code as shown below.\n",
    "\n",
    "First of all, let me make the Linear Regression formulation easier for you to comprehend.\n",
    "\n",
    "$f_θ(X)= θ^TX$, where θ is the parameter we wish to calculate and X is the column vector of features or independent variables."
   ]
  },
  {
   "cell_type": "code",
   "execution_count": 11,
   "metadata": {},
   "outputs": [],
   "source": [
    "import pandas as pd\n",
    "import numpy as np"
   ]
  },
  {
   "cell_type": "code",
   "execution_count": 15,
   "metadata": {},
   "outputs": [
    {
     "data": {
      "text/html": [
       "<div>\n",
       "<style scoped>\n",
       "    .dataframe tbody tr th:only-of-type {\n",
       "        vertical-align: middle;\n",
       "    }\n",
       "\n",
       "    .dataframe tbody tr th {\n",
       "        vertical-align: top;\n",
       "    }\n",
       "\n",
       "    .dataframe thead th {\n",
       "        text-align: right;\n",
       "    }\n",
       "</style>\n",
       "<table border=\"1\" class=\"dataframe\">\n",
       "  <thead>\n",
       "    <tr style=\"text-align: right;\">\n",
       "      <th></th>\n",
       "      <th>Team</th>\n",
       "      <th>League</th>\n",
       "      <th>Year</th>\n",
       "      <th>RS</th>\n",
       "      <th>RA</th>\n",
       "      <th>W</th>\n",
       "      <th>OBP</th>\n",
       "      <th>SLG</th>\n",
       "      <th>BA</th>\n",
       "      <th>Playoffs</th>\n",
       "      <th>RankSeason</th>\n",
       "      <th>RankPlayoffs</th>\n",
       "      <th>G</th>\n",
       "      <th>OOBP</th>\n",
       "      <th>OSLG</th>\n",
       "    </tr>\n",
       "  </thead>\n",
       "  <tbody>\n",
       "    <tr>\n",
       "      <th>0</th>\n",
       "      <td>ARI</td>\n",
       "      <td>NL</td>\n",
       "      <td>2012</td>\n",
       "      <td>734</td>\n",
       "      <td>688</td>\n",
       "      <td>81</td>\n",
       "      <td>0.328</td>\n",
       "      <td>0.418</td>\n",
       "      <td>0.259</td>\n",
       "      <td>0</td>\n",
       "      <td>NaN</td>\n",
       "      <td>NaN</td>\n",
       "      <td>162</td>\n",
       "      <td>0.317</td>\n",
       "      <td>0.415</td>\n",
       "    </tr>\n",
       "    <tr>\n",
       "      <th>1</th>\n",
       "      <td>ATL</td>\n",
       "      <td>NL</td>\n",
       "      <td>2012</td>\n",
       "      <td>700</td>\n",
       "      <td>600</td>\n",
       "      <td>94</td>\n",
       "      <td>0.320</td>\n",
       "      <td>0.389</td>\n",
       "      <td>0.247</td>\n",
       "      <td>1</td>\n",
       "      <td>4.0</td>\n",
       "      <td>5.0</td>\n",
       "      <td>162</td>\n",
       "      <td>0.306</td>\n",
       "      <td>0.378</td>\n",
       "    </tr>\n",
       "    <tr>\n",
       "      <th>2</th>\n",
       "      <td>BAL</td>\n",
       "      <td>AL</td>\n",
       "      <td>2012</td>\n",
       "      <td>712</td>\n",
       "      <td>705</td>\n",
       "      <td>93</td>\n",
       "      <td>0.311</td>\n",
       "      <td>0.417</td>\n",
       "      <td>0.247</td>\n",
       "      <td>1</td>\n",
       "      <td>5.0</td>\n",
       "      <td>4.0</td>\n",
       "      <td>162</td>\n",
       "      <td>0.315</td>\n",
       "      <td>0.403</td>\n",
       "    </tr>\n",
       "    <tr>\n",
       "      <th>3</th>\n",
       "      <td>BOS</td>\n",
       "      <td>AL</td>\n",
       "      <td>2012</td>\n",
       "      <td>734</td>\n",
       "      <td>806</td>\n",
       "      <td>69</td>\n",
       "      <td>0.315</td>\n",
       "      <td>0.415</td>\n",
       "      <td>0.260</td>\n",
       "      <td>0</td>\n",
       "      <td>NaN</td>\n",
       "      <td>NaN</td>\n",
       "      <td>162</td>\n",
       "      <td>0.331</td>\n",
       "      <td>0.428</td>\n",
       "    </tr>\n",
       "    <tr>\n",
       "      <th>4</th>\n",
       "      <td>CHC</td>\n",
       "      <td>NL</td>\n",
       "      <td>2012</td>\n",
       "      <td>613</td>\n",
       "      <td>759</td>\n",
       "      <td>61</td>\n",
       "      <td>0.302</td>\n",
       "      <td>0.378</td>\n",
       "      <td>0.240</td>\n",
       "      <td>0</td>\n",
       "      <td>NaN</td>\n",
       "      <td>NaN</td>\n",
       "      <td>162</td>\n",
       "      <td>0.335</td>\n",
       "      <td>0.424</td>\n",
       "    </tr>\n",
       "    <tr>\n",
       "      <th>5</th>\n",
       "      <td>CHW</td>\n",
       "      <td>AL</td>\n",
       "      <td>2012</td>\n",
       "      <td>748</td>\n",
       "      <td>676</td>\n",
       "      <td>85</td>\n",
       "      <td>0.318</td>\n",
       "      <td>0.422</td>\n",
       "      <td>0.255</td>\n",
       "      <td>0</td>\n",
       "      <td>NaN</td>\n",
       "      <td>NaN</td>\n",
       "      <td>162</td>\n",
       "      <td>0.319</td>\n",
       "      <td>0.405</td>\n",
       "    </tr>\n",
       "    <tr>\n",
       "      <th>6</th>\n",
       "      <td>CIN</td>\n",
       "      <td>NL</td>\n",
       "      <td>2012</td>\n",
       "      <td>669</td>\n",
       "      <td>588</td>\n",
       "      <td>97</td>\n",
       "      <td>0.315</td>\n",
       "      <td>0.411</td>\n",
       "      <td>0.251</td>\n",
       "      <td>1</td>\n",
       "      <td>2.0</td>\n",
       "      <td>4.0</td>\n",
       "      <td>162</td>\n",
       "      <td>0.305</td>\n",
       "      <td>0.390</td>\n",
       "    </tr>\n",
       "    <tr>\n",
       "      <th>7</th>\n",
       "      <td>CLE</td>\n",
       "      <td>AL</td>\n",
       "      <td>2012</td>\n",
       "      <td>667</td>\n",
       "      <td>845</td>\n",
       "      <td>68</td>\n",
       "      <td>0.324</td>\n",
       "      <td>0.381</td>\n",
       "      <td>0.251</td>\n",
       "      <td>0</td>\n",
       "      <td>NaN</td>\n",
       "      <td>NaN</td>\n",
       "      <td>162</td>\n",
       "      <td>0.336</td>\n",
       "      <td>0.430</td>\n",
       "    </tr>\n",
       "    <tr>\n",
       "      <th>8</th>\n",
       "      <td>COL</td>\n",
       "      <td>NL</td>\n",
       "      <td>2012</td>\n",
       "      <td>758</td>\n",
       "      <td>890</td>\n",
       "      <td>64</td>\n",
       "      <td>0.330</td>\n",
       "      <td>0.436</td>\n",
       "      <td>0.274</td>\n",
       "      <td>0</td>\n",
       "      <td>NaN</td>\n",
       "      <td>NaN</td>\n",
       "      <td>162</td>\n",
       "      <td>0.357</td>\n",
       "      <td>0.470</td>\n",
       "    </tr>\n",
       "    <tr>\n",
       "      <th>9</th>\n",
       "      <td>DET</td>\n",
       "      <td>AL</td>\n",
       "      <td>2012</td>\n",
       "      <td>726</td>\n",
       "      <td>670</td>\n",
       "      <td>88</td>\n",
       "      <td>0.335</td>\n",
       "      <td>0.422</td>\n",
       "      <td>0.268</td>\n",
       "      <td>1</td>\n",
       "      <td>6.0</td>\n",
       "      <td>2.0</td>\n",
       "      <td>162</td>\n",
       "      <td>0.314</td>\n",
       "      <td>0.402</td>\n",
       "    </tr>\n",
       "    <tr>\n",
       "      <th>10</th>\n",
       "      <td>HOU</td>\n",
       "      <td>NL</td>\n",
       "      <td>2012</td>\n",
       "      <td>583</td>\n",
       "      <td>794</td>\n",
       "      <td>55</td>\n",
       "      <td>0.302</td>\n",
       "      <td>0.371</td>\n",
       "      <td>0.236</td>\n",
       "      <td>0</td>\n",
       "      <td>NaN</td>\n",
       "      <td>NaN</td>\n",
       "      <td>162</td>\n",
       "      <td>0.337</td>\n",
       "      <td>0.427</td>\n",
       "    </tr>\n",
       "    <tr>\n",
       "      <th>11</th>\n",
       "      <td>KCR</td>\n",
       "      <td>AL</td>\n",
       "      <td>2012</td>\n",
       "      <td>676</td>\n",
       "      <td>746</td>\n",
       "      <td>72</td>\n",
       "      <td>0.317</td>\n",
       "      <td>0.400</td>\n",
       "      <td>0.265</td>\n",
       "      <td>0</td>\n",
       "      <td>NaN</td>\n",
       "      <td>NaN</td>\n",
       "      <td>162</td>\n",
       "      <td>0.339</td>\n",
       "      <td>0.423</td>\n",
       "    </tr>\n",
       "    <tr>\n",
       "      <th>12</th>\n",
       "      <td>LAA</td>\n",
       "      <td>AL</td>\n",
       "      <td>2012</td>\n",
       "      <td>767</td>\n",
       "      <td>699</td>\n",
       "      <td>89</td>\n",
       "      <td>0.332</td>\n",
       "      <td>0.433</td>\n",
       "      <td>0.274</td>\n",
       "      <td>0</td>\n",
       "      <td>NaN</td>\n",
       "      <td>NaN</td>\n",
       "      <td>162</td>\n",
       "      <td>0.310</td>\n",
       "      <td>0.403</td>\n",
       "    </tr>\n",
       "    <tr>\n",
       "      <th>13</th>\n",
       "      <td>LAD</td>\n",
       "      <td>NL</td>\n",
       "      <td>2012</td>\n",
       "      <td>637</td>\n",
       "      <td>597</td>\n",
       "      <td>86</td>\n",
       "      <td>0.317</td>\n",
       "      <td>0.374</td>\n",
       "      <td>0.252</td>\n",
       "      <td>0</td>\n",
       "      <td>NaN</td>\n",
       "      <td>NaN</td>\n",
       "      <td>162</td>\n",
       "      <td>0.310</td>\n",
       "      <td>0.364</td>\n",
       "    </tr>\n",
       "  </tbody>\n",
       "</table>\n",
       "</div>"
      ],
      "text/plain": [
       "   Team League  Year   RS   RA   W    OBP    SLG     BA  Playoffs  RankSeason  \\\n",
       "0   ARI     NL  2012  734  688  81  0.328  0.418  0.259         0         NaN   \n",
       "1   ATL     NL  2012  700  600  94  0.320  0.389  0.247         1         4.0   \n",
       "2   BAL     AL  2012  712  705  93  0.311  0.417  0.247         1         5.0   \n",
       "3   BOS     AL  2012  734  806  69  0.315  0.415  0.260         0         NaN   \n",
       "4   CHC     NL  2012  613  759  61  0.302  0.378  0.240         0         NaN   \n",
       "5   CHW     AL  2012  748  676  85  0.318  0.422  0.255         0         NaN   \n",
       "6   CIN     NL  2012  669  588  97  0.315  0.411  0.251         1         2.0   \n",
       "7   CLE     AL  2012  667  845  68  0.324  0.381  0.251         0         NaN   \n",
       "8   COL     NL  2012  758  890  64  0.330  0.436  0.274         0         NaN   \n",
       "9   DET     AL  2012  726  670  88  0.335  0.422  0.268         1         6.0   \n",
       "10  HOU     NL  2012  583  794  55  0.302  0.371  0.236         0         NaN   \n",
       "11  KCR     AL  2012  676  746  72  0.317  0.400  0.265         0         NaN   \n",
       "12  LAA     AL  2012  767  699  89  0.332  0.433  0.274         0         NaN   \n",
       "13  LAD     NL  2012  637  597  86  0.317  0.374  0.252         0         NaN   \n",
       "\n",
       "    RankPlayoffs    G   OOBP   OSLG  \n",
       "0            NaN  162  0.317  0.415  \n",
       "1            5.0  162  0.306  0.378  \n",
       "2            4.0  162  0.315  0.403  \n",
       "3            NaN  162  0.331  0.428  \n",
       "4            NaN  162  0.335  0.424  \n",
       "5            NaN  162  0.319  0.405  \n",
       "6            4.0  162  0.305  0.390  \n",
       "7            NaN  162  0.336  0.430  \n",
       "8            NaN  162  0.357  0.470  \n",
       "9            2.0  162  0.314  0.402  \n",
       "10           NaN  162  0.337  0.427  \n",
       "11           NaN  162  0.339  0.423  \n",
       "12           NaN  162  0.310  0.403  \n",
       "13           NaN  162  0.310  0.364  "
      ]
     },
     "execution_count": 15,
     "metadata": {},
     "output_type": "execute_result"
    }
   ],
   "source": [
    "df = pd.read_csv(\"baseball.csv\")\n",
    "Df1 = df.head(14)\n",
    "Df1"
   ]
  },
  {
   "cell_type": "code",
   "execution_count": 17,
   "metadata": {},
   "outputs": [
    {
     "data": {
      "text/html": [
       "<div>\n",
       "<style scoped>\n",
       "    .dataframe tbody tr th:only-of-type {\n",
       "        vertical-align: middle;\n",
       "    }\n",
       "\n",
       "    .dataframe tbody tr th {\n",
       "        vertical-align: top;\n",
       "    }\n",
       "\n",
       "    .dataframe thead th {\n",
       "        text-align: right;\n",
       "    }\n",
       "</style>\n",
       "<table border=\"1\" class=\"dataframe\">\n",
       "  <thead>\n",
       "    <tr style=\"text-align: right;\">\n",
       "      <th></th>\n",
       "      <th>RS</th>\n",
       "      <th>RA</th>\n",
       "      <th>W</th>\n",
       "      <th>OBP</th>\n",
       "      <th>SLG</th>\n",
       "      <th>BA</th>\n",
       "    </tr>\n",
       "  </thead>\n",
       "  <tbody>\n",
       "    <tr>\n",
       "      <th>0</th>\n",
       "      <td>734</td>\n",
       "      <td>688</td>\n",
       "      <td>81</td>\n",
       "      <td>0.328</td>\n",
       "      <td>0.418</td>\n",
       "      <td>0.259</td>\n",
       "    </tr>\n",
       "    <tr>\n",
       "      <th>1</th>\n",
       "      <td>700</td>\n",
       "      <td>600</td>\n",
       "      <td>94</td>\n",
       "      <td>0.320</td>\n",
       "      <td>0.389</td>\n",
       "      <td>0.247</td>\n",
       "    </tr>\n",
       "    <tr>\n",
       "      <th>2</th>\n",
       "      <td>712</td>\n",
       "      <td>705</td>\n",
       "      <td>93</td>\n",
       "      <td>0.311</td>\n",
       "      <td>0.417</td>\n",
       "      <td>0.247</td>\n",
       "    </tr>\n",
       "    <tr>\n",
       "      <th>3</th>\n",
       "      <td>734</td>\n",
       "      <td>806</td>\n",
       "      <td>69</td>\n",
       "      <td>0.315</td>\n",
       "      <td>0.415</td>\n",
       "      <td>0.260</td>\n",
       "    </tr>\n",
       "    <tr>\n",
       "      <th>4</th>\n",
       "      <td>613</td>\n",
       "      <td>759</td>\n",
       "      <td>61</td>\n",
       "      <td>0.302</td>\n",
       "      <td>0.378</td>\n",
       "      <td>0.240</td>\n",
       "    </tr>\n",
       "    <tr>\n",
       "      <th>5</th>\n",
       "      <td>748</td>\n",
       "      <td>676</td>\n",
       "      <td>85</td>\n",
       "      <td>0.318</td>\n",
       "      <td>0.422</td>\n",
       "      <td>0.255</td>\n",
       "    </tr>\n",
       "    <tr>\n",
       "      <th>6</th>\n",
       "      <td>669</td>\n",
       "      <td>588</td>\n",
       "      <td>97</td>\n",
       "      <td>0.315</td>\n",
       "      <td>0.411</td>\n",
       "      <td>0.251</td>\n",
       "    </tr>\n",
       "    <tr>\n",
       "      <th>7</th>\n",
       "      <td>667</td>\n",
       "      <td>845</td>\n",
       "      <td>68</td>\n",
       "      <td>0.324</td>\n",
       "      <td>0.381</td>\n",
       "      <td>0.251</td>\n",
       "    </tr>\n",
       "    <tr>\n",
       "      <th>8</th>\n",
       "      <td>758</td>\n",
       "      <td>890</td>\n",
       "      <td>64</td>\n",
       "      <td>0.330</td>\n",
       "      <td>0.436</td>\n",
       "      <td>0.274</td>\n",
       "    </tr>\n",
       "    <tr>\n",
       "      <th>9</th>\n",
       "      <td>726</td>\n",
       "      <td>670</td>\n",
       "      <td>88</td>\n",
       "      <td>0.335</td>\n",
       "      <td>0.422</td>\n",
       "      <td>0.268</td>\n",
       "    </tr>\n",
       "    <tr>\n",
       "      <th>10</th>\n",
       "      <td>583</td>\n",
       "      <td>794</td>\n",
       "      <td>55</td>\n",
       "      <td>0.302</td>\n",
       "      <td>0.371</td>\n",
       "      <td>0.236</td>\n",
       "    </tr>\n",
       "    <tr>\n",
       "      <th>11</th>\n",
       "      <td>676</td>\n",
       "      <td>746</td>\n",
       "      <td>72</td>\n",
       "      <td>0.317</td>\n",
       "      <td>0.400</td>\n",
       "      <td>0.265</td>\n",
       "    </tr>\n",
       "    <tr>\n",
       "      <th>12</th>\n",
       "      <td>767</td>\n",
       "      <td>699</td>\n",
       "      <td>89</td>\n",
       "      <td>0.332</td>\n",
       "      <td>0.433</td>\n",
       "      <td>0.274</td>\n",
       "    </tr>\n",
       "    <tr>\n",
       "      <th>13</th>\n",
       "      <td>637</td>\n",
       "      <td>597</td>\n",
       "      <td>86</td>\n",
       "      <td>0.317</td>\n",
       "      <td>0.374</td>\n",
       "      <td>0.252</td>\n",
       "    </tr>\n",
       "  </tbody>\n",
       "</table>\n",
       "</div>"
      ],
      "text/plain": [
       "     RS   RA   W    OBP    SLG     BA\n",
       "0   734  688  81  0.328  0.418  0.259\n",
       "1   700  600  94  0.320  0.389  0.247\n",
       "2   712  705  93  0.311  0.417  0.247\n",
       "3   734  806  69  0.315  0.415  0.260\n",
       "4   613  759  61  0.302  0.378  0.240\n",
       "5   748  676  85  0.318  0.422  0.255\n",
       "6   669  588  97  0.315  0.411  0.251\n",
       "7   667  845  68  0.324  0.381  0.251\n",
       "8   758  890  64  0.330  0.436  0.274\n",
       "9   726  670  88  0.335  0.422  0.268\n",
       "10  583  794  55  0.302  0.371  0.236\n",
       "11  676  746  72  0.317  0.400  0.265\n",
       "12  767  699  89  0.332  0.433  0.274\n",
       "13  637  597  86  0.317  0.374  0.252"
      ]
     },
     "execution_count": 17,
     "metadata": {},
     "output_type": "execute_result"
    }
   ],
   "source": [
    "# We are just taking 6 features to calculate θ.\n",
    "X = Df1[['RS', 'RA', 'W', 'OBP','SLG','BA']]\n",
    "X"
   ]
  },
  {
   "cell_type": "code",
   "execution_count": 18,
   "metadata": {},
   "outputs": [
    {
     "data": {
      "text/plain": [
       "0     0.317\n",
       "1     0.306\n",
       "2     0.315\n",
       "3     0.331\n",
       "4     0.335\n",
       "5     0.319\n",
       "6     0.305\n",
       "7     0.336\n",
       "8     0.357\n",
       "9     0.314\n",
       "10    0.337\n",
       "11    0.339\n",
       "12    0.310\n",
       "13    0.310\n",
       "Name: OOBP, dtype: float64"
      ]
     },
     "execution_count": 18,
     "metadata": {},
     "output_type": "execute_result"
    }
   ],
   "source": [
    "Y=Df1['OOBP']\n",
    "Y"
   ]
  },
  {
   "cell_type": "code",
   "execution_count": 19,
   "metadata": {},
   "outputs": [],
   "source": [
    "#Converting X to matrix\n",
    "X = np.asmatrix(X)"
   ]
  },
  {
   "cell_type": "code",
   "execution_count": 20,
   "metadata": {},
   "outputs": [
    {
     "data": {
      "text/plain": [
       "matrix([[7.34e+02, 6.88e+02, 8.10e+01, 3.28e-01, 4.18e-01, 2.59e-01],\n",
       "        [7.00e+02, 6.00e+02, 9.40e+01, 3.20e-01, 3.89e-01, 2.47e-01],\n",
       "        [7.12e+02, 7.05e+02, 9.30e+01, 3.11e-01, 4.17e-01, 2.47e-01],\n",
       "        [7.34e+02, 8.06e+02, 6.90e+01, 3.15e-01, 4.15e-01, 2.60e-01],\n",
       "        [6.13e+02, 7.59e+02, 6.10e+01, 3.02e-01, 3.78e-01, 2.40e-01],\n",
       "        [7.48e+02, 6.76e+02, 8.50e+01, 3.18e-01, 4.22e-01, 2.55e-01],\n",
       "        [6.69e+02, 5.88e+02, 9.70e+01, 3.15e-01, 4.11e-01, 2.51e-01],\n",
       "        [6.67e+02, 8.45e+02, 6.80e+01, 3.24e-01, 3.81e-01, 2.51e-01],\n",
       "        [7.58e+02, 8.90e+02, 6.40e+01, 3.30e-01, 4.36e-01, 2.74e-01],\n",
       "        [7.26e+02, 6.70e+02, 8.80e+01, 3.35e-01, 4.22e-01, 2.68e-01],\n",
       "        [5.83e+02, 7.94e+02, 5.50e+01, 3.02e-01, 3.71e-01, 2.36e-01],\n",
       "        [6.76e+02, 7.46e+02, 7.20e+01, 3.17e-01, 4.00e-01, 2.65e-01],\n",
       "        [7.67e+02, 6.99e+02, 8.90e+01, 3.32e-01, 4.33e-01, 2.74e-01],\n",
       "        [6.37e+02, 5.97e+02, 8.60e+01, 3.17e-01, 3.74e-01, 2.52e-01]])"
      ]
     },
     "execution_count": 20,
     "metadata": {},
     "output_type": "execute_result"
    }
   ],
   "source": [
    "X"
   ]
  },
  {
   "cell_type": "code",
   "execution_count": 21,
   "metadata": {},
   "outputs": [],
   "source": [
    "#taking transpose of X and assigning it to x\n",
    "x= np.transpose(X)"
   ]
  },
  {
   "cell_type": "code",
   "execution_count": 22,
   "metadata": {},
   "outputs": [
    {
     "data": {
      "text/plain": [
       "matrix([[-2.59951184e-04,  1.53102522e-04, -6.98603725e-05,\n",
       "          6.57605847e-01,  4.00767706e-01,  1.07696279e-01]])"
      ]
     },
     "execution_count": 22,
     "metadata": {},
     "output_type": "execute_result"
    }
   ],
   "source": [
    "#finding multiplication\n",
    "T= x.dot(X)\n",
    "\n",
    "#inverse of T - provided it is invertible otherwise we use pseudoinverse\n",
    "inv=np.linalg.inv(T)\n",
    "\n",
    "#calculating θ\n",
    "theta=(inv.dot(X.T)).dot(Y)\n",
    "\n",
    "theta"
   ]
  },
  {
   "cell_type": "markdown",
   "metadata": {},
   "source": [
    "Imagine if you had to solve this set of equations without using linear algebra. Let me remind you that this data set is less than even 1% of original date set. Now imagine if you had to find parameter vector without using linear algebra. It would have taken a lots of time and effort and could be even impossible to solve sometimes.\n",
    "\n",
    "One major drawback of normal equation method when the number of features is large is that it is computationally very costly. The reason is that if there are ‘n’ features, the matrix $X^TX$ comes to be the order $n*n$ and its solution costs time of order $O(n*n*n)$. Generally, normal equation method is applied when a number of features is of the order of 1000 or 10,000. Data sets with a larger number of features are handled with the help another method called Gradient Descent."
   ]
  },
  {
   "cell_type": "markdown",
   "metadata": {},
   "source": [
    "## 7.  Eigenvalues and Eigenvectors\n",
    "\n",
    "Eigenvectors find a lot of applications in different domains like computer vision, physics and machine learning. \n",
    "\n",
    "The concept of Eigenvectors is the backbone of Principal component analysis algorithm.\n",
    "\n",
    "![](eigen1.PNG)\n",
    "\n",
    "![](eigen2.PNG)\n",
    "\n",
    "[Calculating eigen values and eigen vectors](https://www.youtube.com/watch?v=BbvCa87U15M)"
   ]
  },
  {
   "cell_type": "markdown",
   "metadata": {},
   "source": [
    "Code for finding EigenVectors in python"
   ]
  },
  {
   "cell_type": "code",
   "execution_count": 23,
   "metadata": {},
   "outputs": [
    {
     "data": {
      "text/plain": [
       "array([[1, 2, 3],\n",
       "       [4, 5, 6],\n",
       "       [7, 8, 9]])"
      ]
     },
     "execution_count": 23,
     "metadata": {},
     "output_type": "execute_result"
    }
   ],
   "source": [
    "#create an array\n",
    "arr = np.arange(1,10).reshape(3,3)\n",
    "arr"
   ]
  },
  {
   "cell_type": "code",
   "execution_count": 24,
   "metadata": {},
   "outputs": [
    {
     "data": {
      "text/plain": [
       "(array([ 1.61168440e+01, -1.11684397e+00, -9.75918483e-16]),\n",
       " array([[-0.23197069, -0.78583024,  0.40824829],\n",
       "        [-0.52532209, -0.08675134, -0.81649658],\n",
       "        [-0.8186735 ,  0.61232756,  0.40824829]]))"
      ]
     },
     "execution_count": 24,
     "metadata": {},
     "output_type": "execute_result"
    }
   ],
   "source": [
    "#finding the Eigenvalue and Eigenvectors of arr\n",
    "np.linalg.eig(arr)"
   ]
  },
  {
   "cell_type": "markdown",
   "metadata": {},
   "source": [
    "##  Eigen values and Eigen vectors\n",
    "\n",
    "\n",
    "\n",
    "#### applications of eigen values and eigen vectors in real life\n",
    "\n",
    "Eigenvalues and eigenvectors prove enormously useful in linear mapping. Let's take an example: suppose you want to change the perspective of a painting. If you scale the x direction to a different value than the y direction (say x -> 3x while y -> 2y), you simulate a change of perspective. This would represent what happens if you look a a scene from close to the ground as opposed to higher in the air. Objects appear distorted and foreshortened. A change in perspective in a painting is really just a vector transformation that performs a linear map. That is, a set of points (the painting) gets transformed by multiplying the x distance by one value and the y value by a different value. You can capture the process of doing this in a matrix, and that matrix represents a vector that's called the eigenvector.   \n",
    "\n",
    "If the mapping isn't linear, we're out of the realm of the eigenvector and into the realm of the tensor. So eigenvectors do well with linear mappings, but not with nonlinear mappings. In the case of nonlinear mappings, the fixed points in the eigenvector matrix would be replaced with functions that can take on many different values.  \n",
    "\n",
    "Eigenvectors pop up in the study of the spread of infectious diseases or vibration studies or heat transfer because these are generally linear functions. Diseases tend to spread slowly, heat spreads gradually, and vibrations propagate gradually. Diseases and vibrations and heat patterns also tend to spread by contact, so you don't get oddball discontinuous patterns of disease spread of vibration propagation or heat transfer (typically). This means that heat patterns and vibration propagation and disease spreading can be simulated reasonably well by linear maps from one set of points to another set of points.\n",
    "\n",
    "\n",
    "Nonlinear discontinuous systems like explosions or the orbits of a 3-body system in a gravitational field or a star undergoing gravitational collapse don't lend themselves to simple linear maps. As a result, eigenvectors do not offer a good way of describing those systems. For those kinds of nonlinear systems, you typically need tensors instead of linear maps."
   ]
  },
  {
   "cell_type": "markdown",
   "metadata": {},
   "source": [
    "Very Imp:\n",
    "\n",
    "- [10 Powerful Applications of Linear Algebra in Data Science (with Multiple Resources)](https://www.analyticsvidhya.com/blog/2019/07/10-applications-linear-algebra-data-science/)"
   ]
  }
 ],
 "metadata": {
  "kernelspec": {
   "display_name": "Python 3",
   "language": "python",
   "name": "python3"
  },
  "language_info": {
   "codemirror_mode": {
    "name": "ipython",
    "version": 3
   },
   "file_extension": ".py",
   "mimetype": "text/x-python",
   "name": "python",
   "nbconvert_exporter": "python",
   "pygments_lexer": "ipython3",
   "version": "3.7.6"
  }
 },
 "nbformat": 4,
 "nbformat_minor": 4
}
