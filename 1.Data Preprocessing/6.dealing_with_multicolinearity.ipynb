{
 "cells": [
  {
   "cell_type": "code",
   "execution_count": 1,
   "metadata": {},
   "outputs": [],
   "source": [
    "import numpy as np \n",
    "import pandas as pd \n",
    "import matplotlib.pyplot as plt\n",
    "import seaborn as sns\n",
    "import statsmodels.api as sm\n",
    "from numpy.linalg import matrix_rank, inv\n",
    "from sklearn.preprocessing import StandardScaler\n",
    "from statsmodels.stats.outliers_influence import variance_inflation_factor\n",
    "from statsmodels.tools.tools import add_constant\n",
    "\n",
    "\n",
    "%matplotlib inline\n",
    "sns.set(style=\"ticks\", rc={'figure.figsize':(8,7)})\n",
    "sns.set_palette('colorblind');\n",
    "\n",
    "np.set_printoptions(precision=4)\n",
    "pd.set_option('display.float_format', lambda x: '%.4f' % x)\n",
    "\n",
    "# Ignore useless warnings\n",
    "import warnings\n",
    "warnings.filterwarnings(action=\"ignore\")"
   ]
  },
  {
   "cell_type": "markdown",
   "metadata": {},
   "source": [
    "Colinearity when 2 features are heavily correlated with each other. Use heatmap to see which 2 features are heavily correlated with each other and keep 1 of them. However multicolinearity is a more difficult problem to solve, wherein multiple features may be correlated to 1 particular feature and thus removing multicolinearity in case of linear regression is a difficult challenge.\n",
    "\n",
    "Multicolinearity on the other hand is more troublesome to detect because it emerges when three or more variables, which are highly correlated, are included within a model. To make matters worst multicolinearity can emerge even when isolated pairs of variables are not colinear.\n",
    "\n",
    "### Variance Inflation factor (VIF) \n",
    "The Variance Inflation Factor (VIF) is a measure of colinearity among predictor variables within a multiple regression. It is calculated by taking the the ratio of the variance of all a given model's betas divide by the variane of a single beta if it were fit alone.\n",
    "\n",
    "The VIF estimates how much the variance of a regression coefficient is inflated due to multicollinearity in the model.\n",
    "\n",
    "VIFs are calculated by taking a predictor, and regressing it against every other predictor in the model. This gives you the R-squared values, which can then be plugged into the VIF formula. “i” is the predictor you’re looking at (e.g. $x_1$ or $x_2$):\n",
    "\n",
    "$$ VIF = \\frac{1}{1 - R_i^{2}} $$\n",
    "\n",
    "#### Interpreting the Variance Inflation Factor\n",
    "\n",
    "Variance inflation factors range from 1 upwards. The numerical value for VIF tells you (in decimal form) what percentage the variance (i.e. the standard error squared) is inflated for each coefficient. For example, a VIF of 1.9 tells you that the variance of a particular coefficient is 90% bigger than what you would expect if there was no multicollinearity — if there was no correlation with other predictors.\n",
    "\n",
    "A rule of thumb for interpreting the variance inflation factor:\n",
    "- 1 = not correlated.\n",
    "- Between 1 and 5 = moderately correlated.\n",
    "- Greater than 5 = highly correlated.\n",
    "\n",
    "Exactly how large a VIF has to be before it causes issues is a subject of debate. What is known is that the more your VIF increases, the less reliable your regression results are going to be. In general, a VIF above 10 indicates high correlation and is cause for concern. Some authors suggest a more conservative level of 2.5 or above.\n",
    "\n",
    "Sometimes a high VIF is no cause for concern at all. For example, you can get a high VIF by including products or powers from other variables in your regression, like x and x2. If you have high VIFs for dummy variables representing nominal variables with three or more categories, those are usually not a problem."
   ]
  },
  {
   "cell_type": "code",
   "execution_count": 2,
   "metadata": {},
   "outputs": [],
   "source": [
    "from sklearn.datasets import load_boston"
   ]
  },
  {
   "cell_type": "code",
   "execution_count": 3,
   "metadata": {},
   "outputs": [
    {
     "name": "stdout",
     "output_type": "stream",
     "text": [
      ".. _boston_dataset:\n",
      "\n",
      "Boston house prices dataset\n",
      "---------------------------\n",
      "\n",
      "**Data Set Characteristics:**  \n",
      "\n",
      "    :Number of Instances: 506 \n",
      "\n",
      "    :Number of Attributes: 13 numeric/categorical predictive. Median Value (attribute 14) is usually the target.\n",
      "\n",
      "    :Attribute Information (in order):\n",
      "        - CRIM     per capita crime rate by town\n",
      "        - ZN       proportion of residential land zoned for lots over 25,000 sq.ft.\n",
      "        - INDUS    proportion of non-retail business acres per town\n",
      "        - CHAS     Charles River dummy variable (= 1 if tract bounds river; 0 otherwise)\n",
      "        - NOX      nitric oxides concentration (parts per 10 million)\n",
      "        - RM       average number of rooms per dwelling\n",
      "        - AGE      proportion of owner-occupied units built prior to 1940\n",
      "        - DIS      weighted distances to five Boston employment centres\n",
      "        - RAD      index of accessibility to radial highways\n",
      "        - TAX      full-value property-tax rate per $10,000\n",
      "        - PTRATIO  pupil-teacher ratio by town\n",
      "        - B        1000(Bk - 0.63)^2 where Bk is the proportion of blacks by town\n",
      "        - LSTAT    % lower status of the population\n",
      "        - MEDV     Median value of owner-occupied homes in $1000's\n",
      "\n",
      "    :Missing Attribute Values: None\n",
      "\n",
      "    :Creator: Harrison, D. and Rubinfeld, D.L.\n",
      "\n",
      "This is a copy of UCI ML housing dataset.\n",
      "https://archive.ics.uci.edu/ml/machine-learning-databases/housing/\n",
      "\n",
      "\n",
      "This dataset was taken from the StatLib library which is maintained at Carnegie Mellon University.\n",
      "\n",
      "The Boston house-price data of Harrison, D. and Rubinfeld, D.L. 'Hedonic\n",
      "prices and the demand for clean air', J. Environ. Economics & Management,\n",
      "vol.5, 81-102, 1978.   Used in Belsley, Kuh & Welsch, 'Regression diagnostics\n",
      "...', Wiley, 1980.   N.B. Various transformations are used in the table on\n",
      "pages 244-261 of the latter.\n",
      "\n",
      "The Boston house-price data has been used in many machine learning papers that address regression\n",
      "problems.   \n",
      "     \n",
      ".. topic:: References\n",
      "\n",
      "   - Belsley, Kuh & Welsch, 'Regression diagnostics: Identifying Influential Data and Sources of Collinearity', Wiley, 1980. 244-261.\n",
      "   - Quinlan,R. (1993). Combining Instance-Based and Model-Based Learning. In Proceedings on the Tenth International Conference of Machine Learning, 236-243, University of Massachusetts, Amherst. Morgan Kaufmann.\n",
      "\n"
     ]
    }
   ],
   "source": [
    "boston = load_boston()\n",
    "print (boston.DESCR)"
   ]
  },
  {
   "cell_type": "code",
   "execution_count": 4,
   "metadata": {},
   "outputs": [],
   "source": [
    "X = boston[\"data\"]  # all the feature data\n",
    "Y = boston[\"target\"]  # target variable\n",
    "names = list(boston[\"feature_names\"])  # all column names"
   ]
  },
  {
   "cell_type": "code",
   "execution_count": 5,
   "metadata": {},
   "outputs": [],
   "source": [
    "inp_df = pd.DataFrame(X, columns=names)   # only the feature columns here"
   ]
  },
  {
   "cell_type": "code",
   "execution_count": 6,
   "metadata": {},
   "outputs": [
    {
     "data": {
      "text/html": [
       "<div>\n",
       "<style scoped>\n",
       "    .dataframe tbody tr th:only-of-type {\n",
       "        vertical-align: middle;\n",
       "    }\n",
       "\n",
       "    .dataframe tbody tr th {\n",
       "        vertical-align: top;\n",
       "    }\n",
       "\n",
       "    .dataframe thead th {\n",
       "        text-align: right;\n",
       "    }\n",
       "</style>\n",
       "<table border=\"1\" class=\"dataframe\">\n",
       "  <thead>\n",
       "    <tr style=\"text-align: right;\">\n",
       "      <th></th>\n",
       "      <th>CRIM</th>\n",
       "      <th>ZN</th>\n",
       "      <th>INDUS</th>\n",
       "      <th>CHAS</th>\n",
       "      <th>NOX</th>\n",
       "      <th>RM</th>\n",
       "      <th>AGE</th>\n",
       "      <th>DIS</th>\n",
       "      <th>RAD</th>\n",
       "      <th>TAX</th>\n",
       "      <th>PTRATIO</th>\n",
       "      <th>B</th>\n",
       "      <th>LSTAT</th>\n",
       "    </tr>\n",
       "  </thead>\n",
       "  <tbody>\n",
       "    <tr>\n",
       "      <th>0</th>\n",
       "      <td>0.0063</td>\n",
       "      <td>18.0000</td>\n",
       "      <td>2.3100</td>\n",
       "      <td>0.0000</td>\n",
       "      <td>0.5380</td>\n",
       "      <td>6.5750</td>\n",
       "      <td>65.2000</td>\n",
       "      <td>4.0900</td>\n",
       "      <td>1.0000</td>\n",
       "      <td>296.0000</td>\n",
       "      <td>15.3000</td>\n",
       "      <td>396.9000</td>\n",
       "      <td>4.9800</td>\n",
       "    </tr>\n",
       "    <tr>\n",
       "      <th>1</th>\n",
       "      <td>0.0273</td>\n",
       "      <td>0.0000</td>\n",
       "      <td>7.0700</td>\n",
       "      <td>0.0000</td>\n",
       "      <td>0.4690</td>\n",
       "      <td>6.4210</td>\n",
       "      <td>78.9000</td>\n",
       "      <td>4.9671</td>\n",
       "      <td>2.0000</td>\n",
       "      <td>242.0000</td>\n",
       "      <td>17.8000</td>\n",
       "      <td>396.9000</td>\n",
       "      <td>9.1400</td>\n",
       "    </tr>\n",
       "    <tr>\n",
       "      <th>2</th>\n",
       "      <td>0.0273</td>\n",
       "      <td>0.0000</td>\n",
       "      <td>7.0700</td>\n",
       "      <td>0.0000</td>\n",
       "      <td>0.4690</td>\n",
       "      <td>7.1850</td>\n",
       "      <td>61.1000</td>\n",
       "      <td>4.9671</td>\n",
       "      <td>2.0000</td>\n",
       "      <td>242.0000</td>\n",
       "      <td>17.8000</td>\n",
       "      <td>392.8300</td>\n",
       "      <td>4.0300</td>\n",
       "    </tr>\n",
       "    <tr>\n",
       "      <th>3</th>\n",
       "      <td>0.0324</td>\n",
       "      <td>0.0000</td>\n",
       "      <td>2.1800</td>\n",
       "      <td>0.0000</td>\n",
       "      <td>0.4580</td>\n",
       "      <td>6.9980</td>\n",
       "      <td>45.8000</td>\n",
       "      <td>6.0622</td>\n",
       "      <td>3.0000</td>\n",
       "      <td>222.0000</td>\n",
       "      <td>18.7000</td>\n",
       "      <td>394.6300</td>\n",
       "      <td>2.9400</td>\n",
       "    </tr>\n",
       "    <tr>\n",
       "      <th>4</th>\n",
       "      <td>0.0691</td>\n",
       "      <td>0.0000</td>\n",
       "      <td>2.1800</td>\n",
       "      <td>0.0000</td>\n",
       "      <td>0.4580</td>\n",
       "      <td>7.1470</td>\n",
       "      <td>54.2000</td>\n",
       "      <td>6.0622</td>\n",
       "      <td>3.0000</td>\n",
       "      <td>222.0000</td>\n",
       "      <td>18.7000</td>\n",
       "      <td>396.9000</td>\n",
       "      <td>5.3300</td>\n",
       "    </tr>\n",
       "  </tbody>\n",
       "</table>\n",
       "</div>"
      ],
      "text/plain": [
       "    CRIM      ZN  INDUS   CHAS    NOX     RM     AGE    DIS    RAD      TAX  \\\n",
       "0 0.0063 18.0000 2.3100 0.0000 0.5380 6.5750 65.2000 4.0900 1.0000 296.0000   \n",
       "1 0.0273  0.0000 7.0700 0.0000 0.4690 6.4210 78.9000 4.9671 2.0000 242.0000   \n",
       "2 0.0273  0.0000 7.0700 0.0000 0.4690 7.1850 61.1000 4.9671 2.0000 242.0000   \n",
       "3 0.0324  0.0000 2.1800 0.0000 0.4580 6.9980 45.8000 6.0622 3.0000 222.0000   \n",
       "4 0.0691  0.0000 2.1800 0.0000 0.4580 7.1470 54.2000 6.0622 3.0000 222.0000   \n",
       "\n",
       "   PTRATIO        B  LSTAT  \n",
       "0  15.3000 396.9000 4.9800  \n",
       "1  17.8000 396.9000 9.1400  \n",
       "2  17.8000 392.8300 4.0300  \n",
       "3  18.7000 394.6300 2.9400  \n",
       "4  18.7000 396.9000 5.3300  "
      ]
     },
     "execution_count": 6,
     "metadata": {},
     "output_type": "execute_result"
    }
   ],
   "source": [
    "inp_df.head()"
   ]
  },
  {
   "cell_type": "markdown",
   "metadata": {},
   "source": [
    "So idea of VIF is we take one column in one iteration as my target variable and the remaining columns as feature variables. And then fit a linear regression on it calculate the $R^2$ vale and then calculate $$ vif = \\frac{1}{1-R_i^2} $$\n",
    "\n",
    "So in 1st iteration __CRIM__ is the target variable and rest of the columns will be features and then we will fit the linear regression and we will calculate vif for each column as target variable."
   ]
  },
  {
   "cell_type": "code",
   "execution_count": 7,
   "metadata": {},
   "outputs": [
    {
     "name": "stdout",
     "output_type": "stream",
     "text": [
      "R Square value of CRIM column is 0.52 keeping all other columns as features\n",
      "Variance Inflation Factor of CRIM column is 2.1 \n",
      "\n",
      "R Square value of ZN column is 0.65 keeping all other columns as features\n",
      "Variance Inflation Factor of ZN column is 2.84 \n",
      "\n",
      "R Square value of INDUS column is 0.93 keeping all other columns as features\n",
      "Variance Inflation Factor of INDUS column is 14.49 \n",
      "\n",
      "R Square value of CHAS column is 0.13 keeping all other columns as features\n",
      "Variance Inflation Factor of CHAS column is 1.15 \n",
      "\n",
      "R Square value of NOX column is 0.99 keeping all other columns as features\n",
      "Variance Inflation Factor of NOX column is 73.89 \n",
      "\n",
      "R Square value of RM column is 0.99 keeping all other columns as features\n",
      "Variance Inflation Factor of RM column is 77.95 \n",
      "\n",
      "R Square value of AGE column is 0.95 keeping all other columns as features\n",
      "Variance Inflation Factor of AGE column is 21.39 \n",
      "\n",
      "R Square value of DIS column is 0.93 keeping all other columns as features\n",
      "Variance Inflation Factor of DIS column is 14.7 \n",
      "\n",
      "R Square value of RAD column is 0.93 keeping all other columns as features\n",
      "Variance Inflation Factor of RAD column is 15.17 \n",
      "\n",
      "R Square value of TAX column is 0.98 keeping all other columns as features\n",
      "Variance Inflation Factor of TAX column is 61.23 \n",
      "\n",
      "R Square value of PTRATIO column is 0.99 keeping all other columns as features\n",
      "Variance Inflation Factor of PTRATIO column is 85.03 \n",
      "\n",
      "R Square value of B column is 0.95 keeping all other columns as features\n",
      "Variance Inflation Factor of B column is 20.1 \n",
      "\n",
      "R Square value of LSTAT column is 0.91 keeping all other columns as features\n",
      "Variance Inflation Factor of LSTAT column is 11.1 \n",
      "\n"
     ]
    }
   ],
   "source": [
    "for i in range(0, len(names)):\n",
    "    y = inp_df.loc[:, inp_df.columns == names[i]]\n",
    "    x = inp_df.loc[:, inp_df.columns != names[i]]\n",
    "    model = sm.OLS(y, x)\n",
    "    results = model.fit()\n",
    "    rsq = results.rsquared\n",
    "    vif = round(1 / (1 - rsq), 2)\n",
    "    print(\n",
    "        \"R Square value of {} column is {} keeping all other columns as features\".format(\n",
    "            names[i], (round(rsq, 2))\n",
    "        )\n",
    "    )\n",
    "    print(\n",
    "        \"Variance Inflation Factor of {} column is {} \\n\".format(\n",
    "            names[i], vif)\n",
    "        )"
   ]
  },
  {
   "cell_type": "markdown",
   "metadata": {},
   "source": [
    "Higher the VIF more the chances of it being removed from the linear regression model.\n",
    "\n",
    "Eg:\n",
    "\n",
    "> R Square value of RM column is 0.99 keeping all other columns as features.  \n",
    "Variance Inflation Factor of RM column is 77.95 \n",
    "\n",
    "RM column can be explained as a combination of multiple other columns or multiple other features. So RM column can be neglected while creating a linear regression model.\n",
    "\n",
    "__Similarly higher the values of VIF, the more are the chances that you can drop it off when you build a linear rgeression model.__"
   ]
  },
  {
   "cell_type": "markdown",
   "metadata": {},
   "source": [
    "***\n",
    "### __Aim__ \n",
    "To show multicolinearity is bad for regression\n",
    "\n",
    "__Helper functions Used to optimise the code:__"
   ]
  },
  {
   "cell_type": "code",
   "execution_count": 8,
   "metadata": {},
   "outputs": [],
   "source": [
    "def pretty_print_linear(coefs, name = None, sort = False):\n",
    "    \"\"\"\n",
    "    Prints out the feature name along with the coefficient that the linear regression has calculated.\n",
    "    \"\"\"\n",
    "    if names is None:\n",
    "        names = [\"X%s\" % x for x in range(len(coefs))]\n",
    "    \n",
    "    lst = zip(coefs, names)\n",
    "    if sort:\n",
    "        lst = sorted(lst, key = lambda x: -np.abs(x[0]))\n",
    "    \n",
    "    return(\" + \".join(\"%s * %s\" % (round(coef, 3), name) for coef, name in lst))"
   ]
  },
  {
   "cell_type": "code",
   "execution_count": 9,
   "metadata": {},
   "outputs": [],
   "source": [
    "def plot_correlation(df, numerical_feature_columns, target, k):\n",
    "    '''\n",
    "    Takes in dataframe with input feature columns and finds it correaltion with target variable column and target variable is \n",
    "    also in the numerical_feature_columns.\n",
    "    '''\n",
    "    cols = df[numerical_feature_columns].corr().nlargest(k, target)[target].index\n",
    "    cm = df[cols].corr()\n",
    "    plt.figure(figsize = (10,6))\n",
    "    return(sns.heatmap(cm, annot = True, cmap = 'viridis'))"
   ]
  },
  {
   "cell_type": "code",
   "execution_count": 10,
   "metadata": {},
   "outputs": [],
   "source": [
    "def fit_ols(X,y):\n",
    "    \"\"\"\n",
    "    Fitting the dataframe X and y on the OLS, generate summary, adjusted Rsq and Rsq\n",
    "    \"\"\"\n",
    "    model = sm.OLS(y,X)\n",
    "    results = model.fit()\n",
    "    print('R2: ', results.rsquared)  # Rsq\n",
    "    print('AdjustedR2: ', results.rsquared_adj)  # Adjusted Rsq\n",
    "    return(results.summary())"
   ]
  },
  {
   "cell_type": "code",
   "execution_count": 11,
   "metadata": {},
   "outputs": [],
   "source": [
    "def generate_vif(df, target):\n",
    "    X_var = add_constant(df.loc[:, df.columns!=target])\n",
    "    return(pd.Series(\n",
    "        [variance_inflation_factor(X_var.values, i) for i in range(X_var.shape[1])], index=X_var.columns\n",
    "    ))"
   ]
  },
  {
   "cell_type": "code",
   "execution_count": 12,
   "metadata": {},
   "outputs": [],
   "source": [
    "def generate_x_y_numeric_target(df, target):\n",
    "    numerical_features_columns = list(df._get_numeric_data().columns)\n",
    "    X = df.loc[:, df.columns != target]\n",
    "    y = df.loc[:, df.columns == target]\n",
    "    return(numerical_features_columns, X, y)"
   ]
  },
  {
   "cell_type": "code",
   "execution_count": 13,
   "metadata": {},
   "outputs": [
    {
     "data": {
      "text/html": [
       "<div>\n",
       "<style scoped>\n",
       "    .dataframe tbody tr th:only-of-type {\n",
       "        vertical-align: middle;\n",
       "    }\n",
       "\n",
       "    .dataframe tbody tr th {\n",
       "        vertical-align: top;\n",
       "    }\n",
       "\n",
       "    .dataframe thead th {\n",
       "        text-align: right;\n",
       "    }\n",
       "</style>\n",
       "<table border=\"1\" class=\"dataframe\">\n",
       "  <thead>\n",
       "    <tr style=\"text-align: right;\">\n",
       "      <th></th>\n",
       "      <th>x1</th>\n",
       "      <th>x2</th>\n",
       "      <th>x3</th>\n",
       "      <th>y</th>\n",
       "    </tr>\n",
       "  </thead>\n",
       "  <tbody>\n",
       "    <tr>\n",
       "      <th>0</th>\n",
       "      <td>100</td>\n",
       "      <td>110</td>\n",
       "      <td>40</td>\n",
       "      <td>3.9000</td>\n",
       "    </tr>\n",
       "    <tr>\n",
       "      <th>1</th>\n",
       "      <td>95</td>\n",
       "      <td>110</td>\n",
       "      <td>40</td>\n",
       "      <td>2.6000</td>\n",
       "    </tr>\n",
       "    <tr>\n",
       "      <th>2</th>\n",
       "      <td>90</td>\n",
       "      <td>120</td>\n",
       "      <td>30</td>\n",
       "      <td>2.7000</td>\n",
       "    </tr>\n",
       "    <tr>\n",
       "      <th>3</th>\n",
       "      <td>85</td>\n",
       "      <td>110</td>\n",
       "      <td>40</td>\n",
       "      <td>3.0000</td>\n",
       "    </tr>\n",
       "    <tr>\n",
       "      <th>4</th>\n",
       "      <td>80</td>\n",
       "      <td>100</td>\n",
       "      <td>20</td>\n",
       "      <td>2.4000</td>\n",
       "    </tr>\n",
       "  </tbody>\n",
       "</table>\n",
       "</div>"
      ],
      "text/plain": [
       "    x1   x2  x3      y\n",
       "0  100  110  40 3.9000\n",
       "1   95  110  40 2.6000\n",
       "2   90  120  30 2.7000\n",
       "3   85  110  40 3.0000\n",
       "4   80  100  20 2.4000"
      ]
     },
     "execution_count": 13,
     "metadata": {},
     "output_type": "execute_result"
    }
   ],
   "source": [
    "df = pd.read_csv(\"inp_data.csv\")\n",
    "df.head()"
   ]
  },
  {
   "cell_type": "code",
   "execution_count": 14,
   "metadata": {},
   "outputs": [
    {
     "data": {
      "text/plain": [
       "<matplotlib.axes._subplots.AxesSubplot at 0x21af55511c8>"
      ]
     },
     "execution_count": 14,
     "metadata": {},
     "output_type": "execute_result"
    },
    {
     "data": {
      "image/png": "[encoded data removed]",
      "text/plain": [
       "<Figure size 720x432 with 2 Axes>"
      ]
     },
     "metadata": {},
     "output_type": "display_data"
    }
   ],
   "source": [
    "target = 'y'\n",
    "numeric_cols, X, y = generate_x_y_numeric_target(df, target)\n",
    "plot_correlation(df, numeric_cols, target, 5)"
   ]
  },
  {
   "cell_type": "markdown",
   "metadata": {},
   "source": [
    "Heavy correlation of x1 and target variable y i.e, 0.88. Also, x1 is also highly correlated to x2. So no point in retaining both x1 and x2.\n",
    "\n",
    "Before that lets look at the summary that is  genrated for the models made using these columns.\n",
    "\n",
    "[Important OLS](https://stackoverflow.com/a/30651065)"
   ]
  },
  {
   "cell_type": "code",
   "execution_count": 15,
   "metadata": {},
   "outputs": [
    {
     "name": "stdout",
     "output_type": "stream",
     "text": [
      "R2:  0.9864408944621423\n",
      "AdjustedR2:  0.9806298492316319\n"
     ]
    },
    {
     "data": {
      "text/html": [
       "<table class=\"simpletable\">\n",
       "<caption>OLS Regression Results</caption>\n",
       "<tr>\n",
       "  <th>Dep. Variable:</th>            <td>y</td>        <th>  R-squared (uncentered):</th>      <td>   0.986</td>\n",
       "</tr>\n",
       "<tr>\n",
       "  <th>Model:</th>                   <td>OLS</td>       <th>  Adj. R-squared (uncentered):</th> <td>   0.981</td>\n",
       "</tr>\n",
       "<tr>\n",
       "  <th>Method:</th>             <td>Least Squares</td>  <th>  F-statistic:       </th>          <td>   169.8</td>\n",
       "</tr>\n",
       "<tr>\n",
       "  <th>Date:</th>             <td>Wed, 06 May 2020</td> <th>  Prob (F-statistic):</th>          <td>6.72e-07</td>\n",
       "</tr>\n",
       "<tr>\n",
       "  <th>Time:</th>                 <td>18:42:05</td>     <th>  Log-Likelihood:    </th>          <td> -1.9021</td>\n",
       "</tr>\n",
       "<tr>\n",
       "  <th>No. Observations:</th>      <td>    10</td>      <th>  AIC:               </th>          <td>   9.804</td>\n",
       "</tr>\n",
       "<tr>\n",
       "  <th>Df Residuals:</th>          <td>     7</td>      <th>  BIC:               </th>          <td>   10.71</td>\n",
       "</tr>\n",
       "<tr>\n",
       "  <th>Df Model:</th>              <td>     3</td>      <th>                     </th>              <td> </td>   \n",
       "</tr>\n",
       "<tr>\n",
       "  <th>Covariance Type:</th>      <td>nonrobust</td>    <th>                     </th>              <td> </td>   \n",
       "</tr>\n",
       "</table>\n",
       "<table class=\"simpletable\">\n",
       "<tr>\n",
       "   <td></td>     <th>coef</th>     <th>std err</th>      <th>t</th>      <th>P>|t|</th>  <th>[0.025</th>    <th>0.975]</th>  \n",
       "</tr>\n",
       "<tr>\n",
       "  <th>x1</th> <td>    0.0405</td> <td>    0.012</td> <td>    3.420</td> <td> 0.011</td> <td>    0.012</td> <td>    0.068</td>\n",
       "</tr>\n",
       "<tr>\n",
       "  <th>x2</th> <td>   -0.0093</td> <td>    0.009</td> <td>   -0.997</td> <td> 0.352</td> <td>   -0.031</td> <td>    0.013</td>\n",
       "</tr>\n",
       "<tr>\n",
       "  <th>x3</th> <td>    0.0090</td> <td>    0.009</td> <td>    0.982</td> <td> 0.359</td> <td>   -0.013</td> <td>    0.031</td>\n",
       "</tr>\n",
       "</table>\n",
       "<table class=\"simpletable\">\n",
       "<tr>\n",
       "  <th>Omnibus:</th>       <td> 0.439</td> <th>  Durbin-Watson:     </th> <td>   2.500</td>\n",
       "</tr>\n",
       "<tr>\n",
       "  <th>Prob(Omnibus):</th> <td> 0.803</td> <th>  Jarque-Bera (JB):  </th> <td>   0.131</td>\n",
       "</tr>\n",
       "<tr>\n",
       "  <th>Skew:</th>          <td>-0.234</td> <th>  Prob(JB):          </th> <td>   0.937</td>\n",
       "</tr>\n",
       "<tr>\n",
       "  <th>Kurtosis:</th>      <td> 2.692</td> <th>  Cond. No.          </th> <td>    17.9</td>\n",
       "</tr>\n",
       "</table><br/><br/>Warnings:<br/>[1] Standard Errors assume that the covariance matrix of the errors is correctly specified."
      ],
      "text/plain": [
       "<class 'statsmodels.iolib.summary.Summary'>\n",
       "\"\"\"\n",
       "                                 OLS Regression Results                                \n",
       "=======================================================================================\n",
       "Dep. Variable:                      y   R-squared (uncentered):                   0.986\n",
       "Model:                            OLS   Adj. R-squared (uncentered):              0.981\n",
       "Method:                 Least Squares   F-statistic:                              169.8\n",
       "Date:                Wed, 06 May 2020   Prob (F-statistic):                    6.72e-07\n",
       "Time:                        18:42:05   Log-Likelihood:                         -1.9021\n",
       "No. Observations:                  10   AIC:                                      9.804\n",
       "Df Residuals:                       7   BIC:                                      10.71\n",
       "Df Model:                           3                                                  \n",
       "Covariance Type:            nonrobust                                                  \n",
       "==============================================================================\n",
       "                 coef    std err          t      P>|t|      [0.025      0.975]\n",
       "------------------------------------------------------------------------------\n",
       "x1             0.0405      0.012      3.420      0.011       0.012       0.068\n",
       "x2            -0.0093      0.009     -0.997      0.352      -0.031       0.013\n",
       "x3             0.0090      0.009      0.982      0.359      -0.013       0.031\n",
       "==============================================================================\n",
       "Omnibus:                        0.439   Durbin-Watson:                   2.500\n",
       "Prob(Omnibus):                  0.803   Jarque-Bera (JB):                0.131\n",
       "Skew:                          -0.234   Prob(JB):                        0.937\n",
       "Kurtosis:                       2.692   Cond. No.                         17.9\n",
       "==============================================================================\n",
       "\n",
       "Warnings:\n",
       "[1] Standard Errors assume that the covariance matrix of the errors is correctly specified.\n",
       "\"\"\""
      ]
     },
     "execution_count": 15,
     "metadata": {},
     "output_type": "execute_result"
    }
   ],
   "source": [
    "fit_ols(X,y)"
   ]
  },
  {
   "cell_type": "markdown",
   "metadata": {},
   "source": [
    "__1st and foremost way__ to assess multicolinearity is assessing the coefficients. \n",
    "\n",
    "x1 = 0.0405  \n",
    "x2 = -0.0093  \n",
    "x3 = -0.0090  \n",
    "\n",
    "x2 has a negative coefficient even thought all the correlation values are positive as shown in heatmap. Thus signifying there is a significant amount of multicolinearity present in the dataset. \n",
    "\n",
    "__How negative coefficient imply presence of multicolinearity?__  \n",
    "\n",
    "__2nd indication:__ Very high R-squared value. 0.986\n",
    "\n",
    "__3rd indication:__    \n",
    "Also, `Prob (F-statistic):\t6.72e-07` is highly significant as less than 0.05. But the individual significant levels are not significant \n",
    "\n",
    "| Columns | P>\\|t\\| |\n",
    "|---------|---------|\n",
    "| x1      | 0.011   |\n",
    "| x2      | 0.352   |\n",
    "| x3      | 0.359   |\n",
    "\n",
    "x2 and x3 has P-value > 0.05. \n",
    "\n",
    "__4th way__ is by finding out VIF. Any value higher than 5 is considered to be having high amount of multicolinearity."
   ]
  },
  {
   "cell_type": "code",
   "execution_count": 16,
   "metadata": {},
   "outputs": [
    {
     "name": "stdout",
     "output_type": "stream",
     "text": [
      "const   135.8716\n",
      "x1        2.3842\n",
      "x2        5.0279\n",
      "x3        3.4412\n",
      "dtype: float64\n"
     ]
    }
   ],
   "source": [
    "print(generate_vif(df, target))"
   ]
  },
  {
   "cell_type": "markdown",
   "metadata": {},
   "source": [
    "x1 and x3 have decent enough vif as denoted by its value 2.38 and 3.44. But x2 has vif of 5.02 so the coefficients generated might be prone to more errors. \n",
    "\n",
    "#### Other type of multicolinearity\n",
    "\n",
    "If we can express one feature as a combination of ultiple other features in your dataset. But this again destroys assumption of independance of features in linear regression."
   ]
  },
  {
   "cell_type": "code",
   "execution_count": 17,
   "metadata": {},
   "outputs": [
    {
     "data": {
      "text/html": [
       "<div>\n",
       "<style scoped>\n",
       "    .dataframe tbody tr th:only-of-type {\n",
       "        vertical-align: middle;\n",
       "    }\n",
       "\n",
       "    .dataframe tbody tr th {\n",
       "        vertical-align: top;\n",
       "    }\n",
       "\n",
       "    .dataframe thead th {\n",
       "        text-align: right;\n",
       "    }\n",
       "</style>\n",
       "<table border=\"1\" class=\"dataframe\">\n",
       "  <thead>\n",
       "    <tr style=\"text-align: right;\">\n",
       "      <th></th>\n",
       "      <th>x1</th>\n",
       "      <th>x2</th>\n",
       "      <th>x3</th>\n",
       "      <th>y</th>\n",
       "      <th>x4</th>\n",
       "    </tr>\n",
       "  </thead>\n",
       "  <tbody>\n",
       "    <tr>\n",
       "      <th>0</th>\n",
       "      <td>100</td>\n",
       "      <td>110</td>\n",
       "      <td>40</td>\n",
       "      <td>3.9000</td>\n",
       "      <td>250</td>\n",
       "    </tr>\n",
       "    <tr>\n",
       "      <th>1</th>\n",
       "      <td>95</td>\n",
       "      <td>110</td>\n",
       "      <td>40</td>\n",
       "      <td>2.6000</td>\n",
       "      <td>245</td>\n",
       "    </tr>\n",
       "    <tr>\n",
       "      <th>2</th>\n",
       "      <td>90</td>\n",
       "      <td>120</td>\n",
       "      <td>30</td>\n",
       "      <td>2.7000</td>\n",
       "      <td>240</td>\n",
       "    </tr>\n",
       "    <tr>\n",
       "      <th>3</th>\n",
       "      <td>85</td>\n",
       "      <td>110</td>\n",
       "      <td>40</td>\n",
       "      <td>3.0000</td>\n",
       "      <td>235</td>\n",
       "    </tr>\n",
       "    <tr>\n",
       "      <th>4</th>\n",
       "      <td>80</td>\n",
       "      <td>100</td>\n",
       "      <td>20</td>\n",
       "      <td>2.4000</td>\n",
       "      <td>200</td>\n",
       "    </tr>\n",
       "    <tr>\n",
       "      <th>5</th>\n",
       "      <td>75</td>\n",
       "      <td>110</td>\n",
       "      <td>40</td>\n",
       "      <td>2.2000</td>\n",
       "      <td>225</td>\n",
       "    </tr>\n",
       "    <tr>\n",
       "      <th>6</th>\n",
       "      <td>70</td>\n",
       "      <td>90</td>\n",
       "      <td>0</td>\n",
       "      <td>2.1000</td>\n",
       "      <td>160</td>\n",
       "    </tr>\n",
       "    <tr>\n",
       "      <th>7</th>\n",
       "      <td>65</td>\n",
       "      <td>110</td>\n",
       "      <td>40</td>\n",
       "      <td>2.1000</td>\n",
       "      <td>215</td>\n",
       "    </tr>\n",
       "    <tr>\n",
       "      <th>8</th>\n",
       "      <td>60</td>\n",
       "      <td>80</td>\n",
       "      <td>10</td>\n",
       "      <td>1.5000</td>\n",
       "      <td>150</td>\n",
       "    </tr>\n",
       "    <tr>\n",
       "      <th>9</th>\n",
       "      <td>55</td>\n",
       "      <td>80</td>\n",
       "      <td>10</td>\n",
       "      <td>1.8000</td>\n",
       "      <td>145</td>\n",
       "    </tr>\n",
       "  </tbody>\n",
       "</table>\n",
       "</div>"
      ],
      "text/plain": [
       "    x1   x2  x3      y   x4\n",
       "0  100  110  40 3.9000  250\n",
       "1   95  110  40 2.6000  245\n",
       "2   90  120  30 2.7000  240\n",
       "3   85  110  40 3.0000  235\n",
       "4   80  100  20 2.4000  200\n",
       "5   75  110  40 2.2000  225\n",
       "6   70   90   0 2.1000  160\n",
       "7   65  110  40 2.1000  215\n",
       "8   60   80  10 1.5000  150\n",
       "9   55   80  10 1.8000  145"
      ]
     },
     "execution_count": 17,
     "metadata": {},
     "output_type": "execute_result"
    }
   ],
   "source": [
    "df['x4'] = df['x1'] + df['x2'] + df['x3']\n",
    "df"
   ]
  },
  {
   "cell_type": "markdown",
   "metadata": {},
   "source": [
    "Again plot the correlation metrix and lest focus only on  the x4 correlation features for now."
   ]
  },
  {
   "cell_type": "code",
   "execution_count": 18,
   "metadata": {},
   "outputs": [
    {
     "data": {
      "text/plain": [
       "<matplotlib.axes._subplots.AxesSubplot at 0x21afc41f608>"
      ]
     },
     "execution_count": 18,
     "metadata": {},
     "output_type": "execute_result"
    },
    {
     "data": {
      "image/png": "[encoded data removed]",
      "text/plain": [
       "<Figure size 720x432 with 2 Axes>"
      ]
     },
     "metadata": {},
     "output_type": "display_data"
    }
   ],
   "source": [
    "target = 'y'\n",
    "numeric_cols, X, y = generate_x_y_numeric_target(df, target)\n",
    "plot_correlation(df, numeric_cols, target, 5)"
   ]
  },
  {
   "cell_type": "markdown",
   "metadata": {},
   "source": [
    "So x4 has high correlation with x1, x2 and x3."
   ]
  },
  {
   "cell_type": "code",
   "execution_count": 19,
   "metadata": {},
   "outputs": [
    {
     "name": "stdout",
     "output_type": "stream",
     "text": [
      "R2:  0.9864408944621423\n",
      "AdjustedR2:  0.9806298492316319\n",
      "                                 OLS Regression Results                                \n",
      "=======================================================================================\n",
      "Dep. Variable:                      y   R-squared (uncentered):                   0.986\n",
      "Model:                            OLS   Adj. R-squared (uncentered):              0.981\n",
      "Method:                 Least Squares   F-statistic:                              169.8\n",
      "Date:                Wed, 06 May 2020   Prob (F-statistic):                    6.72e-07\n",
      "Time:                        18:42:13   Log-Likelihood:                         -1.9021\n",
      "No. Observations:                  10   AIC:                                      9.804\n",
      "Df Residuals:                       7   BIC:                                      10.71\n",
      "Df Model:                           3                                                  \n",
      "Covariance Type:            nonrobust                                                  \n",
      "==============================================================================\n",
      "                 coef    std err          t      P>|t|      [0.025      0.975]\n",
      "------------------------------------------------------------------------------\n",
      "x1             0.0304      0.011      2.692      0.031       0.004       0.057\n",
      "x2            -0.0194      0.011     -1.844      0.108      -0.044       0.005\n",
      "x3            -0.0010      0.008     -0.131      0.899      -0.019       0.017\n",
      "x4             0.0100      0.002      5.540      0.001       0.006       0.014\n",
      "==============================================================================\n",
      "Omnibus:                        0.439   Durbin-Watson:                   2.500\n",
      "Prob(Omnibus):                  0.803   Jarque-Bera (JB):                0.131\n",
      "Skew:                          -0.234   Prob(JB):                        0.937\n",
      "Kurtosis:                       2.692   Cond. No.                     1.69e+16\n",
      "==============================================================================\n",
      "\n",
      "Warnings:\n",
      "[1] Standard Errors assume that the covariance matrix of the errors is correctly specified.\n",
      "[2] The smallest eigenvalue is 2.17e-27. This might indicate that there are\n",
      "strong multicollinearity problems or that the design matrix is singular.\n"
     ]
    }
   ],
   "source": [
    "print(fit_ols(X,y))"
   ]
  },
  {
   "cell_type": "markdown",
   "metadata": {},
   "source": [
    "Also, `Prob (F-statistic):\t6.72e-07` is highly significant as less than 0.05. But the individual significant levels are not significant \n",
    "\n",
    "| Columns | P>\\|t\\| |\n",
    "|---------|---------|\n",
    "| x1      | 0.031   |\n",
    "| x2      | 0.108   |\n",
    "| x3      | 0.899   |\n",
    "| x4      | 0.001   |\n",
    "\n",
    "So there is multi colinearity in the dataset.\n",
    "\n",
    "Now when we claculate the VIFs:"
   ]
  },
  {
   "cell_type": "code",
   "execution_count": 20,
   "metadata": {},
   "outputs": [
    {
     "name": "stdout",
     "output_type": "stream",
     "text": [
      "const   135.8716\n",
      "x1           inf\n",
      "x2           inf\n",
      "x3           inf\n",
      "x4           inf\n",
      "dtype: float64\n"
     ]
    }
   ],
   "source": [
    "print(generate_vif(df, target))"
   ]
  },
  {
   "cell_type": "markdown",
   "metadata": {},
   "source": [
    "The values are infinity i.e, heavy multicolinearity in data."
   ]
  },
  {
   "cell_type": "markdown",
   "metadata": {},
   "source": [
    "#### Why multicolinearity impacts linear and logistic regression but not other models such as decison tree, random forest? \n",
    "\n",
    "Reason simply lies in the way weights are computed in linear or logistic regression using OLS.\n",
    "\n",
    "Weights eqn in OLS\n",
    "\n",
    "$$ \\hat{Y}=\\hat{\\beta_0}+\\hat{\\beta_1}X_1+\\hat{\\epsilon_1}  $$\n",
    "\n",
    "$$ \\hat{\\beta_1}=(X^TX)^{-1}X^TY $$\n",
    "\n"
   ]
  },
  {
   "cell_type": "code",
   "execution_count": 21,
   "metadata": {},
   "outputs": [
    {
     "name": "stdout",
     "output_type": "stream",
     "text": [
      "[[ 62125  80500  22250 164875]\n",
      " [ 80500 105800  29200 215500]\n",
      " [ 22250  29200   9500  60950]\n",
      " [164875 215500  60950 441325]]\n"
     ]
    }
   ],
   "source": [
    "covariance_matrix = np.dot(X.T,X)\n",
    "print(covariance_matrix)  # as 4 features so 4x4 matrix"
   ]
  },
  {
   "cell_type": "markdown",
   "metadata": {},
   "source": [
    "If u feel there is a linear relatonship between features in the model that u will be making using linear regression one way to assess if there is a multicolinearity there or not is by finding out the rank of the covaraince matrix.\n",
    "\n",
    "> __The rank of a covariance matrix indicates how many independant features we have in our matrix.__\n",
    "\n",
    "Here we have 4 features so a rank of 4 in the 4x4 covaraince matrix indicates that we have 4 independant features."
   ]
  },
  {
   "cell_type": "code",
   "execution_count": 22,
   "metadata": {},
   "outputs": [
    {
     "data": {
      "text/plain": [
       "3"
      ]
     },
     "execution_count": 22,
     "metadata": {},
     "output_type": "execute_result"
    }
   ],
   "source": [
    "matrix_rank(covariance_matrix)"
   ]
  },
  {
   "cell_type": "markdown",
   "metadata": {},
   "source": [
    "So we have 3 as rank so overall we have 3 variables which are independant of each other the 4th one depends on the previous 3 features. And if we try to find the inverse of a matrix which has rank less than the number of features/columns in the covariance matrix we will get an error.\n",
    "\n",
    "![](cov_inv.PNG)"
   ]
  },
  {
   "cell_type": "code",
   "execution_count": 23,
   "metadata": {},
   "outputs": [],
   "source": [
    "inverse_covaraince_matrix = inv(covariance_matrix)"
   ]
  },
  {
   "cell_type": "code",
   "execution_count": 24,
   "metadata": {},
   "outputs": [
    {
     "data": {
      "text/plain": [
       "array([[ 2.1817e+11,  2.1817e+11,  2.1817e+11, -2.1817e+11],\n",
       "       [ 2.1817e+11,  2.1817e+11,  2.1817e+11, -2.1817e+11],\n",
       "       [ 2.1817e+11,  2.1817e+11,  2.1817e+11, -2.1817e+11],\n",
       "       [-2.1817e+11, -2.1817e+11, -2.1817e+11,  2.1817e+11]])"
      ]
     },
     "execution_count": 24,
     "metadata": {},
     "output_type": "execute_result"
    }
   ],
   "source": [
    "inverse_covaraince_matrix"
   ]
  },
  {
   "cell_type": "markdown",
   "metadata": {},
   "source": [
    "Dont know why we are not getting an error here maybe because of different versions.\n",
    "\n"
   ]
  },
  {
   "cell_type": "markdown",
   "metadata": {},
   "source": [
    "So going back to our qtn why regression is affcted by multicolinearity waht OLS will do internally it will scale the data and later use it to compute weights which would be misleading in nature.\n",
    "\n",
    "So lets pick 2 features which are not linearly dependant on each other."
   ]
  },
  {
   "cell_type": "code",
   "execution_count": 25,
   "metadata": {},
   "outputs": [
    {
     "data": {
      "text/html": [
       "<div>\n",
       "<style scoped>\n",
       "    .dataframe tbody tr th:only-of-type {\n",
       "        vertical-align: middle;\n",
       "    }\n",
       "\n",
       "    .dataframe tbody tr th {\n",
       "        vertical-align: top;\n",
       "    }\n",
       "\n",
       "    .dataframe thead th {\n",
       "        text-align: right;\n",
       "    }\n",
       "</style>\n",
       "<table border=\"1\" class=\"dataframe\">\n",
       "  <thead>\n",
       "    <tr style=\"text-align: right;\">\n",
       "      <th></th>\n",
       "      <th>x1</th>\n",
       "      <th>x2</th>\n",
       "      <th>x3</th>\n",
       "      <th>x4</th>\n",
       "    </tr>\n",
       "  </thead>\n",
       "  <tbody>\n",
       "    <tr>\n",
       "      <th>0</th>\n",
       "      <td>100</td>\n",
       "      <td>110</td>\n",
       "      <td>40</td>\n",
       "      <td>250</td>\n",
       "    </tr>\n",
       "    <tr>\n",
       "      <th>1</th>\n",
       "      <td>95</td>\n",
       "      <td>110</td>\n",
       "      <td>40</td>\n",
       "      <td>245</td>\n",
       "    </tr>\n",
       "    <tr>\n",
       "      <th>2</th>\n",
       "      <td>90</td>\n",
       "      <td>120</td>\n",
       "      <td>30</td>\n",
       "      <td>240</td>\n",
       "    </tr>\n",
       "    <tr>\n",
       "      <th>3</th>\n",
       "      <td>85</td>\n",
       "      <td>110</td>\n",
       "      <td>40</td>\n",
       "      <td>235</td>\n",
       "    </tr>\n",
       "    <tr>\n",
       "      <th>4</th>\n",
       "      <td>80</td>\n",
       "      <td>100</td>\n",
       "      <td>20</td>\n",
       "      <td>200</td>\n",
       "    </tr>\n",
       "    <tr>\n",
       "      <th>5</th>\n",
       "      <td>75</td>\n",
       "      <td>110</td>\n",
       "      <td>40</td>\n",
       "      <td>225</td>\n",
       "    </tr>\n",
       "    <tr>\n",
       "      <th>6</th>\n",
       "      <td>70</td>\n",
       "      <td>90</td>\n",
       "      <td>0</td>\n",
       "      <td>160</td>\n",
       "    </tr>\n",
       "    <tr>\n",
       "      <th>7</th>\n",
       "      <td>65</td>\n",
       "      <td>110</td>\n",
       "      <td>40</td>\n",
       "      <td>215</td>\n",
       "    </tr>\n",
       "    <tr>\n",
       "      <th>8</th>\n",
       "      <td>60</td>\n",
       "      <td>80</td>\n",
       "      <td>10</td>\n",
       "      <td>150</td>\n",
       "    </tr>\n",
       "    <tr>\n",
       "      <th>9</th>\n",
       "      <td>55</td>\n",
       "      <td>80</td>\n",
       "      <td>10</td>\n",
       "      <td>145</td>\n",
       "    </tr>\n",
       "  </tbody>\n",
       "</table>\n",
       "</div>"
      ],
      "text/plain": [
       "    x1   x2  x3   x4\n",
       "0  100  110  40  250\n",
       "1   95  110  40  245\n",
       "2   90  120  30  240\n",
       "3   85  110  40  235\n",
       "4   80  100  20  200\n",
       "5   75  110  40  225\n",
       "6   70   90   0  160\n",
       "7   65  110  40  215\n",
       "8   60   80  10  150\n",
       "9   55   80  10  145"
      ]
     },
     "execution_count": 25,
     "metadata": {},
     "output_type": "execute_result"
    }
   ],
   "source": [
    "X"
   ]
  },
  {
   "cell_type": "code",
   "execution_count": 26,
   "metadata": {},
   "outputs": [
    {
     "name": "stdout",
     "output_type": "stream",
     "text": [
      "[[ 62125  80500]\n",
      " [ 80500 105800]]\n"
     ]
    }
   ],
   "source": [
    "X_sliced = X.loc[:,['x1', 'x2']]\n",
    "covariance_matrix = np.dot(X_sliced.T, X_sliced)\n",
    "print(covariance_matrix)"
   ]
  },
  {
   "cell_type": "code",
   "execution_count": 27,
   "metadata": {},
   "outputs": [
    {
     "data": {
      "text/plain": [
       "2"
      ]
     },
     "execution_count": 27,
     "metadata": {},
     "output_type": "execute_result"
    }
   ],
   "source": [
    "matrix_rank(covariance_matrix)"
   ]
  },
  {
   "cell_type": "code",
   "execution_count": 29,
   "metadata": {},
   "outputs": [
    {
     "name": "stdout",
     "output_type": "stream",
     "text": [
      "[[ 0.0408]\n",
      " [-0.0071]]\n"
     ]
    }
   ],
   "source": [
    "inverse_covaraince_matrix = inv(covariance_matrix)\n",
    "weights = np.dot(np.dot(inverse_covaraince_matrix, X_sliced.T), y)\n",
    "print (weights)"
   ]
  },
  {
   "cell_type": "code",
   "execution_count": 30,
   "metadata": {},
   "outputs": [
    {
     "name": "stdout",
     "output_type": "stream",
     "text": [
      "R2:  0.9845745127224006\n",
      "AdjustedR2:  0.9807181409030008\n",
      "                                 OLS Regression Results                                \n",
      "=======================================================================================\n",
      "Dep. Variable:                      y   R-squared (uncentered):                   0.985\n",
      "Model:                            OLS   Adj. R-squared (uncentered):              0.981\n",
      "Method:                 Least Squares   F-statistic:                              255.3\n",
      "Date:                Wed, 06 May 2020   Prob (F-statistic):                    5.66e-08\n",
      "Time:                        18:43:17   Log-Likelihood:                         -2.5469\n",
      "No. Observations:                  10   AIC:                                      9.094\n",
      "Df Residuals:                       8   BIC:                                      9.699\n",
      "Df Model:                           2                                                  \n",
      "Covariance Type:            nonrobust                                                  \n",
      "==============================================================================\n",
      "                 coef    std err          t      P>|t|      [0.025      0.975]\n",
      "------------------------------------------------------------------------------\n",
      "x1             0.0408      0.012      3.458      0.009       0.014       0.068\n",
      "x2            -0.0071      0.009     -0.783      0.456      -0.028       0.014\n",
      "==============================================================================\n",
      "Omnibus:                        0.365   Durbin-Watson:                   2.563\n",
      "Prob(Omnibus):                  0.833   Jarque-Bera (JB):                0.333\n",
      "Skew:                           0.332   Prob(JB):                        0.847\n",
      "Kurtosis:                       2.402   Cond. No.                         17.4\n",
      "==============================================================================\n",
      "\n",
      "Warnings:\n",
      "[1] Standard Errors assume that the covariance matrix of the errors is correctly specified.\n"
     ]
    }
   ],
   "source": [
    "print(fit_ols(X_sliced,y))"
   ]
  },
  {
   "cell_type": "markdown",
   "metadata": {},
   "source": [
    "High R-squared values.\n",
    "\n",
    "And if we look at the coefficients\n",
    "\n",
    "\n",
    "x1     |          0.0408      \n",
    "x2     |         -0.0071 \n",
    "\n",
    "\n",
    "They are same as the weights:\n",
    "\n",
    "[[ 0.0408]\n",
    " [-0.0071]]\n",
    " \n",
    " Also if we look at the P-values:  \n",
    " x1 = 0.009  \n",
    " x2 = -0.456 > 0.05   as some amount of correaltion was there between x1 and x2 so it was not completely significant. But yes we can verify how OLS computes weights and why in case of multicolinearity it fails to give out right values of weights for particular features.\n",
    " \n",
    "***\n"
   ]
  }
 ],
 "metadata": {
  "kernelspec": {
   "display_name": "Python 3",
   "language": "python",
   "name": "python3"
  },
  "language_info": {
   "codemirror_mode": {
    "name": "ipython",
    "version": 3
   },
   "file_extension": ".py",
   "mimetype": "text/x-python",
   "name": "python",
   "nbconvert_exporter": "python",
   "pygments_lexer": "ipython3",
   "version": "3.8.5"
  }
 },
 "nbformat": 4,
 "nbformat_minor": 4
}
