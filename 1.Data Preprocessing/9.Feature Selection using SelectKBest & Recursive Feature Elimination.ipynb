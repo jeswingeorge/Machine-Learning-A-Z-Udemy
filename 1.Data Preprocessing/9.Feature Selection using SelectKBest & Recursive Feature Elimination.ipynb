{
 "cells": [
  {
   "cell_type": "markdown",
   "metadata": {},
   "source": [
    "# [Feature Selection using SelectKBest & Recursive Feature Elimination](https://www.youtube.com/watch?v=xlHk4okO8Ls&feature=youtu.be)"
   ]
  },
  {
   "cell_type": "code",
   "execution_count": 1,
   "metadata": {},
   "outputs": [],
   "source": [
    "import pandas as pd\n",
    "import numpy as np\n",
    "import matplotlib.pyplot as plt\n",
    "import seaborn as sns\n",
    "%matplotlib inline\n",
    "sns.set()\n",
    "\n",
    "import warnings\n",
    "warnings.filterwarnings('ignore')\n",
    "\n",
    "np.set_printoptions(precision=3)\n",
    "pd.set_option('display.float_format', lambda x: '%.3f' % x)\n",
    "np.random.seed(8)\n",
    "\n",
    "from sklearn.decomposition import PCA\n",
    "from sklearn.feature_selection import RFE\n",
    "from sklearn.feature_selection import RFECV\n",
    "from sklearn.feature_selection import SelectKBest, chi2\n",
    "from sklearn.linear_model import LogisticRegression\n",
    "from sklearn.metrics import accuracy_score, f1_score\n",
    "from sklearn.metrics import f1_score,confusion_matrix\n",
    "from sklearn.model_selection import train_test_split"
   ]
  },
  {
   "cell_type": "markdown",
   "metadata": {},
   "source": [
    "### [AV  Introduction to Feature Selection methods](https://www.analyticsvidhya.com/blog/2016/12/introduction-to-feature-selection-methods-with-an-example-or-how-to-select-the-right-variables/)\n",
    "\n",
    "![](av_fs1.PNG)\n",
    "\n",
    "![](av_fs2.PNG)\n",
    "\n",
    "__LDA:__ Linear discriminant analysis is used to find a linear combination of features that characterizes or separates two or more classes (or levels) of a categorical variable.\n",
    "\n",
    "([SelectKBest](https://scikit-learn.org/stable/modules/generated/sklearn.feature_selection.SelectKBest.html) can aid in feature selection by showing the feature importance score.)\n",
    "\n",
    "\n",
    "> One thing that should be kept in mind is that filter methods do not remove multicollinearity. So, you must deal with multicollinearity of features as well before training models for your data.\n",
    "\n",
    "![](av_fs3.PNG)\n",
    "\n",
    "[For the implementation of Boruta in python, refer can refer to this article.](http://danielhomola.com/2015/05/08/borutapy-an-all-relevant-feature-selection-method/)"
   ]
  },
  {
   "cell_type": "markdown",
   "metadata": {},
   "source": [
    "![](av_fs4.PNG)\n",
    "\n",
    "![](av_fs5.PNG)"
   ]
  },
  {
   "cell_type": "markdown",
   "metadata": {},
   "source": [
    "##### [Feature selection Github - Bhavesh Bhatt](https://github.com/bhattbhavesh91/GA_Sessions/blob/master/ga_dsmp_5jan2019/16_feature_selection.ipynb)"
   ]
  },
  {
   "cell_type": "code",
   "execution_count": 2,
   "metadata": {},
   "outputs": [],
   "source": [
    "def generate_accuracy_and_heatmap(model, x, y):\n",
    "    #     cm = confusion_matrix(y,model.predict(x))\n",
    "    #     sns.heatmap(cm,annot=True,fmt=\"d\")\n",
    "    ac = accuracy_score(y,model.predict(x))\n",
    "    f_score = f1_score(y,model.predict(x))\n",
    "    print('Accuracy is: ', ac)\n",
    "    print('F1 score is: ', f_score)\n",
    "    print (\"\\n\")\n",
    "    print (pd.crosstab(pd.Series(model.predict(x), name='Predicted'), pd.Series(y['Outcome'],name='Actual')))\n",
    "    return"
   ]
  },
  {
   "cell_type": "markdown",
   "metadata": {},
   "source": [
    "[Difference between selecting features based on “F regression” and based on R2 values?](https://stats.stackexchange.com/questions/204141/difference-between-selecting-features-based-on-f-regression-and-based-on-r2)"
   ]
  },
  {
   "cell_type": "code",
   "execution_count": 3,
   "metadata": {},
   "outputs": [
    {
     "data": {
      "text/plain": [
       "(768, 9)"
      ]
     },
     "execution_count": 3,
     "metadata": {},
     "output_type": "execute_result"
    }
   ],
   "source": [
    "df = pd.read_csv('diabetes.csv')\n",
    "df.shape"
   ]
  },
  {
   "cell_type": "code",
   "execution_count": 4,
   "metadata": {},
   "outputs": [
    {
     "name": "stdout",
     "output_type": "stream",
     "text": [
      "<class 'pandas.core.frame.DataFrame'>\n",
      "RangeIndex: 768 entries, 0 to 767\n",
      "Data columns (total 9 columns):\n",
      " #   Column                    Non-Null Count  Dtype  \n",
      "---  ------                    --------------  -----  \n",
      " 0   Pregnancies               768 non-null    int64  \n",
      " 1   Glucose                   768 non-null    int64  \n",
      " 2   BloodPressure             768 non-null    int64  \n",
      " 3   SkinThickness             768 non-null    int64  \n",
      " 4   Insulin                   768 non-null    int64  \n",
      " 5   BMI                       768 non-null    float64\n",
      " 6   DiabetesPedigreeFunction  768 non-null    float64\n",
      " 7   Age                       768 non-null    int64  \n",
      " 8   Outcome                   768 non-null    int64  \n",
      "dtypes: float64(2), int64(7)\n",
      "memory usage: 54.1 KB\n"
     ]
    }
   ],
   "source": [
    "df.info()"
   ]
  },
  {
   "cell_type": "code",
   "execution_count": 5,
   "metadata": {},
   "outputs": [
    {
     "data": {
      "text/plain": [
       "0    500\n",
       "1    268\n",
       "Name: Outcome, dtype: int64"
      ]
     },
     "execution_count": 5,
     "metadata": {},
     "output_type": "execute_result"
    }
   ],
   "source": [
    "df['Outcome'].value_counts()"
   ]
  },
  {
   "cell_type": "markdown",
   "metadata": {},
   "source": [
    "There are 500 0's and 268 1's so there is a class imbalance. But wont be considering that in this tutorial.0 - Doesnt have diabetes  \n",
    "1 - Have diabetes  \n",
    "#### Creating custom features"
   ]
  },
  {
   "cell_type": "code",
   "execution_count": 6,
   "metadata": {},
   "outputs": [
    {
     "data": {
      "text/html": [
       "<div>\n",
       "<style scoped>\n",
       "    .dataframe tbody tr th:only-of-type {\n",
       "        vertical-align: middle;\n",
       "    }\n",
       "\n",
       "    .dataframe tbody tr th {\n",
       "        vertical-align: top;\n",
       "    }\n",
       "\n",
       "    .dataframe thead th {\n",
       "        text-align: right;\n",
       "    }\n",
       "</style>\n",
       "<table border=\"1\" class=\"dataframe\">\n",
       "  <thead>\n",
       "    <tr style=\"text-align: right;\">\n",
       "      <th></th>\n",
       "      <th>Pregnancies</th>\n",
       "      <th>Glucose</th>\n",
       "      <th>BloodPressure</th>\n",
       "      <th>SkinThickness</th>\n",
       "      <th>Insulin</th>\n",
       "      <th>BMI</th>\n",
       "      <th>DiabetesPedigreeFunction</th>\n",
       "      <th>Age</th>\n",
       "      <th>Outcome</th>\n",
       "      <th>BloodPressureSquare</th>\n",
       "      <th>BloodPressureCube</th>\n",
       "      <th>BloodPressureSqrt</th>\n",
       "      <th>GlucoseSquare</th>\n",
       "      <th>GlucoseCube</th>\n",
       "      <th>GlucoseSqrt</th>\n",
       "      <th>GlucoseBloodPressure</th>\n",
       "      <th>AgeBMI</th>\n",
       "    </tr>\n",
       "  </thead>\n",
       "  <tbody>\n",
       "    <tr>\n",
       "      <th>0</th>\n",
       "      <td>6</td>\n",
       "      <td>148</td>\n",
       "      <td>72</td>\n",
       "      <td>35</td>\n",
       "      <td>0</td>\n",
       "      <td>33.600</td>\n",
       "      <td>0.627</td>\n",
       "      <td>50</td>\n",
       "      <td>1</td>\n",
       "      <td>5184</td>\n",
       "      <td>373248</td>\n",
       "      <td>8.485</td>\n",
       "      <td>21904</td>\n",
       "      <td>3241792</td>\n",
       "      <td>12.166</td>\n",
       "      <td>10656</td>\n",
       "      <td>1680.000</td>\n",
       "    </tr>\n",
       "    <tr>\n",
       "      <th>1</th>\n",
       "      <td>1</td>\n",
       "      <td>85</td>\n",
       "      <td>66</td>\n",
       "      <td>29</td>\n",
       "      <td>0</td>\n",
       "      <td>26.600</td>\n",
       "      <td>0.351</td>\n",
       "      <td>31</td>\n",
       "      <td>0</td>\n",
       "      <td>4356</td>\n",
       "      <td>287496</td>\n",
       "      <td>8.124</td>\n",
       "      <td>7225</td>\n",
       "      <td>614125</td>\n",
       "      <td>9.220</td>\n",
       "      <td>5610</td>\n",
       "      <td>824.600</td>\n",
       "    </tr>\n",
       "    <tr>\n",
       "      <th>2</th>\n",
       "      <td>8</td>\n",
       "      <td>183</td>\n",
       "      <td>64</td>\n",
       "      <td>0</td>\n",
       "      <td>0</td>\n",
       "      <td>23.300</td>\n",
       "      <td>0.672</td>\n",
       "      <td>32</td>\n",
       "      <td>1</td>\n",
       "      <td>4096</td>\n",
       "      <td>262144</td>\n",
       "      <td>8.000</td>\n",
       "      <td>33489</td>\n",
       "      <td>6128487</td>\n",
       "      <td>13.528</td>\n",
       "      <td>11712</td>\n",
       "      <td>745.600</td>\n",
       "    </tr>\n",
       "    <tr>\n",
       "      <th>3</th>\n",
       "      <td>1</td>\n",
       "      <td>89</td>\n",
       "      <td>66</td>\n",
       "      <td>23</td>\n",
       "      <td>94</td>\n",
       "      <td>28.100</td>\n",
       "      <td>0.167</td>\n",
       "      <td>21</td>\n",
       "      <td>0</td>\n",
       "      <td>4356</td>\n",
       "      <td>287496</td>\n",
       "      <td>8.124</td>\n",
       "      <td>7921</td>\n",
       "      <td>704969</td>\n",
       "      <td>9.434</td>\n",
       "      <td>5874</td>\n",
       "      <td>590.100</td>\n",
       "    </tr>\n",
       "    <tr>\n",
       "      <th>4</th>\n",
       "      <td>0</td>\n",
       "      <td>137</td>\n",
       "      <td>40</td>\n",
       "      <td>35</td>\n",
       "      <td>168</td>\n",
       "      <td>43.100</td>\n",
       "      <td>2.288</td>\n",
       "      <td>33</td>\n",
       "      <td>1</td>\n",
       "      <td>1600</td>\n",
       "      <td>64000</td>\n",
       "      <td>6.325</td>\n",
       "      <td>18769</td>\n",
       "      <td>2571353</td>\n",
       "      <td>11.705</td>\n",
       "      <td>5480</td>\n",
       "      <td>1422.300</td>\n",
       "    </tr>\n",
       "  </tbody>\n",
       "</table>\n",
       "</div>"
      ],
      "text/plain": [
       "   Pregnancies  Glucose  BloodPressure  SkinThickness  Insulin    BMI  \\\n",
       "0            6      148             72             35        0 33.600   \n",
       "1            1       85             66             29        0 26.600   \n",
       "2            8      183             64              0        0 23.300   \n",
       "3            1       89             66             23       94 28.100   \n",
       "4            0      137             40             35      168 43.100   \n",
       "\n",
       "   DiabetesPedigreeFunction  Age  Outcome  BloodPressureSquare  \\\n",
       "0                     0.627   50        1                 5184   \n",
       "1                     0.351   31        0                 4356   \n",
       "2                     0.672   32        1                 4096   \n",
       "3                     0.167   21        0                 4356   \n",
       "4                     2.288   33        1                 1600   \n",
       "\n",
       "   BloodPressureCube  BloodPressureSqrt  GlucoseSquare  GlucoseCube  \\\n",
       "0             373248              8.485          21904      3241792   \n",
       "1             287496              8.124           7225       614125   \n",
       "2             262144              8.000          33489      6128487   \n",
       "3             287496              8.124           7921       704969   \n",
       "4              64000              6.325          18769      2571353   \n",
       "\n",
       "   GlucoseSqrt  GlucoseBloodPressure   AgeBMI  \n",
       "0       12.166                 10656 1680.000  \n",
       "1        9.220                  5610  824.600  \n",
       "2       13.528                 11712  745.600  \n",
       "3        9.434                  5874  590.100  \n",
       "4       11.705                  5480 1422.300  "
      ]
     },
     "execution_count": 6,
     "metadata": {},
     "output_type": "execute_result"
    }
   ],
   "source": [
    "df['BloodPressureSquare'] = np.square(df['BloodPressure'])\n",
    "df['BloodPressureCube'] = df['BloodPressure']**3\n",
    "df['BloodPressureSqrt'] = np.sqrt(df['BloodPressure'])\n",
    "df['GlucoseSquare'] = np.square(df['Glucose'])\n",
    "df['GlucoseCube'] = df['Glucose']**3\n",
    "df['GlucoseSqrt'] = np.sqrt(df['Glucose'])\n",
    "df['GlucoseBloodPressure'] = df['BloodPressure'] * df['Glucose']\n",
    "df['AgeBMI'] = df['Age'] * df['BMI']\n",
    "df.head()"
   ]
  },
  {
   "cell_type": "code",
   "execution_count": 7,
   "metadata": {},
   "outputs": [
    {
     "data": {
      "text/plain": [
       "[]"
      ]
     },
     "execution_count": 7,
     "metadata": {},
     "output_type": "execute_result"
    }
   ],
   "source": [
    "categorical_feature_columns = list(set(df.columns) - set(df._get_numeric_data().columns))\n",
    "categorical_feature_columns"
   ]
  },
  {
   "cell_type": "code",
   "execution_count": 8,
   "metadata": {},
   "outputs": [
    {
     "data": {
      "text/plain": [
       "['Pregnancies',\n",
       " 'Glucose',\n",
       " 'BloodPressure',\n",
       " 'SkinThickness',\n",
       " 'Insulin',\n",
       " 'BMI',\n",
       " 'DiabetesPedigreeFunction',\n",
       " 'Age',\n",
       " 'Outcome',\n",
       " 'BloodPressureSquare',\n",
       " 'BloodPressureCube',\n",
       " 'BloodPressureSqrt',\n",
       " 'GlucoseSquare',\n",
       " 'GlucoseCube',\n",
       " 'GlucoseSqrt',\n",
       " 'GlucoseBloodPressure',\n",
       " 'AgeBMI']"
      ]
     },
     "execution_count": 8,
     "metadata": {},
     "output_type": "execute_result"
    }
   ],
   "source": [
    "numerical_feature_columns = list(df._get_numeric_data().columns)\n",
    "numerical_feature_columns"
   ]
  },
  {
   "cell_type": "code",
   "execution_count": 9,
   "metadata": {},
   "outputs": [],
   "source": [
    "target = 'Outcome'\n",
    "k = 15 #number of variables for heatmap"
   ]
  },
  {
   "cell_type": "code",
   "execution_count": 10,
   "metadata": {},
   "outputs": [
    {
     "data": {
      "image/png": "[encoded data removed]",
      "text/plain": [
       "<Figure size 720x432 with 2 Axes>"
      ]
     },
     "metadata": {},
     "output_type": "display_data"
    }
   ],
   "source": [
    "cols = df[numerical_feature_columns].corr().nlargest(k, target)[target].index\n",
    "cm = df[cols].corr()\n",
    "plt.figure(figsize=(10,6));\n",
    "sns.heatmap(cm, annot=True, cmap = 'coolwarm');"
   ]
  },
  {
   "cell_type": "code",
   "execution_count": 11,
   "metadata": {},
   "outputs": [
    {
     "data": {
      "text/plain": [
       "(768, 16)"
      ]
     },
     "execution_count": 11,
     "metadata": {},
     "output_type": "execute_result"
    }
   ],
   "source": [
    "X = df.loc[:, df.columns != target]\n",
    "Y = df.loc[:, df.columns == target]\n",
    "X.shape"
   ]
  },
  {
   "cell_type": "code",
   "execution_count": 12,
   "metadata": {},
   "outputs": [
    {
     "data": {
      "text/plain": [
       "(768, 1)"
      ]
     },
     "execution_count": 12,
     "metadata": {},
     "output_type": "execute_result"
    }
   ],
   "source": [
    "Y.shape"
   ]
  },
  {
   "cell_type": "code",
   "execution_count": 13,
   "metadata": {},
   "outputs": [],
   "source": [
    "x_train, x_test, y_train, y_test = train_test_split(X, Y, test_size=0.33, random_state=8)\n",
    "clf_lr = LogisticRegression()\n",
    "lr_baseline_model = clf_lr.fit(x_train,y_train)"
   ]
  },
  {
   "cell_type": "code",
   "execution_count": 14,
   "metadata": {},
   "outputs": [
    {
     "name": "stdout",
     "output_type": "stream",
     "text": [
      "Accuracy is:  0.7598425196850394\n",
      "F1 score is:  0.6013071895424835\n",
      "\n",
      "\n",
      "Actual      0   1\n",
      "Predicted        \n",
      "0          39  23\n",
      "1          15   8\n"
     ]
    }
   ],
   "source": [
    "generate_accuracy_and_heatmap(lr_baseline_model, x_test, y_test)"
   ]
  },
  {
   "cell_type": "markdown",
   "metadata": {},
   "source": [
    "#### Univariate feature selection"
   ]
  },
  {
   "cell_type": "code",
   "execution_count": 15,
   "metadata": {},
   "outputs": [
    {
     "data": {
      "text/html": [
       "<div>\n",
       "<style scoped>\n",
       "    .dataframe tbody tr th:only-of-type {\n",
       "        vertical-align: middle;\n",
       "    }\n",
       "\n",
       "    .dataframe tbody tr th {\n",
       "        vertical-align: top;\n",
       "    }\n",
       "\n",
       "    .dataframe thead th {\n",
       "        text-align: right;\n",
       "    }\n",
       "</style>\n",
       "<table border=\"1\" class=\"dataframe\">\n",
       "  <thead>\n",
       "    <tr style=\"text-align: right;\">\n",
       "      <th></th>\n",
       "      <th>Features</th>\n",
       "      <th>scores</th>\n",
       "    </tr>\n",
       "  </thead>\n",
       "  <tbody>\n",
       "    <tr>\n",
       "      <th>12</th>\n",
       "      <td>GlucoseCube</td>\n",
       "      <td>140493344.594</td>\n",
       "    </tr>\n",
       "    <tr>\n",
       "      <th>9</th>\n",
       "      <td>BloodPressureCube</td>\n",
       "      <td>916853.946</td>\n",
       "    </tr>\n",
       "    <tr>\n",
       "      <th>11</th>\n",
       "      <td>GlucoseSquare</td>\n",
       "      <td>474020.139</td>\n",
       "    </tr>\n",
       "    <tr>\n",
       "      <th>14</th>\n",
       "      <td>GlucoseBloodPressure</td>\n",
       "      <td>77960.489</td>\n",
       "    </tr>\n",
       "    <tr>\n",
       "      <th>15</th>\n",
       "      <td>AgeBMI</td>\n",
       "      <td>10527.823</td>\n",
       "    </tr>\n",
       "    <tr>\n",
       "      <th>8</th>\n",
       "      <td>BloodPressureSquare</td>\n",
       "      <td>4333.499</td>\n",
       "    </tr>\n",
       "    <tr>\n",
       "      <th>4</th>\n",
       "      <td>Insulin</td>\n",
       "      <td>1026.387</td>\n",
       "    </tr>\n",
       "    <tr>\n",
       "      <th>1</th>\n",
       "      <td>Glucose</td>\n",
       "      <td>924.909</td>\n",
       "    </tr>\n",
       "    <tr>\n",
       "      <th>7</th>\n",
       "      <td>Age</td>\n",
       "      <td>93.008</td>\n",
       "    </tr>\n",
       "    <tr>\n",
       "      <th>5</th>\n",
       "      <td>BMI</td>\n",
       "      <td>71.933</td>\n",
       "    </tr>\n",
       "    <tr>\n",
       "      <th>0</th>\n",
       "      <td>Pregnancies</td>\n",
       "      <td>53.730</td>\n",
       "    </tr>\n",
       "    <tr>\n",
       "      <th>3</th>\n",
       "      <td>SkinThickness</td>\n",
       "      <td>47.760</td>\n",
       "    </tr>\n",
       "    <tr>\n",
       "      <th>13</th>\n",
       "      <td>GlucoseSqrt</td>\n",
       "      <td>20.700</td>\n",
       "    </tr>\n",
       "    <tr>\n",
       "      <th>2</th>\n",
       "      <td>BloodPressure</td>\n",
       "      <td>8.329</td>\n",
       "    </tr>\n",
       "    <tr>\n",
       "      <th>6</th>\n",
       "      <td>DiabetesPedigreeFunction</td>\n",
       "      <td>4.719</td>\n",
       "    </tr>\n",
       "    <tr>\n",
       "      <th>10</th>\n",
       "      <td>BloodPressureSqrt</td>\n",
       "      <td>0.043</td>\n",
       "    </tr>\n",
       "  </tbody>\n",
       "</table>\n",
       "</div>"
      ],
      "text/plain": [
       "                    Features        scores\n",
       "12               GlucoseCube 140493344.594\n",
       "9          BloodPressureCube    916853.946\n",
       "11             GlucoseSquare    474020.139\n",
       "14      GlucoseBloodPressure     77960.489\n",
       "15                    AgeBMI     10527.823\n",
       "8        BloodPressureSquare      4333.499\n",
       "4                    Insulin      1026.387\n",
       "1                    Glucose       924.909\n",
       "7                        Age        93.008\n",
       "5                        BMI        71.933\n",
       "0                Pregnancies        53.730\n",
       "3              SkinThickness        47.760\n",
       "13               GlucoseSqrt        20.700\n",
       "2              BloodPressure         8.329\n",
       "6   DiabetesPedigreeFunction         4.719\n",
       "10         BloodPressureSqrt         0.043"
      ]
     },
     "execution_count": 15,
     "metadata": {},
     "output_type": "execute_result"
    }
   ],
   "source": [
    "select_feature = SelectKBest(chi2, k=5).fit(x_train, y_train)\n",
    "selected_features_df = pd.DataFrame()\n",
    "selected_features_df['Features'] = list(x_train.columns)\n",
    "selected_features_df['scores'] = select_feature.scores_\n",
    "selected_features_df.sort_values(by = 'scores', ascending = False, inplace = True)\n",
    "selected_features_df"
   ]
  },
  {
   "cell_type": "code",
   "execution_count": 16,
   "metadata": {},
   "outputs": [
    {
     "data": {
      "text/plain": [
       "array([[0.000e+00, 7.056e+03, 5.927e+05, 0.000e+00, 0.000e+00],\n",
       "       [0.000e+00, 3.240e+04, 5.832e+06, 0.000e+00, 1.775e+03],\n",
       "       [3.144e+05, 8.836e+03, 8.306e+05, 6.392e+03, 5.460e+02]])"
      ]
     },
     "execution_count": 16,
     "metadata": {},
     "output_type": "execute_result"
    }
   ],
   "source": [
    "x_train_chi = select_feature.transform(x_train)\n",
    "x_test_chi = select_feature.transform(x_test)\n",
    "x_train_chi[:3]\n",
    "# here we have only 5 features as we selected only 5 features from KBest"
   ]
  },
  {
   "cell_type": "code",
   "execution_count": 17,
   "metadata": {},
   "outputs": [
    {
     "name": "stdout",
     "output_type": "stream",
     "text": [
      "Accuracy is:  0.7716535433070866\n",
      "F1 score is:  0.6027397260273972\n",
      "\n",
      "\n",
      "Actual      0   1\n",
      "Predicted        \n",
      "0          41  24\n",
      "1          13   7\n"
     ]
    }
   ],
   "source": [
    "lr_chi_model = clf_lr.fit(x_train_chi,y_train)\n",
    "generate_accuracy_and_heatmap(lr_chi_model, x_test_chi, y_test)"
   ]
  },
  {
   "cell_type": "markdown",
   "metadata": {},
   "source": [
    "So overall accuracy has increased from 0.759 to 0.771. \n",
    "###  Recursive Feature Elimination (RFE)\n",
    "1. [Recursive Feature Elimination (RFE)](https://scikit-learn.org/stable/modules/generated/sklearn.feature_selection.RFE.html)\n",
    "2. [Feature Selection in Python with Scikit-Learn](https://machinelearningmastery.com/feature-selection-in-python-with-scikit-learn/)\n",
    "\n",
    "It is a backward compatible way of doing feature elimination/selection. We built a model and check accuracy and in next \n",
    "step we have option of step = 1 i.e, remove 1 feature and built the model again and see how much variation is done in the \n",
    "accuracy store or the f1-socre or the choosen metric. And if the change is significant enough we change the feature or remove\n",
    " the feature. So here feature importance is determined by how much the accuracy varies when you keep the feature or remove\n",
    " the feature.\n",
    " \n",
    "The disadvantage is that since you have to train the model many times, this approach is multiplicatively slower than the one-and-done.\n",
    "\n",
    "Some of the benefits of using RFE include:\n",
    "- It can be used on very large feature sets.\n",
    "- It does not require knowledge of what each feature represents.\n",
    "- It is compatible with a plethora of different models."
   ]
  },
  {
   "cell_type": "code",
   "execution_count": 18,
   "metadata": {},
   "outputs": [
    {
     "data": {
      "text/html": [
       "<div>\n",
       "<style scoped>\n",
       "    .dataframe tbody tr th:only-of-type {\n",
       "        vertical-align: middle;\n",
       "    }\n",
       "\n",
       "    .dataframe tbody tr th {\n",
       "        vertical-align: top;\n",
       "    }\n",
       "\n",
       "    .dataframe thead th {\n",
       "        text-align: right;\n",
       "    }\n",
       "</style>\n",
       "<table border=\"1\" class=\"dataframe\">\n",
       "  <thead>\n",
       "    <tr style=\"text-align: right;\">\n",
       "      <th></th>\n",
       "      <th>Feature</th>\n",
       "      <th>Ranking</th>\n",
       "    </tr>\n",
       "  </thead>\n",
       "  <tbody>\n",
       "    <tr>\n",
       "      <th>0</th>\n",
       "      <td>Pregnancies</td>\n",
       "      <td>1</td>\n",
       "    </tr>\n",
       "    <tr>\n",
       "      <th>1</th>\n",
       "      <td>Glucose</td>\n",
       "      <td>1</td>\n",
       "    </tr>\n",
       "    <tr>\n",
       "      <th>4</th>\n",
       "      <td>Insulin</td>\n",
       "      <td>1</td>\n",
       "    </tr>\n",
       "    <tr>\n",
       "      <th>5</th>\n",
       "      <td>BMI</td>\n",
       "      <td>1</td>\n",
       "    </tr>\n",
       "    <tr>\n",
       "      <th>7</th>\n",
       "      <td>Age</td>\n",
       "      <td>1</td>\n",
       "    </tr>\n",
       "    <tr>\n",
       "      <th>10</th>\n",
       "      <td>BloodPressureSqrt</td>\n",
       "      <td>1</td>\n",
       "    </tr>\n",
       "    <tr>\n",
       "      <th>13</th>\n",
       "      <td>GlucoseSqrt</td>\n",
       "      <td>1</td>\n",
       "    </tr>\n",
       "    <tr>\n",
       "      <th>15</th>\n",
       "      <td>AgeBMI</td>\n",
       "      <td>1</td>\n",
       "    </tr>\n",
       "    <tr>\n",
       "      <th>2</th>\n",
       "      <td>BloodPressure</td>\n",
       "      <td>2</td>\n",
       "    </tr>\n",
       "    <tr>\n",
       "      <th>14</th>\n",
       "      <td>GlucoseBloodPressure</td>\n",
       "      <td>3</td>\n",
       "    </tr>\n",
       "    <tr>\n",
       "      <th>11</th>\n",
       "      <td>GlucoseSquare</td>\n",
       "      <td>4</td>\n",
       "    </tr>\n",
       "    <tr>\n",
       "      <th>8</th>\n",
       "      <td>BloodPressureSquare</td>\n",
       "      <td>5</td>\n",
       "    </tr>\n",
       "    <tr>\n",
       "      <th>9</th>\n",
       "      <td>BloodPressureCube</td>\n",
       "      <td>6</td>\n",
       "    </tr>\n",
       "    <tr>\n",
       "      <th>3</th>\n",
       "      <td>SkinThickness</td>\n",
       "      <td>7</td>\n",
       "    </tr>\n",
       "    <tr>\n",
       "      <th>12</th>\n",
       "      <td>GlucoseCube</td>\n",
       "      <td>8</td>\n",
       "    </tr>\n",
       "    <tr>\n",
       "      <th>6</th>\n",
       "      <td>DiabetesPedigreeFunction</td>\n",
       "      <td>9</td>\n",
       "    </tr>\n",
       "  </tbody>\n",
       "</table>\n",
       "</div>"
      ],
      "text/plain": [
       "                     Feature  Ranking\n",
       "0                Pregnancies        1\n",
       "1                    Glucose        1\n",
       "4                    Insulin        1\n",
       "5                        BMI        1\n",
       "7                        Age        1\n",
       "10         BloodPressureSqrt        1\n",
       "13               GlucoseSqrt        1\n",
       "15                    AgeBMI        1\n",
       "2              BloodPressure        2\n",
       "14      GlucoseBloodPressure        3\n",
       "11             GlucoseSquare        4\n",
       "8        BloodPressureSquare        5\n",
       "9          BloodPressureCube        6\n",
       "3              SkinThickness        7\n",
       "12               GlucoseCube        8\n",
       "6   DiabetesPedigreeFunction        9"
      ]
     },
     "execution_count": 18,
     "metadata": {},
     "output_type": "execute_result"
    }
   ],
   "source": [
    "rfe = RFE(estimator=clf_lr, step=1)\n",
    "rfe = rfe.fit(x_train, y_train)\n",
    "selected_rfe_features = pd.DataFrame({'Feature':list(x_train.columns), 'Ranking':rfe.ranking_})\n",
    "selected_rfe_features.sort_values(by='Ranking')"
   ]
  },
  {
   "cell_type": "markdown",
   "metadata": {},
   "source": [
    "So those features with Rank = 1 are the most important features. (i.e, 8 columns).\n",
    "\n",
    "So we use the transform function to transform the existing data into the 8 column data."
   ]
  },
  {
   "cell_type": "code",
   "execution_count": 19,
   "metadata": {},
   "outputs": [
    {
     "data": {
      "text/plain": [
       "array([[2.000e+00, 8.400e+01, 0.000e+00, 0.000e+00, 2.100e+01, 0.000e+00,\n",
       "        9.165e+00, 0.000e+00],\n",
       "       [1.000e+00, 1.800e+02, 0.000e+00, 4.330e+01, 4.100e+01, 0.000e+00,\n",
       "        1.342e+01, 1.775e+03],\n",
       "       [2.000e+00, 9.400e+01, 7.600e+01, 2.600e+01, 2.100e+01, 8.246e+00,\n",
       "        9.695e+00, 5.460e+02]])"
      ]
     },
     "execution_count": 19,
     "metadata": {},
     "output_type": "execute_result"
    }
   ],
   "source": [
    "x_train_rfe = rfe.transform(x_train)\n",
    "x_test_rfe = rfe.transform(x_test)\n",
    "x_train_rfe[0:3]"
   ]
  },
  {
   "cell_type": "code",
   "execution_count": 20,
   "metadata": {},
   "outputs": [],
   "source": [
    "lr_rfe_model = clf_lr.fit(x_train_rfe, y_train)"
   ]
  },
  {
   "cell_type": "code",
   "execution_count": 21,
   "metadata": {},
   "outputs": [
    {
     "name": "stdout",
     "output_type": "stream",
     "text": [
      "Accuracy is:  0.7874015748031497\n",
      "F1 score is:  0.6538461538461539\n",
      "\n",
      "\n",
      "Actual      0   1\n",
      "Predicted        \n",
      "0          35  23\n",
      "1          19   8\n"
     ]
    }
   ],
   "source": [
    "generate_accuracy_and_heatmap(lr_rfe_model, x_test_rfe, y_test)"
   ]
  },
  {
   "cell_type": "markdown",
   "metadata": {},
   "source": [
    "So accuracy has further improved from 0.771 to 0.787.\n",
    "\n",
    "### [Recursive Feature Elimination Cross Validation(RFECV)](https://scikit-learn.org/stable/modules/generated/sklearn.feature_selection.RFECV.html)\n",
    "\n",
    "RFECV is a slight tweak to RFE that uses cross-validation to determine the optimal stopping point in terms of numbers of columns (eliminating user choice in the n_features_to_select attribute)."
   ]
  },
  {
   "cell_type": "code",
   "execution_count": 22,
   "metadata": {},
   "outputs": [],
   "source": [
    "rfecv = RFECV(estimator=clf_lr, step=1, cv=5, scoring='accuracy')\n",
    "rfecv = rfecv.fit(x_train, y_train)"
   ]
  },
  {
   "cell_type": "code",
   "execution_count": 23,
   "metadata": {},
   "outputs": [
    {
     "name": "stdout",
     "output_type": "stream",
     "text": [
      "Optimal number of features : 7\n"
     ]
    }
   ],
   "source": [
    "print('Optimal number of features :', rfecv.n_features_)"
   ]
  },
  {
   "cell_type": "code",
   "execution_count": 24,
   "metadata": {},
   "outputs": [
    {
     "name": "stdout",
     "output_type": "stream",
     "text": [
      "Best features : Index(['Pregnancies', 'Glucose', 'BMI', 'Age', 'BloodPressureSqrt',\n",
      "       'GlucoseSqrt', 'AgeBMI'],\n",
      "      dtype='object')\n"
     ]
    }
   ],
   "source": [
    "print('Best features :', x_train.columns[rfecv.support_])"
   ]
  },
  {
   "cell_type": "code",
   "execution_count": 25,
   "metadata": {},
   "outputs": [
    {
     "data": {
      "text/plain": [
       "16"
      ]
     },
     "execution_count": 25,
     "metadata": {},
     "output_type": "execute_result"
    }
   ],
   "source": [
    "len(rfecv.grid_scores_)"
   ]
  },
  {
   "cell_type": "code",
   "execution_count": 26,
   "metadata": {},
   "outputs": [
    {
     "data": {
      "text/plain": [
       "array([0.733, 0.741, 0.749, 0.759, 0.77 , 0.772, 0.776, 0.767, 0.761,\n",
       "       0.757, 0.767, 0.768, 0.763, 0.749, 0.753, 0.761])"
      ]
     },
     "execution_count": 26,
     "metadata": {},
     "output_type": "execute_result"
    }
   ],
   "source": [
    "rfecv.grid_scores_"
   ]
  },
  {
   "cell_type": "code",
   "execution_count": 27,
   "metadata": {},
   "outputs": [
    {
     "data": {
      "image/png": "[encoded data removed]",
      "text/plain": [
       "<Figure size 432x288 with 1 Axes>"
      ]
     },
     "metadata": {},
     "output_type": "display_data"
    }
   ],
   "source": [
    "plt.figure()\n",
    "plt.xlabel(\"Number of features selected\")\n",
    "plt.ylabel(\"Cross validation score of number of selected features\")\n",
    "plt.plot(range(1, len(rfecv.grid_scores_) + 1), rfecv.grid_scores_)\n",
    "plt.show()"
   ]
  },
  {
   "cell_type": "markdown",
   "metadata": {},
   "source": [
    "So the maximum value occurs at 9 (features)."
   ]
  },
  {
   "cell_type": "code",
   "execution_count": 28,
   "metadata": {},
   "outputs": [],
   "source": [
    "x_train_rfecv = rfecv.transform(x_train)\n",
    "x_test_rfecv = rfecv.transform(x_test)\n",
    "lr_rfecv_model = clf_lr.fit(x_train_rfecv, y_train)"
   ]
  },
  {
   "cell_type": "code",
   "execution_count": 29,
   "metadata": {},
   "outputs": [
    {
     "name": "stdout",
     "output_type": "stream",
     "text": [
      "Accuracy is:  0.7795275590551181\n",
      "F1 score is:  0.6410256410256411\n",
      "\n",
      "\n",
      "Actual      0   1\n",
      "Predicted        \n",
      "0          36  23\n",
      "1          18   8\n"
     ]
    }
   ],
   "source": [
    "generate_accuracy_and_heatmap(lr_rfecv_model, x_test_rfecv, y_test)"
   ]
  },
  {
   "cell_type": "markdown",
   "metadata": {},
   "source": [
    "[Using RFE with pipeline](https://stackoverflow.com/a/36698085)"
   ]
  },
  {
   "cell_type": "code",
   "execution_count": null,
   "metadata": {},
   "outputs": [],
   "source": []
  },
  {
   "cell_type": "code",
   "execution_count": null,
   "metadata": {},
   "outputs": [],
   "source": []
  },
  {
   "cell_type": "markdown",
   "metadata": {},
   "source": [
    "[RFE with linear regression](https://www.kaggle.com/arthurtok/feature-ranking-rfe-random-forest-linear-models#3.-Recursive-Feature-Elimination-(-RFE-))"
   ]
  },
  {
   "cell_type": "code",
   "execution_count": null,
   "metadata": {},
   "outputs": [],
   "source": []
  }
 ],
 "metadata": {
  "kernelspec": {
   "display_name": "Python 3",
   "language": "python",
   "name": "python3"
  },
  "language_info": {
   "codemirror_mode": {
    "name": "ipython",
    "version": 3
   },
   "file_extension": ".py",
   "mimetype": "text/x-python",
   "name": "python",
   "nbconvert_exporter": "python",
   "pygments_lexer": "ipython3",
   "version": "3.7.6"
  }
 },
 "nbformat": 4,
 "nbformat_minor": 4
}
