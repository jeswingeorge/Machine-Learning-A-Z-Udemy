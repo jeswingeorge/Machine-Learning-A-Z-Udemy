{
 "cells": [
  {
   "cell_type": "markdown",
   "id": "707dec41",
   "metadata": {},
   "source": [
    "### Deep Learning Introduction\n",
    "\n",
    "Deep Learning is the most exciting and powerful branch of Machine Learning. Deep Learning models can be used for a variety of complex tasks:\n",
    "\n",
    "- Artificial Neural Networks for Regression and Classification\n",
    "- Convolutional Neural Networks for Computer Vision\n",
    "- Recurrent Neural Networks for Time Series Analysis\n",
    "- Self Organizing Maps for Feature Extraction\n",
    "- Deep Boltzmann Machines for Recommendation Systems\n",
    "- Auto Encoders for Recommendation Systems\n",
    "\n",
    "In this part, you will understand and learn how to implement the following Deep Learning models:\n",
    "1. Artificial Neural Networks for a Business Problem\n",
    "2. Convolutional Neural Networks for a Computer Vision task\n"
   ]
  },
  {
   "cell_type": "markdown",
   "id": "405cc47a",
   "metadata": {},
   "source": [
    "In order for Neural network and Deep Learning to work properly you need data and "
   ]
  },
  {
   "cell_type": "code",
   "execution_count": null,
   "id": "b1a49647",
   "metadata": {},
   "outputs": [],
   "source": []
  },
  {
   "cell_type": "code",
   "execution_count": null,
   "id": "d4035a06",
   "metadata": {},
   "outputs": [],
   "source": []
  }
 ],
 "metadata": {
  "kernelspec": {
   "display_name": "Python 3",
   "language": "python",
   "name": "python3"
  },
  "language_info": {
   "codemirror_mode": {
    "name": "ipython",
    "version": 3
   },
   "file_extension": ".py",
   "mimetype": "text/x-python",
   "name": "python",
   "nbconvert_exporter": "python",
   "pygments_lexer": "ipython3",
   "version": "3.8.8"
  }
 },
 "nbformat": 4,
 "nbformat_minor": 5
}
